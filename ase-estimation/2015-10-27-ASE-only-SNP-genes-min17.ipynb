{
 "metadata": {
  "name": "",
  "signature": "sha256:91bfe089f8a000bb028353b707756289dd2621f4ba755f628a1d87915c248a29"
 },
 "nbformat": 3,
 "nbformat_minor": 0,
 "worksheets": [
  {
   "cells": [
    {
     "cell_type": "markdown",
     "metadata": {},
     "source": [
      "## Imports"
     ]
    },
    {
     "cell_type": "code",
     "collapsed": false,
     "input": [
      "# General imports\n",
      "import argparse\n",
      "import sys\n",
      "import vcf\n",
      "import os\n",
      "from collections import defaultdict\n",
      "\n",
      "from scipy import stats as stats\n",
      "from scipy.stats import fisher_exact, mannwhitneyu, wilcoxon, ranksums, chi2_contingency, chisquare\n",
      "# Nice dataframes\n",
      "import pandas as pd\n",
      "import numpy as np\n",
      "import random"
     ],
     "language": "python",
     "metadata": {},
     "outputs": [],
     "prompt_number": 1
    },
    {
     "cell_type": "markdown",
     "metadata": {},
     "source": [
      "## Helper functions"
     ]
    },
    {
     "cell_type": "code",
     "collapsed": false,
     "input": [
      "from collections import defaultdict\n",
      "\n",
      "def filter_vcf(source, expressed_genes):\n",
      "    SNPs = defaultdict(list)\n",
      "    try:\n",
      "        with open(source, \"r\") as infile:\n",
      "            for line in infile:\n",
      "                if line.startswith(\"##\"):\n",
      "                    continue\n",
      "                \n",
      "                line = line.rstrip().split()\n",
      "                GID = line[22][1:-2]\n",
      "                if GID in expressed_genes:\n",
      "                    SNPs[GID].append(line)\n",
      "            return SNPs\n",
      "    except IOError:\n",
      "        print \"File does not exit!\"\n",
      "\n",
      "def read_call(vcf_line, sample):\n",
      "    '''Field format is:\n",
      "        GT:GQ:SDP:DP:RD:AD:FREQ:PVAL:RBQ:ABQ:RDF:RDR:ADF:ADR\n",
      "        0  1  2   3  4  5  6    7    8   9   10  11  12  13\n",
      "    '''\n",
      "    call1 = vcf_line[sample]\n",
      "    POS = int(vcf_line[1])\n",
      "    if call1.split(\":\")[4] == \".\" or call1.split(\":\")[5] == \".\":\n",
      "        return 0, 0, POS\n",
      "    RD = float(call1.split(\":\")[4])\n",
      "    AD = float(call1.split(\":\")[5])\n",
      "    DP = float(call1.split(\":\")[3])\n",
      "    return RD, AD, POS, DP\n",
      "\n",
      "\n",
      "def read_quality(vcf_line, sample):\n",
      "    '''Field format is:\n",
      "        GT:GQ:SDP:DP:RD:AD:FREQ:PVAL:RBQ:ABQ:RDF:RDR:ADF:ADR\n",
      "        0  1  2   3  4  5  6    7    8   9   10  11  12  13\n",
      "    '''\n",
      "    call1 = vcf_line[sample]\n",
      "    RBQ = float(call1.split(\":\")[8])\n",
      "    ABQ = float(call1.split(\":\")[9])\n",
      "    return RBQ, ABQ\n",
      "\n",
      "def read_freq(vcf_line, sample):\n",
      "    '''Field format is:\n",
      "        GT:GQ:SDP:DP:RD:AD:FREQ:PVAL:RBQ:ABQ:RDF:RDR:ADF:ADR\n",
      "        0  1  2   3  4  5  6    7    8   9   10  11  12  13\n",
      "    '''\n",
      "    call1 = vcf_line[sample]\n",
      "    freq = float(call1.split(\":\")[6][:-1])\n",
      "    return freq\n",
      "\n",
      "def binom_test_ase(rd, ad):\n",
      "    '''\n",
      "    RD: Depth of reference-supporting bases (reads1)\n",
      "    AD: Depth of variant-supporting bases (reads2)\n",
      "    This is the chance of observing either more successes, or fewer successes, in all trials.\n",
      "    '''\n",
      "    # Two tailed binomial test\n",
      "    return stats.binom_test(rd, (rd+ad), p=0.5)\n",
      "\n",
      "def random_sample(data, num_samples):\n",
      "    \"Randomly choose num_sample items from data\"\n",
      "    return random.sample(data, num_samples)\n",
      "\n",
      "def anti_log2(i):\n",
      "    return np.power(2, i)\n",
      "\n",
      "def log2(i):\n",
      "    return np.log2(i)"
     ],
     "language": "python",
     "metadata": {},
     "outputs": [],
     "prompt_number": 2
    },
    {
     "cell_type": "markdown",
     "metadata": {},
     "source": [
      "## Input files"
     ]
    },
    {
     "cell_type": "code",
     "collapsed": false,
     "input": [
      "# Strictly filtered SNPS, where a call is valid in all samples\n",
      "input_vcf = [\"../snp-calling/5mismatches/all-tissues/combined/filteredallmin17/HEART_M_5mismatches_filteredallmin17_noclusters_coding_transcript.vcf\",\n",
      "               \"../snp-calling/5mismatches/all-tissues/combined/filteredallmin17/LIVER_M_5mismatches_filteredallmin17_noclusters_coding_transcript.vcf\",\n",
      "               \"../snp-calling/5mismatches/all-tissues/combined/filteredallmin17/SPLEEN_M_5mismatches_filteredallmin17_noclusters_coding_transcript.vcf\",\n",
      "               \"../snp-calling/5mismatches/all-tissues/combined/filteredallmin17/GONAD_M_5mismatches_filteredallmin17_noclusters_coding_transcript.vcf\",]\n",
      "\n",
      "de_gonad = pd.read_csv(\"/data/ucbtzim/ohnolog-dc/differential-expression/2015-10-27-MF-GONAD-detags-edgeR.csv\")\n",
      "de_spleen = pd.read_csv(\"/data/ucbtzim/ohnolog-dc/differential-expression/2015-10-27-MF-SPLEEN-detags-edgeR.csv\")\n",
      "de_heart = pd.read_csv(\"/data/ucbtzim/ohnolog-dc/differential-expression/2015-10-27-MF-HEART-detags-edgeR.csv\")\n",
      "de_liver = pd.read_csv(\"/data/ucbtzim/ohnolog-dc/differential-expression/2015-10-27-MF-LIVER-detags-edgeR.csv\")\n",
      "\n",
      "rpkm_gonad = pd.read_csv(\"/data/ucbtzim/ohnolog-dc/differential-expression/2015-10-27-MF-GONAD-RPKM-NORM-log2-edgeR.csv\")\n",
      "rpkm_spleen = pd.read_csv(\"/data/ucbtzim/ohnolog-dc/differential-expression/2015-10-27-MF-SPLEEN-RPKM-NORM-log2-edgeR.csv\")\n",
      "rpkm_heart = pd.read_csv(\"/data/ucbtzim/ohnolog-dc/differential-expression/2015-10-27-MF-HEART-RPKM-NORM-log2-edgeR.csv\")\n",
      "rpkm_liver = pd.read_csv(\"/data/ucbtzim/ohnolog-dc/differential-expression/2015-10-27-MF-LIVER-RPKM-NORM-log2-edgeR.csv\")"
     ],
     "language": "python",
     "metadata": {},
     "outputs": [],
     "prompt_number": 3
    },
    {
     "cell_type": "code",
     "collapsed": false,
     "input": [
      "def read_gid_to_chr(infile):\n",
      "    '''Reads in a file obtained from Ensembl mapping each gene to its chromosomal location'''\n",
      "    gid_to_chr = {}\n",
      "    with open(infile, \"rb\") as handle:\n",
      "        for line in handle:\n",
      "            if line.startswith(\"Ensembl\"):\n",
      "                continue\n",
      "            else:\n",
      "                line = line.rstrip().split()\n",
      "                gid_to_chr[line[0]] = line[1]\n",
      "    return gid_to_chr\n",
      "\n",
      "gid_to_chr = read_gid_to_chr(\"/data/ucbtzim/ohnolog-dc/dc-comparison/Gallus_gallus.75.gid.chr.tsv\")\n",
      "\n",
      "# Get a list of Z linked gene IDs\n",
      "Z_genes = [g for g, pos in gid_to_chr.items() if pos == \"Z\"]\n",
      "print \"Number of genes (protein coding + non coding) on the Z chromosome:\", len(Z_genes)"
     ],
     "language": "python",
     "metadata": {},
     "outputs": [
      {
       "output_type": "stream",
       "stream": "stdout",
       "text": [
        "Number of genes (protein coding + non coding) on the Z chromosome: 859\n"
       ]
      }
     ],
     "prompt_number": 5
    },
    {
     "cell_type": "code",
     "collapsed": false,
     "input": [
      "comb_gonad = pd.concat([rpkm_gonad, de_gonad], axis=1)\n",
      "comb_heart = pd.concat([rpkm_heart, de_heart], axis=1)\n",
      "comb_liver = pd.concat([rpkm_liver, de_liver], axis=1)\n",
      "comb_spleen = pd.concat([rpkm_spleen, de_spleen], axis=1)\n",
      "\n",
      "print comb_gonad.shape\n",
      "print comb_heart.shape\n",
      "# Liver has one female sample less\n",
      "print comb_liver.shape\n",
      "print comb_spleen.shape"
     ],
     "language": "python",
     "metadata": {},
     "outputs": [
      {
       "output_type": "stream",
       "stream": "stdout",
       "text": [
        "(15550, 12)\n",
        "(15550, 12)\n",
        "(15550, 11)\n",
        "(15550, 12)\n"
       ]
      }
     ],
     "prompt_number": 7
    },
    {
     "cell_type": "code",
     "collapsed": false,
     "input": [
      "# No expression on chromosome 32, excluded\n",
      "chicken_chromosomes = [str(i) for i in range(1, 29)] + [\"Z\"]\n",
      "\n",
      "print \"Valid chromosomes: \", chicken_chromosomes\n",
      "\n",
      "comb_gonad = comb_gonad[comb_gonad.index.map(lambda x: gid_to_chr[x] in chicken_chromosomes)]\n",
      "comb_heart = comb_heart[comb_heart.index.map(lambda x: gid_to_chr[x] in chicken_chromosomes)]\n",
      "comb_liver = comb_liver[comb_liver.index.map(lambda x: gid_to_chr[x] in chicken_chromosomes)]\n",
      "comb_spleen = comb_spleen[comb_spleen.index.map(lambda x: gid_to_chr[x] in chicken_chromosomes)]\n",
      "\n",
      "print comb_gonad.shape\n",
      "print comb_heart.shape\n",
      "print comb_liver.shape\n",
      "print comb_spleen.shape"
     ],
     "language": "python",
     "metadata": {},
     "outputs": [
      {
       "output_type": "stream",
       "stream": "stdout",
       "text": [
        "Valid chromosomes:  ['1', '2', '3', '4', '5', '6', '7', '8', '9', '10', '11', '12', '13', '14', '15', '16', '17', '18', '19', '20', '21', '22', '23', '24', '25', '26', '27', '28', 'Z']\n",
        "(14496, 12)"
       ]
      },
      {
       "output_type": "stream",
       "stream": "stdout",
       "text": [
        "\n",
        "(14496, 12)\n",
        "(14496, 11)\n",
        "(14496, 12)\n"
       ]
      }
     ],
     "prompt_number": 8
    },
    {
     "cell_type": "code",
     "collapsed": false,
     "input": [
      "def filter_cpm(cpm, mincpm):\n",
      "    '''Filter out lowly expressed genes based on a fixed minimum CPM threshold'''\n",
      "    filtered = cpm[cpm[\"logCPM\"] > mincpm]\n",
      "    return filtered\n",
      "\n",
      "# Beware average CPM is log2 transformed.\n",
      "# For avgCPM of 2 use 1 | log2(2) = 1\n",
      "comb_gonad_min2 = filter_cpm(comb_gonad, 1)\n",
      "comb_heart_min2 = filter_cpm(comb_heart, 1)\n",
      "comb_liver_min2 = filter_cpm(comb_liver, 1)\n",
      "comb_spleen_min2 = filter_cpm(comb_spleen, 1)\n"
     ],
     "language": "python",
     "metadata": {},
     "outputs": [],
     "prompt_number": 9
    },
    {
     "cell_type": "code",
     "collapsed": false,
     "input": [
      "def split_dataframe(data, genes):\n",
      "    '''Returns two dataframes. The first return value contains all rows that did match the genes.\n",
      "       The second dataframe contains only genes that did NOT match.\n",
      "    '''\n",
      "    match = data[data.index.isin(genes)]\n",
      "    nomatch = data[~data.index.isin(genes)]\n",
      "    \n",
      "    return match, nomatch\n",
      "\n",
      "# Get a list of Z linked gene IDs\n",
      "Z_genes = [g for g, pos in gid_to_chr.items() if pos == \"Z\"]\n",
      "print \"Number of genes (protein coding + non coding) on the Z chromosome:\", len(Z_genes)\n",
      "print \"\"\n",
      "\n",
      "# Filter the expression so it only contains Z expression\n",
      "Z_comb_gonad_min2, AUTO_comb_gonad_min2 = split_dataframe(comb_gonad_min2, Z_genes)\n",
      "Z_comb_heart_min2, AUTO_comb_heart_min2 = split_dataframe(comb_heart_min2, Z_genes)\n",
      "Z_comb_liver_min2, AUTO_comb_liver_min2 = split_dataframe(comb_liver_min2, Z_genes)\n",
      "Z_comb_spleen_min2, AUTO_comb_spleen_min2 = split_dataframe(comb_spleen_min2, Z_genes)"
     ],
     "language": "python",
     "metadata": {},
     "outputs": [
      {
       "output_type": "stream",
       "stream": "stdout",
       "text": [
        "Number of genes (protein coding + non coding) on the Z chromosome: 859\n",
        "\n"
       ]
      }
     ],
     "prompt_number": 10
    },
    {
     "cell_type": "code",
     "collapsed": false,
     "input": [],
     "language": "python",
     "metadata": {},
     "outputs": [],
     "prompt_number": 10
    },
    {
     "cell_type": "code",
     "collapsed": false,
     "input": [
      "expressed_Z_genes = { \"HEART\":Z_comb_heart_min2.index,\n",
      "                     \"LIVER\":Z_comb_liver_min2.index,\n",
      "                     \"SPLEEN\":Z_comb_spleen_min2.index,\n",
      "                     \"GONAD\":Z_comb_gonad_min2.index}"
     ],
     "language": "python",
     "metadata": {},
     "outputs": [],
     "prompt_number": 11
    },
    {
     "cell_type": "markdown",
     "metadata": {},
     "source": [
      "### Z SNPs in all tissues"
     ]
    },
    {
     "cell_type": "code",
     "collapsed": false,
     "input": [
      "Z_tissue_snps = {}\n",
      "\n",
      "for i, f in enumerate(input_vcf):\n",
      "    tissue = f.split(\"/\")[-1].split(\"_\")[0]\n",
      "    print tissue\n",
      "    SNPs = filter_vcf(f, expressed_Z_genes[tissue])\n",
      "    Z_tissue_snps[tissue] = SNPs"
     ],
     "language": "python",
     "metadata": {},
     "outputs": [
      {
       "output_type": "stream",
       "stream": "stdout",
       "text": [
        "HEART\n",
        "LIVER"
       ]
      },
      {
       "output_type": "stream",
       "stream": "stdout",
       "text": [
        "\n",
        "SPLEEN"
       ]
      },
      {
       "output_type": "stream",
       "stream": "stdout",
       "text": [
        "\n",
        "GONAD"
       ]
      },
      {
       "output_type": "stream",
       "stream": "stdout",
       "text": [
        "\n"
       ]
      }
     ],
     "prompt_number": 12
    },
    {
     "cell_type": "markdown",
     "metadata": {},
     "source": [
      "### Number of genes on the Z with valid SNP calls"
     ]
    },
    {
     "cell_type": "code",
     "collapsed": false,
     "input": [
      "for t in Z_tissue_snps:\n",
      "    print t, len(Z_tissue_snps[t])"
     ],
     "language": "python",
     "metadata": {},
     "outputs": [
      {
       "output_type": "stream",
       "stream": "stdout",
       "text": [
        "HEART 172\n",
        "GONAD 122\n",
        "LIVER 135\n",
        "SPLEEN 268\n"
       ]
      }
     ],
     "prompt_number": 13
    },
    {
     "cell_type": "code",
     "collapsed": false,
     "input": [],
     "language": "python",
     "metadata": {},
     "outputs": [],
     "prompt_number": 13
    },
    {
     "cell_type": "markdown",
     "metadata": {},
     "source": [
      "### Number of SNPs on the Z per tissue"
     ]
    },
    {
     "cell_type": "code",
     "collapsed": false,
     "input": [
      "for t in Z_tissue_snps:\n",
      "    c = 0\n",
      "    for gene in Z_tissue_snps[t]:\n",
      "\n",
      "        c += len(Z_tissue_snps[t][gene])\n",
      "    print t, c"
     ],
     "language": "python",
     "metadata": {},
     "outputs": [
      {
       "output_type": "stream",
       "stream": "stdout",
       "text": [
        "HEART 533\n",
        "GONAD 411\n",
        "LIVER 470\n",
        "SPLEEN 892\n"
       ]
      }
     ],
     "prompt_number": 14
    },
    {
     "cell_type": "code",
     "collapsed": false,
     "input": [],
     "language": "python",
     "metadata": {},
     "outputs": [],
     "prompt_number": 14
    },
    {
     "cell_type": "code",
     "collapsed": false,
     "input": [
      "# Genes taken from http://journals.plos.org/plosgenetics/article?id=10.1371/journal.pgen.1003635\n",
      "# Not all IDs could be mapped\n",
      "livernois_genes = [\"ENSGALG00000010164\", \n",
      "                   \"ENSGALG00000010158\", \n",
      "                   \"ENSGALG00000010160\", \n",
      "                   \"ENSGALG00000010161\", \n",
      "                   \"ENSGALG00000015058\", \n",
      "                   \"ENSGALG00000015105\", \n",
      "                   \"ENSGALG00000015101\", \n",
      "                   \"ENSGALG00000015078\", \n",
      "                   \"ENSGALG00000015071\", \n",
      "                   \"ENSGALG00000014690\", \n",
      "                   \"ENSGALG00000017706\", \n",
      "                   \"ENSGALG00000001869\", \n",
      "                   \"ENSGALG00000002162\", \n",
      "                   \"ENSGALG00000002187\", \n",
      "                   \"ENSGALG00000002294\"]\n",
      "\n",
      "livernois_dict = defaultdict(list)\n",
      "for t in Z_tissue_snps:\n",
      "    for gene in Z_tissue_snps[t]:\n",
      "        if gene in livernois_genes:\n",
      "            livernois_dict[gene].append(t)\n",
      "\n",
      "print len(livernois_dict)\n",
      "for g in livernois_dict:\n",
      "    print g, livernois_dict[g]\n",
      "            "
     ],
     "language": "python",
     "metadata": {},
     "outputs": [
      {
       "output_type": "stream",
       "stream": "stdout",
       "text": [
        "10\n",
        "ENSGALG00000010160 ['GONAD']\n",
        "ENSGALG00000002187 ['HEART', 'GONAD', 'LIVER', 'SPLEEN']\n",
        "ENSGALG00000002162 ['GONAD', 'LIVER']\n",
        "ENSGALG00000010164 ['HEART', 'GONAD', 'LIVER', 'SPLEEN']\n",
        "ENSGALG00000002294 ['SPLEEN']\n",
        "ENSGALG00000010158 ['HEART', 'GONAD', 'LIVER', 'SPLEEN']\n",
        "ENSGALG00000014690 ['SPLEEN']\n",
        "ENSGALG00000015105 ['HEART', 'GONAD', 'SPLEEN']\n",
        "ENSGALG00000015071 ['SPLEEN']\n",
        "ENSGALG00000017706 ['SPLEEN']\n"
       ]
      }
     ],
     "prompt_number": 60
    },
    {
     "cell_type": "markdown",
     "metadata": {},
     "source": [
      "## Calculate which genes on the Z contain SNPs with ASE"
     ]
    },
    {
     "cell_type": "markdown",
     "metadata": {},
     "source": [
      "Note:\n",
      "\n",
      "Instead of calculating the reference allele fraction ourselves, we could also use the varscan2 supplied \"Variant allele frequency\" in this field:\n",
      "\n",
      "```##FORMAT=<ID=FREQ,Number=1,Type=String,Description=\"Variant allele frequency\">```\n",
      "\n",
      "We can use the read_freq function varscan_freq = read_freq(snp,i) and filter like this:\n",
      "\n",
      "```\n",
      "for i in [9, 10, 11, 12]: \n",
      "    RD, AD, POS = read_call(snp, i)\n",
      "    varscan_freq = read_freq(snp,i)\n",
      "    # Check if heterozygote\n",
      "    if RD != 0 and AD != 0:\n",
      "          if binom_test_ase(RD, AD) < 0.05:\n",
      "\n",
      "              if varscan_freq >= 70:\n",
      "                  valid.append(gene)\n",
      "\n",
      "              if varscan_freq <= 30:\n",
      "                  valid.append(gene)\n",
      "```\n",
      "The results are identical, even though varscan calculates the allele frequency a bit differently"
     ]
    },
    {
     "cell_type": "code",
     "collapsed": false,
     "input": [
      "Z_ASE_genes = defaultdict(list)\n",
      "Z_NOASE_genes = defaultdict(list)\n",
      "\n",
      "for t in Z_tissue_snps:\n",
      "\n",
      "    for gene in Z_tissue_snps[t]:\n",
      "\n",
      "        # There may be multiple SNPs per gene\n",
      "        for snp in Z_tissue_snps[t][gene]:\n",
      "            valid = []\n",
      "            rd_ad = []\n",
      "            for i in [9, 10, 11, 12]: \n",
      "                RD, AD, POS, DP = read_call(snp, i)\n",
      "                RBQ, ABQ = read_quality(snp, i)\n",
      "                # Check if heterozygote\n",
      "                if RD != 0 and AD != 0:\n",
      "                    #Check for quality\n",
      "                    if RBQ >= 20 and ABQ >=20:\n",
      "                        ref_allele_fraction = RD/(RD+AD)\n",
      "                        if binom_test_ase(RD, AD) < 0.05:\n",
      "                            if ref_allele_fraction >= 0.7:\n",
      "                                valid.append(gene)\n",
      "                                rd_ad.append((RD,AD))\n",
      "\n",
      "                            if ref_allele_fraction <= 0.3:\n",
      "                                valid.append(gene)\n",
      "                                rd_ad.append((RD,AD))\n",
      "            # If all samples pass the check the gene is valid with ASE\n",
      "            if len(valid) == 4:\n",
      "                Z_ASE_genes[t].append(gene)\n",
      "                # Other SNPs may not pass the threshold, remove those from NOASE list\n",
      "                # Via http://stackoverflow.com/questions/4915920/how-to-delete-an-item-in-a-list-if-it-exists-python\n",
      "                while gene in Z_NOASE_genes[t]:\n",
      "                   Z_NOASE_genes[t].remove(gene)\n",
      "            else:\n",
      "                if not gene in Z_NOASE_genes[t] and not gene in Z_ASE_genes[t]:\n",
      "                    Z_NOASE_genes[t].append(gene)\n",
      "\n",
      "for t in Z_ASE_genes:\n",
      "    print t, len(set(Z_ASE_genes[t])), set(Z_ASE_genes[t])\n",
      "print \"=====\"\n",
      "for t in Z_NOASE_genes:\n",
      "    print t, len(set(Z_NOASE_genes[t]))"
     ],
     "language": "python",
     "metadata": {},
     "outputs": [
      {
       "output_type": "stream",
       "stream": "stdout",
       "text": [
        "HEART 9 set(['ENSGALG00000015082', 'ENSGALG00000014789', 'ENSGALG00000013809', 'ENSGALG00000015617', 'ENSGALG00000021340', 'ENSGALG00000002777', 'ENSGALG00000000428', 'ENSGALG00000026553', 'ENSGALG00000025842'])\n",
        "GONAD 13 set(['ENSGALG00000027891', 'ENSGALG00000015082', 'ENSGALG00000027128', 'ENSGALG00000010158', 'ENSGALG00000003726', 'ENSGALG00000015617', 'ENSGALG00000014857', 'ENSGALG00000027487', 'ENSGALG00000028328', 'ENSGALG00000000428', 'ENSGALG00000025842', 'ENSGALG00000014942', 'ENSGALG00000028137'])\n",
        "LIVER 7 set(['ENSGALG00000015544', 'ENSGALG00000008229', 'ENSGALG00000005423', 'ENSGALG00000015617', 'ENSGALG00000021340', 'ENSGALG00000012613', 'ENSGALG00000000428'])\n",
        "SPLEEN 9 set(['ENSGALG00000015216', 'ENSGALG00000015082', 'ENSGALG00000005814', 'ENSGALG00000014789', 'ENSGALG00000027154', 'ENSGALG00000015617', 'ENSGALG00000005433', 'ENSGALG00000000428', 'ENSGALG00000025842'])\n",
        "=====\n",
        "HEART 163\n",
        "GONAD 109\n",
        "LIVER 128\n",
        "SPLEEN 259\n"
       ]
      }
     ],
     "prompt_number": 16
    },
    {
     "cell_type": "code",
     "collapsed": false,
     "input": [
      "# There should be no overlap\n",
      "for t in Z_ASE_genes:\n",
      "    print set(Z_ASE_genes[t]).intersection(Z_NOASE_genes[t])"
     ],
     "language": "python",
     "metadata": {},
     "outputs": [
      {
       "output_type": "stream",
       "stream": "stdout",
       "text": [
        "set([])\n",
        "set([])\n",
        "set([])\n",
        "set([])\n"
       ]
      }
     ],
     "prompt_number": 17
    },
    {
     "cell_type": "markdown",
     "metadata": {},
     "source": [
      "## The autosomes (repeated all Z analyses for autosomes)"
     ]
    },
    {
     "cell_type": "markdown",
     "metadata": {},
     "source": [
      "## How many SNPs are expressed on the Autosomes?"
     ]
    },
    {
     "cell_type": "code",
     "collapsed": false,
     "input": [
      "expressed_AUTO_genes = { \"HEART\":AUTO_comb_heart_min2.index,\n",
      "                     \"LIVER\":AUTO_comb_liver_min2.index,\n",
      "                     \"SPLEEN\":AUTO_comb_spleen_min2.index,\n",
      "                     \"GONAD\":AUTO_comb_gonad_min2.index}"
     ],
     "language": "python",
     "metadata": {},
     "outputs": [],
     "prompt_number": 26
    },
    {
     "cell_type": "code",
     "collapsed": false,
     "input": [
      "AUTO_tissue_snps = {}\n",
      "\n",
      "for i, f in enumerate(input_vcf):\n",
      "    tissue = f.split(\"/\")[-1].split(\"_\")[0]\n",
      "    SNPs = filter_vcf(f, expressed_AUTO_genes[tissue])\n",
      "    AUTO_tissue_snps[tissue] = SNPs"
     ],
     "language": "python",
     "metadata": {},
     "outputs": [],
     "prompt_number": 27
    },
    {
     "cell_type": "markdown",
     "metadata": {},
     "source": [
      "### Number of genes with SNPs on the Autosomes"
     ]
    },
    {
     "cell_type": "code",
     "collapsed": false,
     "input": [
      "for t in AUTO_tissue_snps:\n",
      "    print t, len(AUTO_tissue_snps[t])"
     ],
     "language": "python",
     "metadata": {},
     "outputs": [
      {
       "output_type": "stream",
       "stream": "stdout",
       "text": [
        "HEART 5143\n",
        "GONAD 2843\n",
        "LIVER 4115\n",
        "SPLEEN 6681\n"
       ]
      }
     ],
     "prompt_number": 28
    },
    {
     "cell_type": "markdown",
     "metadata": {},
     "source": [
      "### Number of SNPs on the Autosomes"
     ]
    },
    {
     "cell_type": "code",
     "collapsed": false,
     "input": [
      "for t in AUTO_tissue_snps:\n",
      "    c = 0\n",
      "    for gene in AUTO_tissue_snps[t]:\n",
      "        c += len(AUTO_tissue_snps[t][gene])\n",
      "    print t, c\n",
      "# Z SNPs\n",
      "for t in Z_tissue_snps:\n",
      "    c = 0\n",
      "    for gene in Z_tissue_snps[t]:\n",
      "\n",
      "        c += len(Z_tissue_snps[t][gene])\n",
      "    print t, c"
     ],
     "language": "python",
     "metadata": {},
     "outputs": [
      {
       "output_type": "stream",
       "stream": "stdout",
       "text": [
        "HEART 25176\n",
        "GONAD 12048\n",
        "LIVER 18787\n",
        "SPLEEN 36678\n",
        "HEART 533\n",
        "GONAD 411\n",
        "LIVER 470\n",
        "SPLEEN 892\n"
       ]
      }
     ],
     "prompt_number": 29
    },
    {
     "cell_type": "markdown",
     "metadata": {},
     "source": [
      "Combination is used as number in supplemental!"
     ]
    },
    {
     "cell_type": "markdown",
     "metadata": {},
     "source": [
      "## Calculate which genes on the Autosomes contain SNPs with ASE"
     ]
    },
    {
     "cell_type": "code",
     "collapsed": false,
     "input": [],
     "language": "python",
     "metadata": {},
     "outputs": [],
     "prompt_number": 39
    },
    {
     "cell_type": "code",
     "collapsed": false,
     "input": [
      "AUTO_ASE_snps= defaultdict(list)\n",
      "AUTO_ASE_genes= defaultdict(list)\n",
      "AUTO_NOASE_genes = defaultdict(list)\n",
      "\n",
      "for t in AUTO_tissue_snps:\n",
      "\n",
      "    for gene in AUTO_tissue_snps[t]:\n",
      "\n",
      "        # There may be multiple SNPs per gene\n",
      "        for snp in AUTO_tissue_snps[t][gene]:\n",
      "            valid = []\n",
      "            rd_ad = []\n",
      "            \n",
      "            for i in [9, 10, 11, 12]: \n",
      "                RD, AD, POS, DP = read_call(snp, i)\n",
      "                RBQ, ABQ = read_quality(snp, i)\n",
      "                # Check if heterozygote\n",
      "                if RD != 0 and AD != 0:\n",
      "                    #Check for quality\n",
      "                    if RBQ >= 20 and ABQ >=20:\n",
      "                        ref_allele_fraction = RD/(RD+AD)\n",
      "                        if binom_test_ase(RD, AD) < 0.05:\n",
      "\n",
      "                            if ref_allele_fraction >= 0.7:\n",
      "                                valid.append(gene)\n",
      "                                rd_ad.append((RD,AD))\n",
      "\n",
      "                            if ref_allele_fraction <= 0.3:\n",
      "                                valid.append(gene)\n",
      "                                rd_ad.append((RD,AD))\n",
      "            # If all samples pass the check the gene is valid with ASE\n",
      "            if len(valid) == 4:\n",
      "                snp = {\"gene\": gene, \"ref_allele_fraction\": ref_allele_fraction, \"p-value\": binom_test_ase(RD, AD), \"pos\": POS}\n",
      "                AUTO_ASE_snps[t].append(snp)\n",
      "                AUTO_ASE_genes[t].append(gene)\n",
      "                # Other SNPs may not pass the threshold, remove those from NOASE list\n",
      "                while gene in AUTO_NOASE_genes[t]:\n",
      "                   AUTO_NOASE_genes[t].remove(gene)\n",
      "            else:\n",
      "                if not gene in AUTO_NOASE_genes[t] and not gene in AUTO_ASE_genes[t]:\n",
      "                    AUTO_NOASE_genes[t].append(gene)"
     ],
     "language": "python",
     "metadata": {},
     "outputs": [],
     "prompt_number": 40
    },
    {
     "cell_type": "code",
     "collapsed": false,
     "input": [
      "for t in AUTO_ASE_genes:\n",
      "    print t, len(set(AUTO_ASE_genes[t]))\n",
      "print \"=====\"\n",
      "for t in AUTO_NOASE_genes:\n",
      "    print t, len(AUTO_NOASE_genes[t])"
     ],
     "language": "python",
     "metadata": {},
     "outputs": [
      {
       "output_type": "stream",
       "stream": "stdout",
       "text": [
        "HEART 234\n",
        "GONAD 197\n",
        "LIVER 189\n",
        "SPLEEN 314\n",
        "=====\n",
        "HEART 4909\n",
        "GONAD 2646\n",
        "LIVER 3926\n",
        "SPLEEN 6367\n"
       ]
      }
     ],
     "prompt_number": 41
    },
    {
     "cell_type": "code",
     "collapsed": false,
     "input": [
      "for t in AUTO_tissue_snps:\n",
      "    print t, len(AUTO_tissue_snps[t])"
     ],
     "language": "python",
     "metadata": {},
     "outputs": [
      {
       "output_type": "stream",
       "stream": "stdout",
       "text": [
        "HEART 5143\n",
        "GONAD 2843\n",
        "LIVER 4115\n",
        "SPLEEN 6681\n"
       ]
      }
     ],
     "prompt_number": 42
    },
    {
     "cell_type": "markdown",
     "metadata": {},
     "source": [
      "## Add multiple correction for all autosomes"
     ]
    },
    {
     "cell_type": "code",
     "collapsed": false,
     "input": [
      "# Use R via rpy2\n",
      "import rpy2.robjects as R\n",
      "\n",
      "def fdr_snps(snps):\n",
      "    '''Corrects the binomal tests using false discovery rate'''\n",
      "    lib = R.r[\"library\"]\n",
      "    lib(\"qvalue\")\n",
      "    corrected = []\n",
      "    p_values = [snp[\"p-value\"] for snp in snps]\n",
      "    padjust = R.r[\"p.adjust\"]\n",
      "    args = {\"p\": R.FloatVector(p_values), \"method\": \"bonferroni\"}\n",
      "    adjusted = list(padjust(**args))\n",
      "    for i, p in enumerate(adjusted):\n",
      "        snps[i][\"padjust\"] =  p\n",
      "    \n",
      "    return snps\n",
      "\n",
      "for t in AUTO_ASE_snps:\n",
      "    AUTO_ASE_snps[t] = fdr_snps(AUTO_ASE_snps[t])\n",
      "    "
     ],
     "language": "python",
     "metadata": {},
     "outputs": [],
     "prompt_number": 43
    },
    {
     "cell_type": "code",
     "collapsed": false,
     "input": [
      "AUTO_ASE_genes_fdr = defaultdict(list)\n",
      "for t in AUTO_ASE_snps:\n",
      "    for snp in AUTO_ASE_snps[t]:\n",
      "        if snp[\"padjust\"] < 0.05:\n",
      "            AUTO_ASE_genes_fdr[t].append(snp[\"gene\"])\n",
      "    AUTO_ASE_genes_fdr[t] = list(set(AUTO_ASE_genes_fdr[t]))\n",
      "\n",
      "for t in AUTO_ASE_genes_fdr:\n",
      "    drop = set(AUTO_ASE_genes[t]).difference(AUTO_ASE_genes_fdr[t])\n",
      "    for g in drop:\n",
      "        AUTO_NOASE_genes[t].append(g)\n",
      "\n",
      "    AUTO_NOASE_genes[t] = list(set(AUTO_NOASE_genes[t]))\n",
      "\n",
      "# There should be no overlap\n",
      "for t in AUTO_ASE_genes_fdr:\n",
      "    print set(AUTO_ASE_genes_fdr[t]).intersection(AUTO_NOASE_genes[t])"
     ],
     "language": "python",
     "metadata": {},
     "outputs": [
      {
       "output_type": "stream",
       "stream": "stdout",
       "text": [
        "set([])\n",
        "set([])\n",
        "set([])\n",
        "set([])\n"
       ]
      }
     ],
     "prompt_number": 56
    },
    {
     "cell_type": "code",
     "collapsed": false,
     "input": [
      "for t in AUTO_ASE_genes_fdr:\n",
      "    print t, len(AUTO_ASE_genes_fdr[t])\n",
      "print \"=====\"\n",
      "for t in AUTO_NOASE_genes:\n",
      "    print t, len(AUTO_NOASE_genes[t])"
     ],
     "language": "python",
     "metadata": {},
     "outputs": [
      {
       "output_type": "stream",
       "stream": "stdout",
       "text": [
        "HEART 222\n",
        "GONAD 160\n",
        "LIVER 171\n",
        "SPLEEN 282\n",
        "=====\n",
        "HEART 4921\n",
        "GONAD 2683\n",
        "LIVER 3944\n",
        "SPLEEN 6399\n"
       ]
      }
     ],
     "prompt_number": 57
    },
    {
     "cell_type": "code",
     "collapsed": false,
     "input": [
      "for t in Z_ASE_genes:\n",
      "    print t, len(set(Z_ASE_genes[t]))\n",
      "print \"=====\"\n",
      "for t in Z_NOASE_genes:\n",
      "    print t, len(set(Z_NOASE_genes[t]))"
     ],
     "language": "python",
     "metadata": {},
     "outputs": [
      {
       "output_type": "stream",
       "stream": "stdout",
       "text": [
        "HEART 9\n",
        "GONAD 13\n",
        "LIVER 7\n",
        "SPLEEN 9\n",
        "=====\n",
        "HEART 163\n",
        "GONAD 109\n",
        "LIVER 128\n",
        "SPLEEN 259\n"
       ]
      }
     ],
     "prompt_number": 58
    },
    {
     "cell_type": "markdown",
     "metadata": {},
     "source": [
      "Comparison between autosomes and Z chromosome in the degree of ASE:"
     ]
    },
    {
     "cell_type": "code",
     "collapsed": false,
     "input": [
      "                                                                     #  ASE no ASE\n",
      "print \"Fisher's exact test (spleen auto vs spleen Z): \", fisher_exact([[282,6399],\n",
      "                                                                      [9, 259]])\n",
      "print \"Fisher's exact test (heart auto vs heart Z): \", fisher_exact([[222,4921],\n",
      "                                                                      [9, 163]])\n",
      "print \"Fisher's exact test (liver auto vs liver Z): \", fisher_exact([[171,3944],\n",
      "                                                                      [7, 128]])\n",
      "print \"Fisher's exact test (gonad auto vs gonad Z): \", fisher_exact([[160,2683],\n",
      "                                                                      [13, 109]])"
     ],
     "language": "python",
     "metadata": {},
     "outputs": [
      {
       "output_type": "stream",
       "stream": "stdout",
       "text": [
        "Fisher's exact test (spleen auto vs spleen Z):  "
       ]
      },
      {
       "output_type": "stream",
       "stream": "stdout",
       "text": [
        "(1.2682189925509195, 0.63948858577228662)\n",
        "Fisher's exact test (heart auto vs heart Z):  (0.81704260651629068, 0.56531497961196331)\n",
        "Fisher's exact test (liver auto vs liver Z):  (0.79281367719501594, 0.51051066524702637)\n",
        "Fisher's exact test (gonad auto vs gonad Z):  (0.50001433527337369, 0.028499977191090979)\n"
       ]
      }
     ],
     "prompt_number": 59
    },
    {
     "cell_type": "markdown",
     "metadata": {},
     "source": [
      "No difference in the degree of ASE in all somatic tissues, marginally significant in gonad."
     ]
    }
   ],
   "metadata": {}
  }
 ]
}