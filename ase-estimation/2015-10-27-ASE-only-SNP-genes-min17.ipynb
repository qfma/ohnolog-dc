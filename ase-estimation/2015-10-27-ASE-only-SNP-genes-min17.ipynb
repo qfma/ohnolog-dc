{
 "metadata": {
  "name": "",
  "signature": "sha256:c559376c1e0cb9dc16e56e310507d4e0ca8286b265fc0a5186a33705d1558b0f"
 },
 "nbformat": 3,
 "nbformat_minor": 0,
 "worksheets": [
  {
   "cells": [
    {
     "cell_type": "markdown",
     "metadata": {},
     "source": [
      "## Imports"
     ]
    },
    {
     "cell_type": "code",
     "collapsed": false,
     "input": [
      "import sys\n",
      "import os\n",
      "from collections import defaultdict\n",
      "\n",
      "from scipy import stats as stats\n",
      "from scipy.stats import fisher_exact, mannwhitneyu, wilcoxon, ranksums, chi2_contingency, chisquare\n",
      "# Nice dataframes\n",
      "import pandas as pd\n",
      "import numpy as np\n",
      "import random"
     ],
     "language": "python",
     "metadata": {},
     "outputs": [],
     "prompt_number": 162
    },
    {
     "cell_type": "markdown",
     "metadata": {},
     "source": [
      "## Helper functions"
     ]
    },
    {
     "cell_type": "code",
     "collapsed": false,
     "input": [
      "from collections import defaultdict\n",
      "\n",
      "def filter_vcf(source, expressed_genes):\n",
      "    SNPs = defaultdict(list)\n",
      "    try:\n",
      "        with open(source, \"r\") as infile:\n",
      "            for line in infile:\n",
      "                if line.startswith(\"##\"):\n",
      "                    continue\n",
      "                line = line.rstrip().split()\n",
      "                GID = line[22][1:-2]\n",
      "                if GID in expressed_genes:\n",
      "                    if is_biallelic(line): \n",
      "                        SNPs[GID].append(line)\n",
      "            return SNPs\n",
      "    except IOError:\n",
      "        print \"File does not exit!\"\n",
      "\n",
      "def is_biallelic(line):\n",
      "    \"Only include biallelic sites\"\n",
      "    # If ALT and REF has exactly one allele pass\n",
      "    # An allele is a string with length 1 eg A or G\n",
      "    if (len(line[3]) == 1 and len(line[4]) == 1):\n",
      "        return True\n",
      "    # In any other case return false\n",
      "    else:\n",
      "#         print line[3], line[4]\n",
      "        return False\n",
      "        \n",
      "        \n",
      "def read_call(vcf_line, sample):\n",
      "    '''Field format is:\n",
      "        GT:GQ:SDP:DP:RD:AD:FREQ:PVAL:RBQ:ABQ:RDF:RDR:ADF:ADR\n",
      "        0  1  2   3  4  5  6    7    8   9   10  11  12  13\n",
      "    '''\n",
      "    call1 = vcf_line[sample]\n",
      "    POS = int(vcf_line[1])\n",
      "    if (call1.split(\":\")[4] == \".\" or call1.split(\":\")[5] == \".\"):\n",
      "        return 0.0, 0.0, POS, DP\n",
      "    RD = float(call1.split(\":\")[4])\n",
      "    AD = float(call1.split(\":\")[5])\n",
      "    DP = float(call1.split(\":\")[3])\n",
      "    return RD, AD, POS, DP\n",
      "\n",
      "\n",
      "def read_quality(vcf_line, sample):\n",
      "    '''Field format is:\n",
      "        GT:GQ:SDP:DP:RD:AD:FREQ:PVAL:RBQ:ABQ:RDF:RDR:ADF:ADR\n",
      "        0  1  2   3  4  5  6    7    8   9   10  11  12  13\n",
      "    '''\n",
      "    call1 = vcf_line[sample]\n",
      "    RBQ = float(call1.split(\":\")[8])\n",
      "    ABQ = float(call1.split(\":\")[9])\n",
      "    return RBQ, ABQ\n",
      "\n",
      "\n",
      "    \n",
      "def read_freq(vcf_line, sample):\n",
      "    '''Field format is:\n",
      "        GT:GQ:SDP:DP:RD:AD:FREQ:PVAL:RBQ:ABQ:RDF:RDR:ADF:ADR\n",
      "        0  1  2   3  4  5  6    7    8   9   10  11  12  13\n",
      "    '''\n",
      "    call1 = vcf_line[sample]\n",
      "    freq = float(call1.split(\":\")[6].strip(\"%\"))/100\n",
      "#     print call1\n",
      "    return freq\n",
      "\n",
      "def binom_test_ase(rd, ad):\n",
      "    '''\n",
      "    RD: Depth of reference-supporting bases (reads1)\n",
      "    AD: Depth of variant-supporting bases (reads2)\n",
      "    This is the chance of observing either more successes, or fewer successes, in all trials.\n",
      "    '''\n",
      "    # Two tailed binomial test\n",
      "    return stats.binom_test(rd, (rd+ad), p=0.5)\n",
      "\n",
      "def random_sample(data, num_samples):\n",
      "    \"Randomly choose num_sample items from data\"\n",
      "    return random.sample(data, num_samples)\n",
      "\n",
      "def anti_log2(i):\n",
      "    return np.power(2, i)\n",
      "\n",
      "def log2(i):\n",
      "    return np.log2(i)"
     ],
     "language": "python",
     "metadata": {},
     "outputs": [],
     "prompt_number": 163
    },
    {
     "cell_type": "markdown",
     "metadata": {},
     "source": [
      "## Input files"
     ]
    },
    {
     "cell_type": "code",
     "collapsed": false,
     "input": [
      "# Strictly filtered SNPS, where a call is valid in all samples\n",
      "input_vcf = [\"../snp-calling/5mismatches/all-tissues/combined/2016-filteredallmin17bin/soma100/HEART_M_5mismatches_filteredallmin17_noclusters_coding_gene.vcf\",\n",
      "               \"../snp-calling/5mismatches/all-tissues/combined/2016-filteredallmin17bin/soma100/LIVER_M_5mismatches_filteredallmin17_noclusters_coding_gene.vcf\",\n",
      "               \"../snp-calling/5mismatches/all-tissues/combined/2016-filteredallmin17bin/soma100/SPLEEN_M_5mismatches_filteredallmin17_noclusters_coding_gene.vcf\",\n",
      "               \"../snp-calling/5mismatches/all-tissues/combined/2016-filteredallmin17bin/gonad51/GONAD_M_5mismatches_filteredallmin17_noclusters_coding_gene.vcf\",]\n",
      "\n",
      "de_gonad = pd.read_csv(\"/data/ucbtzim/ohnolog-dc/differential-expression/2015-10-27-MF-GONAD-detags-edgeR.csv\")\n",
      "de_spleen = pd.read_csv(\"/data/ucbtzim/ohnolog-dc/differential-expression/2015-10-27-MF-SPLEEN-detags-edgeR.csv\")\n",
      "de_heart = pd.read_csv(\"/data/ucbtzim/ohnolog-dc/differential-expression/2015-10-27-MF-HEART-detags-edgeR.csv\")\n",
      "de_liver = pd.read_csv(\"/data/ucbtzim/ohnolog-dc/differential-expression/2015-10-27-MF-LIVER-detags-edgeR.csv\")\n",
      "\n",
      "rpkm_gonad = pd.read_csv(\"/data/ucbtzim/ohnolog-dc/differential-expression/2015-10-27-MF-GONAD-RPKM-NORM-log2-edgeR.csv\")\n",
      "rpkm_spleen = pd.read_csv(\"/data/ucbtzim/ohnolog-dc/differential-expression/2015-10-27-MF-SPLEEN-RPKM-NORM-log2-edgeR.csv\")\n",
      "rpkm_heart = pd.read_csv(\"/data/ucbtzim/ohnolog-dc/differential-expression/2015-10-27-MF-HEART-RPKM-NORM-log2-edgeR.csv\")\n",
      "rpkm_liver = pd.read_csv(\"/data/ucbtzim/ohnolog-dc/differential-expression/2015-10-27-MF-LIVER-RPKM-NORM-log2-edgeR.csv\")\n",
      "\n"
     ],
     "language": "python",
     "metadata": {},
     "outputs": [],
     "prompt_number": 202
    },
    {
     "cell_type": "code",
     "collapsed": false,
     "input": [
      "de_gonad.head()"
     ],
     "language": "python",
     "metadata": {},
     "outputs": [
      {
       "html": [
        "<div style=\"max-height:1000px;max-width:1500px;overflow:auto;\">\n",
        "<table border=\"1\" class=\"dataframe\">\n",
        "  <thead>\n",
        "    <tr style=\"text-align: right;\">\n",
        "      <th></th>\n",
        "      <th>logFC</th>\n",
        "      <th>logCPM</th>\n",
        "      <th>PValue</th>\n",
        "      <th>FDR</th>\n",
        "    </tr>\n",
        "  </thead>\n",
        "  <tbody>\n",
        "    <tr>\n",
        "      <th>ENSGALG00000000386</th>\n",
        "      <td>  8.108556</td>\n",
        "      <td> 6.594766</td>\n",
        "      <td>  0.000000e+00</td>\n",
        "      <td>  0.000000e+00</td>\n",
        "    </tr>\n",
        "    <tr>\n",
        "      <th>ENSGALG00000001756</th>\n",
        "      <td>  8.684406</td>\n",
        "      <td> 7.036651</td>\n",
        "      <td> 9.761462e-316</td>\n",
        "      <td> 7.589536e-312</td>\n",
        "    </tr>\n",
        "    <tr>\n",
        "      <th>ENSGALG00000013312</th>\n",
        "      <td>  9.834955</td>\n",
        "      <td> 5.384945</td>\n",
        "      <td> 9.475218e-253</td>\n",
        "      <td> 4.911321e-249</td>\n",
        "    </tr>\n",
        "    <tr>\n",
        "      <th>ENSGALG00000022674</th>\n",
        "      <td> 12.677968</td>\n",
        "      <td> 5.112837</td>\n",
        "      <td> 3.101470e-219</td>\n",
        "      <td> 1.205696e-215</td>\n",
        "    </tr>\n",
        "    <tr>\n",
        "      <th>ENSGALG00000022679</th>\n",
        "      <td> 12.374174</td>\n",
        "      <td> 4.810069</td>\n",
        "      <td> 2.111286e-215</td>\n",
        "      <td> 6.566100e-212</td>\n",
        "    </tr>\n",
        "  </tbody>\n",
        "</table>\n",
        "</div>"
       ],
       "metadata": {},
       "output_type": "pyout",
       "prompt_number": 203,
       "text": [
        "                        logFC    logCPM         PValue            FDR\n",
        "ENSGALG00000000386   8.108556  6.594766   0.000000e+00   0.000000e+00\n",
        "ENSGALG00000001756   8.684406  7.036651  9.761462e-316  7.589536e-312\n",
        "ENSGALG00000013312   9.834955  5.384945  9.475218e-253  4.911321e-249\n",
        "ENSGALG00000022674  12.677968  5.112837  3.101470e-219  1.205696e-215\n",
        "ENSGALG00000022679  12.374174  4.810069  2.111286e-215  6.566100e-212"
       ]
      }
     ],
     "prompt_number": 203
    },
    {
     "cell_type": "code",
     "collapsed": false,
     "input": [
      "rpkm_gonad.head()"
     ],
     "language": "python",
     "metadata": {},
     "outputs": [
      {
       "html": [
        "<div style=\"max-height:1000px;max-width:1500px;overflow:auto;\">\n",
        "<table border=\"1\" class=\"dataframe\">\n",
        "  <thead>\n",
        "    <tr style=\"text-align: right;\">\n",
        "      <th></th>\n",
        "      <th>WTCHG_23425_05_GONAD_M_1_sequence</th>\n",
        "      <th>WTCHG_23425_04_GONAD_M_1_sequence</th>\n",
        "      <th>WTCHG_23425_12_GONAD_M_1_sequence</th>\n",
        "      <th>WTCHG_23425_06_GONAD_M_1_sequence</th>\n",
        "      <th>WTCHG_23702_04_GONAD_F_1_sequence</th>\n",
        "      <th>WTCHG_23702_05_GONAD_F_1_sequence</th>\n",
        "      <th>WTCHG_23702_12_GONAD_F_1_sequence</th>\n",
        "      <th>WTCHG_23702_06_GONAD_F_1_sequence</th>\n",
        "    </tr>\n",
        "  </thead>\n",
        "  <tbody>\n",
        "    <tr>\n",
        "      <th>ENSGALG00000000003</th>\n",
        "      <td> 2.220145</td>\n",
        "      <td> 2.480927</td>\n",
        "      <td> 2.182589</td>\n",
        "      <td> 2.065128</td>\n",
        "      <td> 1.511206</td>\n",
        "      <td> 1.005258</td>\n",
        "      <td> 1.209041</td>\n",
        "      <td> 1.443923</td>\n",
        "    </tr>\n",
        "    <tr>\n",
        "      <th>ENSGALG00000000004</th>\n",
        "      <td> 3.032695</td>\n",
        "      <td> 3.244164</td>\n",
        "      <td> 2.891725</td>\n",
        "      <td> 2.751503</td>\n",
        "      <td> 2.446796</td>\n",
        "      <td> 2.558455</td>\n",
        "      <td> 2.407342</td>\n",
        "      <td> 2.614145</td>\n",
        "    </tr>\n",
        "    <tr>\n",
        "      <th>ENSGALG00000000011</th>\n",
        "      <td> 3.493343</td>\n",
        "      <td> 3.531948</td>\n",
        "      <td> 3.828556</td>\n",
        "      <td> 3.722546</td>\n",
        "      <td> 3.984308</td>\n",
        "      <td> 3.480030</td>\n",
        "      <td> 3.767212</td>\n",
        "      <td> 3.670157</td>\n",
        "    </tr>\n",
        "    <tr>\n",
        "      <th>ENSGALG00000000013</th>\n",
        "      <td> 3.407879</td>\n",
        "      <td> 3.364665</td>\n",
        "      <td> 3.446097</td>\n",
        "      <td> 3.305962</td>\n",
        "      <td> 3.119093</td>\n",
        "      <td> 3.022892</td>\n",
        "      <td> 3.193507</td>\n",
        "      <td> 3.207058</td>\n",
        "    </tr>\n",
        "    <tr>\n",
        "      <th>ENSGALG00000000014</th>\n",
        "      <td>-0.004977</td>\n",
        "      <td> 0.173711</td>\n",
        "      <td>-0.512172</td>\n",
        "      <td>-0.301640</td>\n",
        "      <td> 0.007394</td>\n",
        "      <td> 0.174725</td>\n",
        "      <td> 0.358401</td>\n",
        "      <td> 0.407864</td>\n",
        "    </tr>\n",
        "  </tbody>\n",
        "</table>\n",
        "</div>"
       ],
       "metadata": {},
       "output_type": "pyout",
       "prompt_number": 204,
       "text": [
        "                    WTCHG_23425_05_GONAD_M_1_sequence  \\\n",
        "ENSGALG00000000003                           2.220145   \n",
        "ENSGALG00000000004                           3.032695   \n",
        "ENSGALG00000000011                           3.493343   \n",
        "ENSGALG00000000013                           3.407879   \n",
        "ENSGALG00000000014                          -0.004977   \n",
        "\n",
        "                    WTCHG_23425_04_GONAD_M_1_sequence  \\\n",
        "ENSGALG00000000003                           2.480927   \n",
        "ENSGALG00000000004                           3.244164   \n",
        "ENSGALG00000000011                           3.531948   \n",
        "ENSGALG00000000013                           3.364665   \n",
        "ENSGALG00000000014                           0.173711   \n",
        "\n",
        "                    WTCHG_23425_12_GONAD_M_1_sequence  \\\n",
        "ENSGALG00000000003                           2.182589   \n",
        "ENSGALG00000000004                           2.891725   \n",
        "ENSGALG00000000011                           3.828556   \n",
        "ENSGALG00000000013                           3.446097   \n",
        "ENSGALG00000000014                          -0.512172   \n",
        "\n",
        "                    WTCHG_23425_06_GONAD_M_1_sequence  \\\n",
        "ENSGALG00000000003                           2.065128   \n",
        "ENSGALG00000000004                           2.751503   \n",
        "ENSGALG00000000011                           3.722546   \n",
        "ENSGALG00000000013                           3.305962   \n",
        "ENSGALG00000000014                          -0.301640   \n",
        "\n",
        "                    WTCHG_23702_04_GONAD_F_1_sequence  \\\n",
        "ENSGALG00000000003                           1.511206   \n",
        "ENSGALG00000000004                           2.446796   \n",
        "ENSGALG00000000011                           3.984308   \n",
        "ENSGALG00000000013                           3.119093   \n",
        "ENSGALG00000000014                           0.007394   \n",
        "\n",
        "                    WTCHG_23702_05_GONAD_F_1_sequence  \\\n",
        "ENSGALG00000000003                           1.005258   \n",
        "ENSGALG00000000004                           2.558455   \n",
        "ENSGALG00000000011                           3.480030   \n",
        "ENSGALG00000000013                           3.022892   \n",
        "ENSGALG00000000014                           0.174725   \n",
        "\n",
        "                    WTCHG_23702_12_GONAD_F_1_sequence  \\\n",
        "ENSGALG00000000003                           1.209041   \n",
        "ENSGALG00000000004                           2.407342   \n",
        "ENSGALG00000000011                           3.767212   \n",
        "ENSGALG00000000013                           3.193507   \n",
        "ENSGALG00000000014                           0.358401   \n",
        "\n",
        "                    WTCHG_23702_06_GONAD_F_1_sequence  \n",
        "ENSGALG00000000003                           1.443923  \n",
        "ENSGALG00000000004                           2.614145  \n",
        "ENSGALG00000000011                           3.670157  \n",
        "ENSGALG00000000013                           3.207058  \n",
        "ENSGALG00000000014                           0.407864  "
       ]
      }
     ],
     "prompt_number": 204
    },
    {
     "cell_type": "code",
     "collapsed": false,
     "input": [
      "def read_gid_to_chr(infile):\n",
      "    '''Reads in a file obtained from Ensembl mapping each gene to its chromosomal location'''\n",
      "    gid_to_chr = {}\n",
      "    with open(infile, \"rb\") as handle:\n",
      "        for line in handle:\n",
      "            if line.startswith(\"Ensembl\"):\n",
      "                continue\n",
      "            else:\n",
      "                line = line.rstrip().split()\n",
      "                gid_to_chr[line[0]] = line[1]\n",
      "    return gid_to_chr\n",
      "\n",
      "# gid_to_chr = read_gid_to_chr(\"/data/ucbtzim/ohnolog-dc/dc-comparison/Gallus_gallus.75.gid.chr.tsv\")\n",
      "\n",
      "gid_to_chr = read_gid_to_chr(\"/data/ucbtzim/ohnolog-dc/dc-comparison/Gallus_gallus.75.gid.chr.proteincoding.tsv\")\n",
      "# Get a list of Z linked gene IDs\n",
      "Z_genes = [g for g, pos in gid_to_chr.items() if pos == \"Z\"]\n",
      "print \"Number of genes (protein coding + non coding) on the Z chromosome:\", len(Z_genes)"
     ],
     "language": "python",
     "metadata": {},
     "outputs": [
      {
       "output_type": "stream",
       "stream": "stdout",
       "text": [
        "Number of genes (protein coding + non coding) on the Z chromosome: 764\n"
       ]
      }
     ],
     "prompt_number": 205
    },
    {
     "cell_type": "code",
     "collapsed": false,
     "input": [
      "comb_gonad = pd.concat([rpkm_gonad, de_gonad], axis=1)\n",
      "comb_heart = pd.concat([rpkm_heart, de_heart], axis=1)\n",
      "comb_liver = pd.concat([rpkm_liver, de_liver], axis=1)\n",
      "comb_spleen = pd.concat([rpkm_spleen, de_spleen], axis=1)\n",
      "\n",
      "print comb_gonad.shape\n",
      "print comb_heart.shape\n",
      "# Liver has one female sample less\n",
      "print comb_liver.shape\n",
      "print comb_spleen.shape"
     ],
     "language": "python",
     "metadata": {},
     "outputs": [
      {
       "output_type": "stream",
       "stream": "stdout",
       "text": [
        "(15550, 12)\n",
        "(15550, 12)\n",
        "(15550, 11)\n",
        "(15550, 12)\n"
       ]
      }
     ],
     "prompt_number": 206
    },
    {
     "cell_type": "code",
     "collapsed": false,
     "input": [
      "# No expression on chromosome 32, excluded\n",
      "chicken_chromosomes = [str(i) for i in range(1, 29)] + [\"Z\"]\n",
      "\n",
      "print \"Valid chromosomes: \", chicken_chromosomes\n",
      "\n",
      "comb_gonad = comb_gonad[comb_gonad.index.map(lambda x: gid_to_chr[x] in chicken_chromosomes)]\n",
      "comb_heart = comb_heart[comb_heart.index.map(lambda x: gid_to_chr[x] in chicken_chromosomes)]\n",
      "comb_liver = comb_liver[comb_liver.index.map(lambda x: gid_to_chr[x] in chicken_chromosomes)]\n",
      "comb_spleen = comb_spleen[comb_spleen.index.map(lambda x: gid_to_chr[x] in chicken_chromosomes)]\n",
      "\n",
      "print comb_gonad.shape\n",
      "print comb_heart.shape\n",
      "print comb_liver.shape\n",
      "print comb_spleen.shape"
     ],
     "language": "python",
     "metadata": {},
     "outputs": [
      {
       "output_type": "stream",
       "stream": "stdout",
       "text": [
        "Valid chromosomes:  ['1', '2', '3', '4', '5', '6', '7', '8', '9', '10', '11', '12', '13', '14', '15', '16', '17', '18', '19', '20', '21', '22', '23', '24', '25', '26', '27', '28', 'Z']\n",
        "(14496, 12)\n",
        "(14496, 12)\n",
        "(14496, 11)\n",
        "(14496, 12)\n"
       ]
      }
     ],
     "prompt_number": 247
    },
    {
     "cell_type": "code",
     "collapsed": false,
     "input": [
      "def filter_cpm(cpm, mincpm):\n",
      "    '''Filter out lowly expressed genes based on a fixed minimum CPM threshold'''\n",
      "    filtered = cpm[cpm[\"logCPM\"] > mincpm]\n",
      "    return filtered\n",
      "\n",
      "# Beware average CPM is log2 transformed.\n",
      "# For avgCPM of 2 use 1 | log2(2) = 1\n",
      "comb_gonad_min2 = filter_cpm(comb_gonad, 1)\n",
      "comb_heart_min2 = filter_cpm(comb_heart, 1)\n",
      "comb_liver_min2 = filter_cpm(comb_liver, 1)\n",
      "comb_spleen_min2 = filter_cpm(comb_spleen, 1)\n",
      "\n",
      "print comb_gonad_min2.shape\n",
      "print comb_heart_min2.shape\n",
      "print comb_liver_min2.shape\n",
      "print comb_spleen_min2.shape"
     ],
     "language": "python",
     "metadata": {},
     "outputs": [
      {
       "output_type": "stream",
       "stream": "stdout",
       "text": [
        "(11944, 12)\n",
        "(9971, 12)\n",
        "(9383, 11)\n",
        "(10847, 12)\n"
       ]
      }
     ],
     "prompt_number": 246
    },
    {
     "cell_type": "code",
     "collapsed": false,
     "input": [
      "def split_dataframe(data, genes):\n",
      "    '''Returns two dataframes. The first return value contains all rows that did match the genes.\n",
      "       The second dataframe contains only genes that did NOT match.\n",
      "    '''\n",
      "    match = data[data.index.isin(genes)]\n",
      "    nomatch = data[~data.index.isin(genes)]\n",
      "    \n",
      "    return match, nomatch\n",
      "\n",
      "# Get a list of Z linked gene IDs\n",
      "Z_genes = [g for g, pos in gid_to_chr.items() if pos == \"Z\"]\n",
      "print \"Number of genes (protein coding + non coding) on the Z chromosome:\", len(Z_genes)\n",
      "print \"\"\n",
      "\n",
      "# Filter the expression so it only contains Z expression\n",
      "Z_comb_gonad_min2, AUTO_comb_gonad_min2 = split_dataframe(comb_gonad_min2, Z_genes)\n",
      "Z_comb_heart_min2, AUTO_comb_heart_min2 = split_dataframe(comb_heart_min2, Z_genes)\n",
      "Z_comb_liver_min2, AUTO_comb_liver_min2 = split_dataframe(comb_liver_min2, Z_genes)\n",
      "Z_comb_spleen_min2, AUTO_comb_spleen_min2 = split_dataframe(comb_spleen_min2, Z_genes)"
     ],
     "language": "python",
     "metadata": {},
     "outputs": [
      {
       "output_type": "stream",
       "stream": "stdout",
       "text": [
        "Number of genes (protein coding + non coding) on the Z chromosome: 764\n",
        "\n"
       ]
      }
     ],
     "prompt_number": 226
    },
    {
     "cell_type": "code",
     "collapsed": false,
     "input": [
      "expressed_Z_genes = { \"HEART\":Z_comb_heart_min2.index,\n",
      "                     \"LIVER\":Z_comb_liver_min2.index,\n",
      "                     \"SPLEEN\":Z_comb_spleen_min2.index,\n",
      "                     \"GONAD\":Z_comb_gonad_min2.index}\n",
      "for i in expressed_Z_genes:\n",
      "    print i, len(expressed_Z_genes[i])\n",
      "# print expressed_Z_genes[\"HEART\"]"
     ],
     "language": "python",
     "metadata": {},
     "outputs": [
      {
       "output_type": "stream",
       "stream": "stdout",
       "text": [
        "HEART 493\n",
        "GONAD 604\n",
        "LIVER 445\n",
        "SPLEEN 529\n"
       ]
      }
     ],
     "prompt_number": 227
    },
    {
     "cell_type": "markdown",
     "metadata": {},
     "source": [
      "### Z SNPs in all tissues"
     ]
    },
    {
     "cell_type": "code",
     "collapsed": false,
     "input": [
      "Z_tissue_snps = {}\n",
      "\n",
      "for i, f in enumerate(input_vcf):\n",
      "    tissue = f.split(\"/\")[-1].split(\"_\")[0]\n",
      "    print tissue\n",
      "    SNPs = filter_vcf(f, expressed_Z_genes[tissue])\n",
      "    Z_tissue_snps[tissue] = SNPs"
     ],
     "language": "python",
     "metadata": {},
     "outputs": [
      {
       "output_type": "stream",
       "stream": "stdout",
       "text": [
        "HEART\n",
        "LIVER"
       ]
      },
      {
       "output_type": "stream",
       "stream": "stdout",
       "text": [
        "\n",
        "SPLEEN"
       ]
      },
      {
       "output_type": "stream",
       "stream": "stdout",
       "text": [
        "\n",
        "GONAD"
       ]
      },
      {
       "output_type": "stream",
       "stream": "stdout",
       "text": [
        "\n"
       ]
      }
     ],
     "prompt_number": 228
    },
    {
     "cell_type": "markdown",
     "metadata": {},
     "source": [
      "### Number of genes on the Z with valid SNP calls"
     ]
    },
    {
     "cell_type": "code",
     "collapsed": false,
     "input": [
      "for t in Z_tissue_snps:\n",
      "    print t, len(Z_tissue_snps[t])"
     ],
     "language": "python",
     "metadata": {},
     "outputs": [
      {
       "output_type": "stream",
       "stream": "stdout",
       "text": [
        "HEART 171\n",
        "GONAD 122\n",
        "LIVER 135\n",
        "SPLEEN 269\n"
       ]
      }
     ],
     "prompt_number": 229
    },
    {
     "cell_type": "markdown",
     "metadata": {},
     "source": [
      "### Number of SNPs on the Z per tissue"
     ]
    },
    {
     "cell_type": "code",
     "collapsed": false,
     "input": [
      "for t in Z_tissue_snps:\n",
      "    c = 0\n",
      "    for gene in Z_tissue_snps[t]:\n",
      "\n",
      "        c += len(Z_tissue_snps[t][gene])\n",
      "    print t, c"
     ],
     "language": "python",
     "metadata": {},
     "outputs": [
      {
       "output_type": "stream",
       "stream": "stdout",
       "text": [
        "HEART 503\n",
        "GONAD 405\n",
        "LIVER 439\n",
        "SPLEEN 826\n"
       ]
      }
     ],
     "prompt_number": 230
    },
    {
     "cell_type": "code",
     "collapsed": false,
     "input": [
      "# Genes taken from http://journals.plos.org/plosgenetics/article?id=10.1371/journal.pgen.1003635\n",
      "# Not all IDs could be mapped\n",
      "livernois_genes = [\"ENSGALG00000010164\", # SMARCA2\n",
      "                   \"ENSGALG00000010158\", # Kank1\n",
      "                   \"ENSGALG00000010160\", # DMRT1\n",
      "                   \"ENSGALG00000010161\", # DMRT3\n",
      "                   \"ENSGALG00000015058\", # PTPRD\n",
      "                   \"ENSGALG00000015105\", # PSIP1\n",
      "                   \"ENSGALG00000015101\", # BNC2\n",
      "                   \"ENSGALG00000015078\", # MLLT3\n",
      "                   \"ENSGALG00000015071\", # FOCAD\n",
      "                   \"ENSGALG00000014690\", # SLC12A2\n",
      "                   \"ENSGALG00000017706\", # RASA1\n",
      "                   \"ENSGALG00000001869\", # LRRN6C, LINGO2\n",
      "                   \"ENSGALG00000002162\", # ACO1\n",
      "                   \"ENSGALG00000002187\", # HSD17B4\n",
      "                   \"ENSGALG00000002294\"] # SEMA6A\n",
      "\n",
      "livernois_dict = defaultdict(list)\n",
      "for t in Z_tissue_snps:\n",
      "    for gene in Z_tissue_snps[t]:\n",
      "        if gene in livernois_genes:\n",
      "            livernois_dict[gene].append(t)\n",
      "\n",
      "print len(livernois_dict)\n",
      "for g in livernois_dict:\n",
      "    print g, livernois_dict[g]\n",
      "            "
     ],
     "language": "python",
     "metadata": {},
     "outputs": [
      {
       "output_type": "stream",
       "stream": "stdout",
       "text": [
        "10\n",
        "ENSGALG00000010160 ['GONAD']\n",
        "ENSGALG00000002187 ['HEART', 'GONAD', 'LIVER', 'SPLEEN']\n",
        "ENSGALG00000002162 ['GONAD', 'LIVER']\n",
        "ENSGALG00000010164 ['HEART', 'GONAD', 'LIVER', 'SPLEEN']\n",
        "ENSGALG00000002294 ['SPLEEN']\n",
        "ENSGALG00000010158 ['HEART', 'GONAD', 'LIVER', 'SPLEEN']\n",
        "ENSGALG00000014690 ['SPLEEN']\n",
        "ENSGALG00000015105 ['HEART', 'GONAD', 'SPLEEN']\n",
        "ENSGALG00000015071 ['SPLEEN']\n",
        "ENSGALG00000017706 ['SPLEEN']\n"
       ]
      }
     ],
     "prompt_number": 231
    },
    {
     "cell_type": "markdown",
     "metadata": {},
     "source": [
      "## Calculate which genes on the Z contain SNPs with ASE"
     ]
    },
    {
     "cell_type": "markdown",
     "metadata": {},
     "source": [
      "Note:\n",
      "\n",
      "Instead of calculating the reference allele fraction ourselves, we could also use the varscan2 supplied \"Variant allele frequency\" in this field:\n",
      "\n",
      "```##FORMAT=<ID=FREQ,Number=1,Type=String,Description=\"Variant allele frequency\">```\n",
      "\n",
      "We can use the read_freq function varscan_freq = read_freq(snp,i) and filter like this:\n",
      "\n",
      "```\n",
      "for i in [9, 10, 11, 12]: \n",
      "    RD, AD, POS = read_call(snp, i)\n",
      "    varscan_freq = read_freq(snp,i)\n",
      "    # Check if heterozygote\n",
      "    if RD != 0 and AD != 0:\n",
      "          if binom_test_ase(RD, AD) < 0.05:\n",
      "\n",
      "              if varscan_freq >= 0.7:\n",
      "                  valid.append(gene)\n",
      "\n",
      "              if varscan_freq <= 0.3:\n",
      "                  valid.append(gene)\n",
      "```\n",
      "The results are identical, even though varscan calculates the allele frequency a bit differently"
     ]
    },
    {
     "cell_type": "code",
     "collapsed": false,
     "input": [
      "Z_ASE_genes = defaultdict(list)\n",
      "Z_NOASE_genes = defaultdict(list)\n",
      "\n",
      "for t in Z_tissue_snps:\n",
      "\n",
      "    for gene in Z_tissue_snps[t]:\n",
      "\n",
      "        # There may be multiple SNPs per gene\n",
      "        for snp in Z_tissue_snps[t][gene]:\n",
      "            valid = []\n",
      "            rd_ad = []\n",
      "            for i in [9, 10, 11, 12]: \n",
      "                RD, AD, POS, DP = read_call(snp, i)\n",
      "                RBQ, ABQ = read_quality(snp, i)\n",
      "                # Check if heterozygote\n",
      "                if (RD != 0 and AD != 0):\n",
      "                    #Check for quality\n",
      "                    if (RBQ >= 20 and ABQ >=20):\n",
      "                        ref_allele_fraction = RD/(RD+AD)\n",
      "#                         print type(RD), type(AD), type(ref_allele_fraction), ref_allele_fraction\n",
      "                        if binom_test_ase(RD, AD) < 0.05:\n",
      "                            if ref_allele_fraction >= 0.7:\n",
      "                                valid.append(gene)\n",
      "                                rd_ad.append((RD,AD))\n",
      "\n",
      "                            if ref_allele_fraction <= 0.3:\n",
      "                                valid.append(gene)\n",
      "                                rd_ad.append((RD,AD))\n",
      "            # If all samples pass the check the gene is valid with ASE\n",
      "            if len(valid) == 4:\n",
      "                Z_ASE_genes[t].append(gene)\n",
      "                # Other SNPs may not pass the threshold, remove those from NOASE list\n",
      "                # Via http://stackoverflow.com/questions/4915920/how-to-delete-an-item-in-a-list-if-it-exists-python\n",
      "                while gene in Z_NOASE_genes[t]:\n",
      "                   Z_NOASE_genes[t].remove(gene)\n",
      "            else:\n",
      "                if gene not in Z_NOASE_genes[t] and gene not in Z_ASE_genes[t]:\n",
      "                    Z_NOASE_genes[t].append(gene)\n",
      "\n",
      "for t in Z_ASE_genes:\n",
      "    print t, len(set(Z_ASE_genes[t])), set(Z_ASE_genes[t])\n",
      "print \"=====\"\n",
      "for t in Z_NOASE_genes:\n",
      "    print t, len(set(Z_NOASE_genes[t]))"
     ],
     "language": "python",
     "metadata": {},
     "outputs": [
      {
       "output_type": "stream",
       "stream": "stdout",
       "text": [
        "HEART 7 set(['ENSGALG00000014789', 'ENSGALG00000013809', 'ENSGALG00000015617', 'ENSGALG00000021340', 'ENSGALG00000000428', 'ENSGALG00000026553', 'ENSGALG00000025842'])\n",
        "GONAD 13 set(['ENSGALG00000027891', 'ENSGALG00000015082', 'ENSGALG00000027128', 'ENSGALG00000010158', 'ENSGALG00000003726', 'ENSGALG00000015617', 'ENSGALG00000014857', 'ENSGALG00000027487', 'ENSGALG00000028328', 'ENSGALG00000000428', 'ENSGALG00000025842', 'ENSGALG00000014942', 'ENSGALG00000028137'])\n",
        "LIVER 7 set(['ENSGALG00000015544', 'ENSGALG00000008229', 'ENSGALG00000005423', 'ENSGALG00000015617', 'ENSGALG00000021340', 'ENSGALG00000012613', 'ENSGALG00000000428'])\n",
        "SPLEEN 10 set(['ENSGALG00000015216', 'ENSGALG00000015082', 'ENSGALG00000005814', 'ENSGALG00000014789', 'ENSGALG00000027154', 'ENSGALG00000015617', 'ENSGALG00000014857', 'ENSGALG00000005433', 'ENSGALG00000000428', 'ENSGALG00000025842'])\n",
        "=====\n",
        "HEART 164\n",
        "GONAD 109\n",
        "LIVER 128\n",
        "SPLEEN 259\n"
       ]
      }
     ],
     "prompt_number": 232
    },
    {
     "cell_type": "code",
     "collapsed": false,
     "input": [
      "# There should be no overlap\n",
      "for t in Z_ASE_genes:\n",
      "    print set(Z_ASE_genes[t]).intersection(Z_NOASE_genes[t])"
     ],
     "language": "python",
     "metadata": {},
     "outputs": [
      {
       "output_type": "stream",
       "stream": "stdout",
       "text": [
        "set([])\n",
        "set([])\n",
        "set([])\n",
        "set([])\n"
       ]
      }
     ],
     "prompt_number": 233
    },
    {
     "cell_type": "markdown",
     "metadata": {},
     "source": [
      "## The autosomes (repeated all Z analyses for autosomes)"
     ]
    },
    {
     "cell_type": "markdown",
     "metadata": {},
     "source": [
      "## How many SNPs are expressed on the Autosomes?"
     ]
    },
    {
     "cell_type": "code",
     "collapsed": false,
     "input": [
      "expressed_AUTO_genes = { \"HEART\":AUTO_comb_heart_min2.index,\n",
      "                     \"LIVER\":AUTO_comb_liver_min2.index,\n",
      "                     \"SPLEEN\":AUTO_comb_spleen_min2.index,\n",
      "                     \"GONAD\":AUTO_comb_gonad_min2.index}\n",
      "\n",
      "for i in expressed_AUTO_genes:\n",
      "    print i, len(expressed_AUTO_genes[i])\n",
      "# print expressed_AUTO_genes[\"HEART\"]"
     ],
     "language": "python",
     "metadata": {},
     "outputs": [
      {
       "output_type": "stream",
       "stream": "stdout",
       "text": [
        "HEART 9478\n",
        "GONAD 11340\n",
        "LIVER 8938\n",
        "SPLEEN 10318\n"
       ]
      }
     ],
     "prompt_number": 234
    },
    {
     "cell_type": "code",
     "collapsed": false,
     "input": [
      "AUTO_tissue_snps = {}\n",
      "\n",
      "for i, f in enumerate(input_vcf):\n",
      "    tissue = f.split(\"/\")[-1].split(\"_\")[0]\n",
      "    SNPs = filter_vcf(f, expressed_AUTO_genes[tissue])\n",
      "    AUTO_tissue_snps[tissue] = SNPs"
     ],
     "language": "python",
     "metadata": {},
     "outputs": [],
     "prompt_number": 235
    },
    {
     "cell_type": "markdown",
     "metadata": {},
     "source": [
      "### Number of genes with SNPs on the Autosomes"
     ]
    },
    {
     "cell_type": "code",
     "collapsed": false,
     "input": [
      "for t in AUTO_tissue_snps:\n",
      "    print t, len(AUTO_tissue_snps[t])"
     ],
     "language": "python",
     "metadata": {},
     "outputs": [
      {
       "output_type": "stream",
       "stream": "stdout",
       "text": [
        "HEART 5139\n",
        "GONAD 2843\n",
        "LIVER 4114\n",
        "SPLEEN 6677\n"
       ]
      }
     ],
     "prompt_number": 236
    },
    {
     "cell_type": "markdown",
     "metadata": {},
     "source": [
      "### Number of SNPs on the Autosomes"
     ]
    },
    {
     "cell_type": "code",
     "collapsed": false,
     "input": [
      "for t in AUTO_tissue_snps:\n",
      "    c = 0\n",
      "    for gene in AUTO_tissue_snps[t]:\n",
      "        c += len(AUTO_tissue_snps[t][gene])\n",
      "    print t, c\n",
      "# Z SNPs\n",
      "for t in Z_tissue_snps:\n",
      "    c = 0\n",
      "    for gene in Z_tissue_snps[t]:\n",
      "\n",
      "        c += len(Z_tissue_snps[t][gene])\n",
      "    print t, c"
     ],
     "language": "python",
     "metadata": {},
     "outputs": [
      {
       "output_type": "stream",
       "stream": "stdout",
       "text": [
        "HEART 23745\n",
        "GONAD 11382\n",
        "LIVER 17819\n",
        "SPLEEN 34687\n",
        "HEART 503\n",
        "GONAD 405\n",
        "LIVER 439\n",
        "SPLEEN 826\n"
       ]
      }
     ],
     "prompt_number": 237
    },
    {
     "cell_type": "markdown",
     "metadata": {},
     "source": [
      "Combination is used as number in supplemental!"
     ]
    },
    {
     "cell_type": "markdown",
     "metadata": {},
     "source": [
      "## Calculate which genes on the Autosomes contain SNPs with ASE"
     ]
    },
    {
     "cell_type": "code",
     "collapsed": false,
     "input": [
      "AUTO_ASE_snps= defaultdict(list)\n",
      "AUTO_ASE_genes= defaultdict(list)\n",
      "AUTO_NOASE_genes = defaultdict(list)\n",
      "\n",
      "for t in AUTO_tissue_snps:\n",
      "\n",
      "    for gene in AUTO_tissue_snps[t]:\n",
      "\n",
      "        # There may be multiple SNPs per gene\n",
      "        for snp in AUTO_tissue_snps[t][gene]:\n",
      "            valid = []\n",
      "            rd_ad = []\n",
      "            \n",
      "            for i in [9, 10, 11, 12]: \n",
      "                RD, AD, POS, DP = read_call(snp, i)\n",
      "                RBQ, ABQ = read_quality(snp, i)\n",
      "                varscan_freq = read_freq(snp,i)\n",
      "                # Check if heterozygote\n",
      "                if (RD != 0 and AD != 0):\n",
      "                    #Check for quality\n",
      "                    if (RBQ >= 20 and ABQ >=20):\n",
      "                        ref_allele_fraction = RD/(RD+AD)\n",
      "                        if binom_test_ase(RD, AD) < 0.05:\n",
      "\n",
      "                            if ref_allele_fraction >= 0.7:\n",
      "                                valid.append(gene)\n",
      "                                rd_ad.append((RD,AD))\n",
      "\n",
      "                            if ref_allele_fraction <= 0.3:\n",
      "                                valid.append(gene)\n",
      "                                rd_ad.append((RD,AD))\n",
      "            # If all samples pass the check the gene is valid with ASE\n",
      "            if len(valid) == 4:\n",
      "                snp = {\"gene\": gene, \"ref_allele_fraction\": ref_allele_fraction, \"p-value\": binom_test_ase(RD, AD), \"pos\": POS}\n",
      "                AUTO_ASE_snps[t].append(snp)\n",
      "                AUTO_ASE_genes[t].append(gene)\n",
      "                # Other SNPs may not pass the threshold, remove those from NOASE list\n",
      "                while gene in AUTO_NOASE_genes[t]:\n",
      "                   AUTO_NOASE_genes[t].remove(gene)\n",
      "            else:\n",
      "                if gene not in AUTO_NOASE_genes[t] and gene not in AUTO_ASE_genes[t]:\n",
      "                    AUTO_NOASE_genes[t].append(gene)"
     ],
     "language": "python",
     "metadata": {},
     "outputs": [],
     "prompt_number": 238
    },
    {
     "cell_type": "code",
     "collapsed": false,
     "input": [
      "for t in AUTO_ASE_genes:\n",
      "    print t, len(set(AUTO_ASE_genes[t]))\n",
      "print \"=====\"\n",
      "for t in AUTO_NOASE_genes:\n",
      "    print t, len(AUTO_NOASE_genes[t])"
     ],
     "language": "python",
     "metadata": {},
     "outputs": [
      {
       "output_type": "stream",
       "stream": "stdout",
       "text": [
        "HEART 221\n",
        "GONAD 191\n",
        "LIVER 184\n",
        "SPLEEN 295\n",
        "=====\n",
        "HEART 4918\n",
        "GONAD 2652\n",
        "LIVER 3930\n",
        "SPLEEN 6382\n"
       ]
      }
     ],
     "prompt_number": 239
    },
    {
     "cell_type": "code",
     "collapsed": false,
     "input": [
      "for t in AUTO_tissue_snps:\n",
      "    print t, len(AUTO_tissue_snps[t])"
     ],
     "language": "python",
     "metadata": {},
     "outputs": [
      {
       "output_type": "stream",
       "stream": "stdout",
       "text": [
        "HEART 5139\n",
        "GONAD 2843\n",
        "LIVER 4114\n",
        "SPLEEN 6677\n"
       ]
      }
     ],
     "prompt_number": 240
    },
    {
     "cell_type": "markdown",
     "metadata": {},
     "source": [
      "## Add multiple correction for all autosomes"
     ]
    },
    {
     "cell_type": "code",
     "collapsed": false,
     "input": [
      "# Use R via rpy2\n",
      "import rpy2.robjects as R\n",
      "\n",
      "def fdr_snps(snps):\n",
      "    '''Corrects the binomal tests using false discovery rate'''\n",
      "    lib = R.r[\"library\"]\n",
      "    lib(\"qvalue\")\n",
      "    corrected = []\n",
      "    p_values = [snp[\"p-value\"] for snp in snps]\n",
      "    padjust = R.r[\"p.adjust\"]\n",
      "    args = {\"p\": R.FloatVector(p_values), \"method\": \"bonferroni\"}\n",
      "    adjusted = list(padjust(**args))\n",
      "    for i, p in enumerate(adjusted):\n",
      "        snps[i][\"padjust\"] =  p\n",
      "    \n",
      "    return snps\n",
      "\n",
      "for t in AUTO_ASE_snps:\n",
      "    AUTO_ASE_snps[t] = fdr_snps(AUTO_ASE_snps[t])\n",
      "    "
     ],
     "language": "python",
     "metadata": {},
     "outputs": [],
     "prompt_number": 241
    },
    {
     "cell_type": "code",
     "collapsed": false,
     "input": [
      "AUTO_ASE_genes_fdr = defaultdict(list)\n",
      "for t in AUTO_ASE_snps:\n",
      "    for snp in AUTO_ASE_snps[t]:\n",
      "        if snp[\"padjust\"] < 0.05:\n",
      "            AUTO_ASE_genes_fdr[t].append(snp[\"gene\"])\n",
      "    AUTO_ASE_genes_fdr[t] = list(set(AUTO_ASE_genes_fdr[t]))\n",
      "\n",
      "for t in AUTO_ASE_genes_fdr:\n",
      "    drop = set(AUTO_ASE_genes[t]).difference(AUTO_ASE_genes_fdr[t])\n",
      "    for g in drop:\n",
      "        AUTO_NOASE_genes[t].append(g)\n",
      "\n",
      "    AUTO_NOASE_genes[t] = list(set(AUTO_NOASE_genes[t]))\n",
      "\n",
      "# There should be no overlap\n",
      "for t in AUTO_ASE_genes_fdr:\n",
      "    print set(AUTO_ASE_genes_fdr[t]).intersection(AUTO_NOASE_genes[t])"
     ],
     "language": "python",
     "metadata": {},
     "outputs": [
      {
       "output_type": "stream",
       "stream": "stdout",
       "text": [
        "set([])\n",
        "set([])\n",
        "set([])\n",
        "set([])\n"
       ]
      }
     ],
     "prompt_number": 242
    },
    {
     "cell_type": "code",
     "collapsed": false,
     "input": [
      "for t in AUTO_ASE_genes_fdr:\n",
      "    print t, len(AUTO_ASE_genes_fdr[t])\n",
      "print \"=====\"\n",
      "for t in AUTO_NOASE_genes:\n",
      "    print t, len(AUTO_NOASE_genes[t])"
     ],
     "language": "python",
     "metadata": {},
     "outputs": [
      {
       "output_type": "stream",
       "stream": "stdout",
       "text": [
        "HEART 212\n",
        "GONAD 157\n",
        "LIVER 167\n",
        "SPLEEN 263\n",
        "=====\n",
        "HEART 4927\n",
        "GONAD 2686\n",
        "LIVER 3947\n",
        "SPLEEN 6414\n"
       ]
      }
     ],
     "prompt_number": 243
    },
    {
     "cell_type": "code",
     "collapsed": false,
     "input": [
      "for t in Z_ASE_genes:\n",
      "    print t, len(set(Z_ASE_genes[t]))\n",
      "print \"=====\"\n",
      "for t in Z_NOASE_genes:\n",
      "    print t, len(set(Z_NOASE_genes[t]))"
     ],
     "language": "python",
     "metadata": {},
     "outputs": [
      {
       "output_type": "stream",
       "stream": "stdout",
       "text": [
        "HEART 7\n",
        "GONAD 13\n",
        "LIVER 7\n",
        "SPLEEN 10\n",
        "=====\n",
        "HEART 164\n",
        "GONAD 109\n",
        "LIVER 128\n",
        "SPLEEN 259\n"
       ]
      }
     ],
     "prompt_number": 244
    },
    {
     "cell_type": "markdown",
     "metadata": {},
     "source": [
      "Numbers excluding tri-allic SNPs"
     ]
    },
    {
     "cell_type": "code",
     "collapsed": false,
     "input": [
      "                                                                     #  ASE no ASE\n",
      "print \"Fisher's exact test (spleen auto vs spleen Z): \", fisher_exact([[263,6414],\n",
      "                                                                      [10, 259]])\n",
      "\n",
      "print \"Fisher's exact test (heart auto vs heart Z): \", fisher_exact([[212,4927],\n",
      "                                                                      [7, 164]])\n",
      "\n",
      "print \"Fisher's exact test (liver auto vs liver Z): \", fisher_exact([[167,3947],\n",
      "                                                                      [7, 128]])\n",
      "\n",
      "print \"Fisher's exact test (gonad auto vs gonad Z): \", fisher_exact([[157,2686],\n",
      "                                                                      [13, 109]])"
     ],
     "language": "python",
     "metadata": {},
     "outputs": [
      {
       "output_type": "stream",
       "stream": "stdout",
       "text": [
        "Fisher's exact test (spleen auto vs spleen Z):  (1.0620049890863736, 1.0)\n",
        "Fisher's exact test (heart auto vs heart Z):  (1.0080895357940214, 1.0)\n",
        "Fisher's exact test (liver auto vs liver Z):  (0.77367982916500777, 0.50359844146798238)\n",
        "Fisher's exact test (gonad auto vs gonad Z):  (0.4900910705080474, 0.026234117705592898)\n"
       ]
      }
     ],
     "prompt_number": 245
    },
    {
     "cell_type": "markdown",
     "metadata": {},
     "source": [
      "Comparison between autosomes and Z chromosome in the degree of ASE:"
     ]
    }
   ],
   "metadata": {}
  }
 ]
}