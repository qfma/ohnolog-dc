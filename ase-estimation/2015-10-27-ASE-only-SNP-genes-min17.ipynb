{
 "metadata": {
  "name": "",
  "signature": "sha256:890109874aedcf67470a04afea88c350f31666b66ee637d572ddd03ec49f0dfc"
 },
 "nbformat": 3,
 "nbformat_minor": 0,
 "worksheets": [
  {
   "cells": [
    {
     "cell_type": "markdown",
     "metadata": {},
     "source": [
      "## Imports"
     ]
    },
    {
     "cell_type": "code",
     "collapsed": false,
     "input": [
      "# General imports\n",
      "import argparse\n",
      "import sys\n",
      "import vcf\n",
      "import os\n",
      "from collections import defaultdict\n",
      "\n",
      "from scipy import stats as stats\n",
      "from scipy.stats import fisher_exact, mannwhitneyu, wilcoxon, ranksums, chi2_contingency, chisquare\n",
      "# Nice dataframes\n",
      "import pandas as pd\n",
      "import numpy as np\n",
      "import random"
     ],
     "language": "python",
     "metadata": {},
     "outputs": [
      {
       "output_type": "stream",
       "stream": "stdout",
       "text": [
        "Error in .Call(\"R_isMethodsDispatchOn\", onOff, PACKAGE = \"base\") : \n",
        "  \"R_isMethodsDispatchOn\" not available for .Call() for package \"base\"\n"
       ]
      }
     ],
     "prompt_number": 2
    },
    {
     "cell_type": "markdown",
     "metadata": {},
     "source": [
      "## Helper functions"
     ]
    },
    {
     "cell_type": "code",
     "collapsed": false,
     "input": [
      "from collections import defaultdict\n",
      "\n",
      "def filter_vcf(source, expressed_genes):\n",
      "    SNPs = defaultdict(list)\n",
      "    try:\n",
      "        with open(source, \"r\") as infile:\n",
      "            for line in infile:\n",
      "                if line.startswith(\"##\"):\n",
      "                    continue\n",
      "                line = line.rstrip().split()\n",
      "                GID = line[22][1:-2]\n",
      "                if GID in expressed_genes:\n",
      "                    if is_biallelic(line): \n",
      "                        SNPs[GID].append(line)\n",
      "            return SNPs\n",
      "    except IOError:\n",
      "        print \"File does not exit!\"\n",
      "\n",
      "def is_biallelic(line):\n",
      "    \"Only include biallelic sites\"\n",
      "    # If ALT and REF has exactly one allele pass\n",
      "    # An allele is a string with length 1 eg A or G\n",
      "    if (len(line[3]) == 1 and len(line[4]) == 1):\n",
      "        return True\n",
      "    # In any other case return false\n",
      "    else:\n",
      "#         print line[3], line[4]\n",
      "        return False\n",
      "        \n",
      "        \n",
      "def read_call(vcf_line, sample):\n",
      "    '''Field format is:\n",
      "        GT:GQ:SDP:DP:RD:AD:FREQ:PVAL:RBQ:ABQ:RDF:RDR:ADF:ADR\n",
      "        0  1  2   3  4  5  6    7    8   9   10  11  12  13\n",
      "    '''\n",
      "    call1 = vcf_line[sample]\n",
      "    POS = int(vcf_line[1])\n",
      "    if (call1.split(\":\")[4] == \".\" or call1.split(\":\")[5] == \".\"):\n",
      "        return 0.0, 0.0, POS, DP\n",
      "    RD = float(call1.split(\":\")[4])\n",
      "    AD = float(call1.split(\":\")[5])\n",
      "    DP = float(call1.split(\":\")[3])\n",
      "    return RD, AD, POS, DP\n",
      "\n",
      "\n",
      "def read_quality(vcf_line, sample):\n",
      "    '''Field format is:\n",
      "        GT:GQ:SDP:DP:RD:AD:FREQ:PVAL:RBQ:ABQ:RDF:RDR:ADF:ADR\n",
      "        0  1  2   3  4  5  6    7    8   9   10  11  12  13\n",
      "    '''\n",
      "    call1 = vcf_line[sample]\n",
      "    RBQ = float(call1.split(\":\")[8])\n",
      "    ABQ = float(call1.split(\":\")[9])\n",
      "    return RBQ, ABQ\n",
      "\n",
      "\n",
      "    \n",
      "def read_freq(vcf_line, sample):\n",
      "    '''Field format is:\n",
      "        GT:GQ:SDP:DP:RD:AD:FREQ:PVAL:RBQ:ABQ:RDF:RDR:ADF:ADR\n",
      "        0  1  2   3  4  5  6    7    8   9   10  11  12  13\n",
      "    '''\n",
      "    call1 = vcf_line[sample]\n",
      "    freq = float(call1.split(\":\")[6][:-1])\n",
      "    return freq\n",
      "\n",
      "def binom_test_ase(rd, ad):\n",
      "    '''\n",
      "    RD: Depth of reference-supporting bases (reads1)\n",
      "    AD: Depth of variant-supporting bases (reads2)\n",
      "    This is the chance of observing either more successes, or fewer successes, in all trials.\n",
      "    '''\n",
      "    # Two tailed binomial test\n",
      "    return stats.binom_test(rd, (rd+ad), p=0.5)\n",
      "\n",
      "def random_sample(data, num_samples):\n",
      "    \"Randomly choose num_sample items from data\"\n",
      "    return random.sample(data, num_samples)\n",
      "\n",
      "def anti_log2(i):\n",
      "    return np.power(2, i)\n",
      "\n",
      "def log2(i):\n",
      "    return np.log2(i)"
     ],
     "language": "python",
     "metadata": {},
     "outputs": [],
     "prompt_number": 3
    },
    {
     "cell_type": "markdown",
     "metadata": {},
     "source": [
      "## Input files"
     ]
    },
    {
     "cell_type": "code",
     "collapsed": false,
     "input": [
      "# Strictly filtered SNPS, where a call is valid in all samples\n",
      "input_vcf = [\"../snp-calling/5mismatches/all-tissues/combined/filteredallmin17/HEART_M_5mismatches_filteredallmin17_noclusters_coding_transcript.vcf\",\n",
      "               \"../snp-calling/5mismatches/all-tissues/combined/filteredallmin17/LIVER_M_5mismatches_filteredallmin17_noclusters_coding_transcript.vcf\",\n",
      "               \"../snp-calling/5mismatches/all-tissues/combined/filteredallmin17/SPLEEN_M_5mismatches_filteredallmin17_noclusters_coding_transcript.vcf\",\n",
      "               \"../snp-calling/5mismatches/all-tissues/combined/filteredallmin17/GONAD_M_5mismatches_filteredallmin17_noclusters_coding_transcript.vcf\",]\n",
      "\n",
      "de_gonad = pd.read_csv(\"/data/ucbtzim/ohnolog-dc/differential-expression/2015-10-27-MF-GONAD-detags-edgeR.csv\")\n",
      "de_spleen = pd.read_csv(\"/data/ucbtzim/ohnolog-dc/differential-expression/2015-10-27-MF-SPLEEN-detags-edgeR.csv\")\n",
      "de_heart = pd.read_csv(\"/data/ucbtzim/ohnolog-dc/differential-expression/2015-10-27-MF-HEART-detags-edgeR.csv\")\n",
      "de_liver = pd.read_csv(\"/data/ucbtzim/ohnolog-dc/differential-expression/2015-10-27-MF-LIVER-detags-edgeR.csv\")\n",
      "\n",
      "rpkm_gonad = pd.read_csv(\"/data/ucbtzim/ohnolog-dc/differential-expression/2015-10-27-MF-GONAD-RPKM-NORM-log2-edgeR.csv\")\n",
      "rpkm_spleen = pd.read_csv(\"/data/ucbtzim/ohnolog-dc/differential-expression/2015-10-27-MF-SPLEEN-RPKM-NORM-log2-edgeR.csv\")\n",
      "rpkm_heart = pd.read_csv(\"/data/ucbtzim/ohnolog-dc/differential-expression/2015-10-27-MF-HEART-RPKM-NORM-log2-edgeR.csv\")\n",
      "rpkm_liver = pd.read_csv(\"/data/ucbtzim/ohnolog-dc/differential-expression/2015-10-27-MF-LIVER-RPKM-NORM-log2-edgeR.csv\")"
     ],
     "language": "python",
     "metadata": {},
     "outputs": [],
     "prompt_number": 4
    },
    {
     "cell_type": "code",
     "collapsed": false,
     "input": [
      "def read_gid_to_chr(infile):\n",
      "    '''Reads in a file obtained from Ensembl mapping each gene to its chromosomal location'''\n",
      "    gid_to_chr = {}\n",
      "    with open(infile, \"rb\") as handle:\n",
      "        for line in handle:\n",
      "            if line.startswith(\"Ensembl\"):\n",
      "                continue\n",
      "            else:\n",
      "                line = line.rstrip().split()\n",
      "                gid_to_chr[line[0]] = line[1]\n",
      "    return gid_to_chr\n",
      "\n",
      "gid_to_chr = read_gid_to_chr(\"/data/ucbtzim/ohnolog-dc/dc-comparison/Gallus_gallus.75.gid.chr.tsv\")\n",
      "\n",
      "# Get a list of Z linked gene IDs\n",
      "Z_genes = [g for g, pos in gid_to_chr.items() if pos == \"Z\"]\n",
      "print \"Number of genes (protein coding + non coding) on the Z chromosome:\", len(Z_genes)"
     ],
     "language": "python",
     "metadata": {},
     "outputs": [
      {
       "output_type": "stream",
       "stream": "stdout",
       "text": [
        "Number of genes (protein coding + non coding) on the Z chromosome: 859\n"
       ]
      }
     ],
     "prompt_number": 5
    },
    {
     "cell_type": "code",
     "collapsed": false,
     "input": [
      "comb_gonad = pd.concat([rpkm_gonad, de_gonad], axis=1)\n",
      "comb_heart = pd.concat([rpkm_heart, de_heart], axis=1)\n",
      "comb_liver = pd.concat([rpkm_liver, de_liver], axis=1)\n",
      "comb_spleen = pd.concat([rpkm_spleen, de_spleen], axis=1)\n",
      "\n",
      "print comb_gonad.shape\n",
      "print comb_heart.shape\n",
      "# Liver has one female sample less\n",
      "print comb_liver.shape\n",
      "print comb_spleen.shape"
     ],
     "language": "python",
     "metadata": {},
     "outputs": [
      {
       "output_type": "stream",
       "stream": "stdout",
       "text": [
        "(15550, 12)\n",
        "(15550, 12)\n",
        "(15550, 11)\n",
        "(15550, 12)\n"
       ]
      }
     ],
     "prompt_number": 6
    },
    {
     "cell_type": "code",
     "collapsed": false,
     "input": [
      "# No expression on chromosome 32, excluded\n",
      "chicken_chromosomes = [str(i) for i in range(1, 29)] + [\"Z\"]\n",
      "\n",
      "print \"Valid chromosomes: \", chicken_chromosomes\n",
      "\n",
      "comb_gonad = comb_gonad[comb_gonad.index.map(lambda x: gid_to_chr[x] in chicken_chromosomes)]\n",
      "comb_heart = comb_heart[comb_heart.index.map(lambda x: gid_to_chr[x] in chicken_chromosomes)]\n",
      "comb_liver = comb_liver[comb_liver.index.map(lambda x: gid_to_chr[x] in chicken_chromosomes)]\n",
      "comb_spleen = comb_spleen[comb_spleen.index.map(lambda x: gid_to_chr[x] in chicken_chromosomes)]\n",
      "\n",
      "print comb_gonad.shape\n",
      "print comb_heart.shape\n",
      "print comb_liver.shape\n",
      "print comb_spleen.shape"
     ],
     "language": "python",
     "metadata": {},
     "outputs": [
      {
       "output_type": "stream",
       "stream": "stdout",
       "text": [
        "Valid chromosomes:  ['1', '2', '3', '4', '5', '6', '7', '8', '9', '10', '11', '12', '13', '14', '15', '16', '17', '18', '19', '20', '21', '22', '23', '24', '25', '26', '27', '28', 'Z']\n",
        "(14496, 12)"
       ]
      },
      {
       "output_type": "stream",
       "stream": "stdout",
       "text": [
        "\n",
        "(14496, 12)\n",
        "(14496, 11)\n",
        "(14496, 12)\n"
       ]
      }
     ],
     "prompt_number": 7
    },
    {
     "cell_type": "code",
     "collapsed": false,
     "input": [
      "def filter_cpm(cpm, mincpm):\n",
      "    '''Filter out lowly expressed genes based on a fixed minimum CPM threshold'''\n",
      "    filtered = cpm[cpm[\"logCPM\"] > mincpm]\n",
      "    return filtered\n",
      "\n",
      "# Beware average CPM is log2 transformed.\n",
      "# For avgCPM of 2 use 1 | log2(2) = 1\n",
      "comb_gonad_min2 = filter_cpm(comb_gonad, 1)\n",
      "comb_heart_min2 = filter_cpm(comb_heart, 1)\n",
      "comb_liver_min2 = filter_cpm(comb_liver, 1)\n",
      "comb_spleen_min2 = filter_cpm(comb_spleen, 1)\n",
      "\n",
      "print comb_gonad_min2.shape\n",
      "print comb_heart_min2.shape\n",
      "print comb_liver_min2.shape\n",
      "print comb_spleen_min2.shape\n",
      "\n",
      "print comb_gonad_min2.dtypes\n",
      "print comb_heart_min2.dtypes\n",
      "print comb_liver_min2.dtypes\n",
      "print comb_spleen_min2.dtypes"
     ],
     "language": "python",
     "metadata": {},
     "outputs": [
      {
       "output_type": "stream",
       "stream": "stdout",
       "text": [
        "(11944, 12)\n",
        "(9971, 12)\n",
        "(9383, 11)\n",
        "(10847, 12)\n",
        "WTCHG_23425_05_GONAD_M_1_sequence    float64\n",
        "WTCHG_23425_04_GONAD_M_1_sequence    float64\n",
        "WTCHG_23425_12_GONAD_M_1_sequence    float64\n",
        "WTCHG_23425_06_GONAD_M_1_sequence    float64\n",
        "WTCHG_23702_04_GONAD_F_1_sequence    float64\n",
        "WTCHG_23702_05_GONAD_F_1_sequence    float64\n",
        "WTCHG_23702_12_GONAD_F_1_sequence    float64\n",
        "WTCHG_23702_06_GONAD_F_1_sequence    float64\n",
        "logFC                                float64\n",
        "logCPM                               float64\n",
        "PValue                               float64\n",
        "FDR                                  float64\n",
        "dtype: object\n",
        "WTCHG_35309_155_HEART_M_1_sequence    float64\n",
        "WTCHG_35309_191_HEART_M_1_sequence    float64\n",
        "WTCHG_35309_132_HEART_M_1_sequence    float64\n",
        "WTCHG_35309_168_HEART_M_1_sequence    float64\n",
        "WTCHG_35308_142_HEART_F_1_sequence    float64\n",
        "WTCHG_35308_119_HEART_F_1_sequence    float64\n",
        "WTCHG_35308_178_HEART_F_1_sequence    float64\n",
        "WTCHG_35308_106_HEART_F_1_sequence    float64\n",
        "logFC                                 float64\n",
        "logCPM                                float64\n",
        "PValue                                float64\n",
        "FDR                                   float64\n",
        "dtype: object\n",
        "WTCHG_35309_180_LIVER_M_1_sequence    float64\n",
        "WTCHG_35309_167_LIVER_M_1_sequence    float64\n",
        "WTCHG_35309_108_LIVER_M_1_sequence    float64\n",
        "WTCHG_35309_144_LIVER_M_1_sequence    float64\n",
        "WTCHG_35308_131_LIVER_F_1_sequence    float64\n",
        "WTCHG_35308_154_LIVER_F_1_sequence    float64\n",
        "WTCHG_35308_190_LIVER_F_1_sequence    float64\n",
        "logFC                                 float64\n",
        "logCPM                                float64\n",
        "PValue                                float64\n",
        "FDR                                   float64\n",
        "dtype: object\n",
        "WTCHG_35309_179_SPLEEN_M_1_sequence    float64\n",
        "WTCHG_35309_156_SPLEEN_M_1_sequence    float64\n",
        "WTCHG_35309_120_SPLEEN_M_1_sequence    float64\n",
        "WTCHG_35309_192_SPLEEN_M_1_sequence    float64\n",
        "WTCHG_35308_166_SPLEEN_F_1_sequence    float64\n",
        "WTCHG_35308_130_SPLEEN_F_1_sequence    float64\n",
        "WTCHG_35308_107_SPLEEN_F_1_sequence    float64\n",
        "WTCHG_35308_143_SPLEEN_F_1_sequence    float64\n",
        "logFC                                  float64\n",
        "logCPM                                 float64\n",
        "PValue                                 float64\n",
        "FDR                                    float64\n",
        "dtype: object\n"
       ]
      }
     ],
     "prompt_number": 8
    },
    {
     "cell_type": "code",
     "collapsed": false,
     "input": [
      "def split_dataframe(data, genes):\n",
      "    '''Returns two dataframes. The first return value contains all rows that did match the genes.\n",
      "       The second dataframe contains only genes that did NOT match.\n",
      "    '''\n",
      "    match = data[data.index.isin(genes)]\n",
      "    nomatch = data[~data.index.isin(genes)]\n",
      "    \n",
      "    return match, nomatch\n",
      "\n",
      "# Get a list of Z linked gene IDs\n",
      "Z_genes = [g for g, pos in gid_to_chr.items() if pos == \"Z\"]\n",
      "print \"Number of genes (protein coding + non coding) on the Z chromosome:\", len(Z_genes)\n",
      "print \"\"\n",
      "\n",
      "# Filter the expression so it only contains Z expression\n",
      "Z_comb_gonad_min2, AUTO_comb_gonad_min2 = split_dataframe(comb_gonad_min2, Z_genes)\n",
      "Z_comb_heart_min2, AUTO_comb_heart_min2 = split_dataframe(comb_heart_min2, Z_genes)\n",
      "Z_comb_liver_min2, AUTO_comb_liver_min2 = split_dataframe(comb_liver_min2, Z_genes)\n",
      "Z_comb_spleen_min2, AUTO_comb_spleen_min2 = split_dataframe(comb_spleen_min2, Z_genes)"
     ],
     "language": "python",
     "metadata": {},
     "outputs": [
      {
       "output_type": "stream",
       "stream": "stdout",
       "text": [
        "Number of genes (protein coding + non coding) on the Z chromosome: 859\n",
        "\n"
       ]
      }
     ],
     "prompt_number": 10
    },
    {
     "cell_type": "code",
     "collapsed": false,
     "input": [],
     "language": "python",
     "metadata": {},
     "outputs": [],
     "prompt_number": 10
    },
    {
     "cell_type": "code",
     "collapsed": false,
     "input": [
      "expressed_Z_genes = { \"HEART\":Z_comb_heart_min2.index,\n",
      "                     \"LIVER\":Z_comb_liver_min2.index,\n",
      "                     \"SPLEEN\":Z_comb_spleen_min2.index,\n",
      "                     \"GONAD\":Z_comb_gonad_min2.index}\n",
      "for i in expressed_Z_genes:\n",
      "    print i, len(expressed_Z_genes[i])\n",
      "print expressed_Z_genes[\"HEART\"]"
     ],
     "language": "python",
     "metadata": {},
     "outputs": [
      {
       "output_type": "stream",
       "stream": "stdout",
       "text": [
        "HEART 493\n",
        "GONAD 604\n",
        "LIVER 445\n",
        "SPLEEN 529\n",
        "Index([u'ENSGALG00000000004', u'ENSGALG00000000151', u'ENSGALG00000000161', u'ENSGALG00000000189', u'ENSGALG00000000208', u'ENSGALG00000000215', u'ENSGALG00000000218', u'ENSGALG00000000220', u'ENSGALG00000000234', u'ENSGALG00000000241', u'ENSGALG00000000244', u'ENSGALG00000000247', u'ENSGALG00000000253', u'ENSGALG00000000255', u'ENSGALG00000000264', u'ENSGALG00000000273', u'ENSGALG00000000276', u'ENSGALG00000000280', u'ENSGALG00000000428', u'ENSGALG00000000438', u'ENSGALG00000001668', u'ENSGALG00000001677', u'ENSGALG00000001732', u'ENSGALG00000001761', u'ENSGALG00000001763', u'ENSGALG00000001765', u'ENSGALG00000001766', u'ENSGALG00000001782', u'ENSGALG00000001801', u'ENSGALG00000001808', u'ENSGALG00000001840', u'ENSGALG00000001843', u'ENSGALG00000001864', u'ENSGALG00000001918', u'ENSGALG00000001944', u'ENSGALG00000001947', u'ENSGALG00000001954', u'ENSGALG00000001986', u'ENSGALG00000002009', u'ENSGALG00000002014', u'ENSGALG00000002022', u'ENSGALG00000002023', u'ENSGALG00000002064', u'ENSGALG00000002069', u'ENSGALG00000002087', u'ENSGALG00000002110', u'ENSGALG00000002125', u'ENSGALG00000002142', u'ENSGALG00000002162', u'ENSGALG00000002165', u'ENSGALG00000002183', u'ENSGALG00000002187', u'ENSGALG00000002227', u'ENSGALG00000002250', u'ENSGALG00000002294', u'ENSGALG00000002308', u'ENSGALG00000002326', u'ENSGALG00000002341', u'ENSGALG00000002345', u'ENSGALG00000002358', u'ENSGALG00000002371', u'ENSGALG00000002386', u'ENSGALG00000002394', u'ENSGALG00000002399', u'ENSGALG00000002412', u'ENSGALG00000002419', u'ENSGALG00000002430', u'ENSGALG00000002439', u'ENSGALG00000002523', u'ENSGALG00000002529', u'ENSGALG00000002539', u'ENSGALG00000002548', u'ENSGALG00000002578', u'ENSGALG00000002599', u'ENSGALG00000002605', u'ENSGALG00000002677', u'ENSGALG00000002696', u'ENSGALG00000002712', u'ENSGALG00000002777', u'ENSGALG00000002805', u'ENSGALG00000002839', u'ENSGALG00000002852', u'ENSGALG00000002854', u'ENSGALG00000002872', u'ENSGALG00000002898', u'ENSGALG00000002917', u'ENSGALG00000002948', u'ENSGALG00000003019', u'ENSGALG00000003066', u'ENSGALG00000003087', u'ENSGALG00000003168', u'ENSGALG00000003235', u'ENSGALG00000003248', u'ENSGALG00000003288', u'ENSGALG00000003295', u'ENSGALG00000003310', u'ENSGALG00000003326', u'ENSGALG00000003353', u'ENSGALG00000003365', u'ENSGALG00000003373', ...], dtype='object')\n"
       ]
      }
     ],
     "prompt_number": 15
    },
    {
     "cell_type": "markdown",
     "metadata": {},
     "source": [
      "### Z SNPs in all tissues"
     ]
    },
    {
     "cell_type": "code",
     "collapsed": false,
     "input": [
      "Z_tissue_snps = {}\n",
      "\n",
      "for i, f in enumerate(input_vcf):\n",
      "    tissue = f.split(\"/\")[-1].split(\"_\")[0]\n",
      "    print tissue\n",
      "    SNPs = filter_vcf(f, expressed_Z_genes[tissue])\n",
      "    Z_tissue_snps[tissue] = SNPs"
     ],
     "language": "python",
     "metadata": {},
     "outputs": [
      {
       "output_type": "stream",
       "stream": "stdout",
       "text": [
        "HEART\n",
        "LIVER"
       ]
      },
      {
       "output_type": "stream",
       "stream": "stdout",
       "text": [
        "\n",
        "SPLEEN"
       ]
      },
      {
       "output_type": "stream",
       "stream": "stdout",
       "text": [
        "\n",
        "GONAD"
       ]
      },
      {
       "output_type": "stream",
       "stream": "stdout",
       "text": [
        "\n"
       ]
      }
     ],
     "prompt_number": 16
    },
    {
     "cell_type": "markdown",
     "metadata": {},
     "source": [
      "### Number of genes on the Z with valid SNP calls"
     ]
    },
    {
     "cell_type": "code",
     "collapsed": false,
     "input": [
      "for t in Z_tissue_snps:\n",
      "    print t, len(Z_tissue_snps[t])"
     ],
     "language": "python",
     "metadata": {},
     "outputs": [
      {
       "output_type": "stream",
       "stream": "stdout",
       "text": [
        "HEART 171\n",
        "GONAD 122\n",
        "LIVER 135\n",
        "SPLEEN 268\n"
       ]
      }
     ],
     "prompt_number": 17
    },
    {
     "cell_type": "code",
     "collapsed": false,
     "input": [],
     "language": "python",
     "metadata": {},
     "outputs": [],
     "prompt_number": 17
    },
    {
     "cell_type": "markdown",
     "metadata": {},
     "source": [
      "### Number of SNPs on the Z per tissue"
     ]
    },
    {
     "cell_type": "code",
     "collapsed": false,
     "input": [
      "for t in Z_tissue_snps:\n",
      "    c = 0\n",
      "    for gene in Z_tissue_snps[t]:\n",
      "\n",
      "        c += len(Z_tissue_snps[t][gene])\n",
      "    print t, c"
     ],
     "language": "python",
     "metadata": {},
     "outputs": [
      {
       "output_type": "stream",
       "stream": "stdout",
       "text": [
        "HEART 531\n",
        "GONAD 411\n",
        "LIVER 468\n",
        "SPLEEN 892\n"
       ]
      }
     ],
     "prompt_number": 18
    },
    {
     "cell_type": "code",
     "collapsed": false,
     "input": [],
     "language": "python",
     "metadata": {},
     "outputs": [],
     "prompt_number": 18
    },
    {
     "cell_type": "code",
     "collapsed": false,
     "input": [
      "# Genes taken from http://journals.plos.org/plosgenetics/article?id=10.1371/journal.pgen.1003635\n",
      "# Not all IDs could be mapped\n",
      "livernois_genes = [\"ENSGALG00000010164\", \n",
      "                   \"ENSGALG00000010158\", \n",
      "                   \"ENSGALG00000010160\", \n",
      "                   \"ENSGALG00000010161\", \n",
      "                   \"ENSGALG00000015058\", \n",
      "                   \"ENSGALG00000015105\", \n",
      "                   \"ENSGALG00000015101\", \n",
      "                   \"ENSGALG00000015078\", \n",
      "                   \"ENSGALG00000015071\", \n",
      "                   \"ENSGALG00000014690\", \n",
      "                   \"ENSGALG00000017706\", \n",
      "                   \"ENSGALG00000001869\", \n",
      "                   \"ENSGALG00000002162\", \n",
      "                   \"ENSGALG00000002187\", \n",
      "                   \"ENSGALG00000002294\"]\n",
      "\n",
      "livernois_dict = defaultdict(list)\n",
      "for t in Z_tissue_snps:\n",
      "    for gene in Z_tissue_snps[t]:\n",
      "        if gene in livernois_genes:\n",
      "            livernois_dict[gene].append(t)\n",
      "\n",
      "print len(livernois_dict)\n",
      "for g in livernois_dict:\n",
      "    print g, livernois_dict[g]\n",
      "            "
     ],
     "language": "python",
     "metadata": {},
     "outputs": [
      {
       "output_type": "stream",
       "stream": "stdout",
       "text": [
        "10\n",
        "ENSGALG00000010160 ['GONAD']\n",
        "ENSGALG00000002187 ['HEART', 'GONAD', 'LIVER', 'SPLEEN']\n",
        "ENSGALG00000002162 ['GONAD', 'LIVER']\n",
        "ENSGALG00000010164 ['HEART', 'GONAD', 'LIVER', 'SPLEEN']\n",
        "ENSGALG00000002294 ['SPLEEN']\n",
        "ENSGALG00000010158 ['HEART', 'GONAD', 'LIVER', 'SPLEEN']\n",
        "ENSGALG00000014690 ['SPLEEN']\n",
        "ENSGALG00000015105 ['HEART', 'GONAD', 'SPLEEN']\n",
        "ENSGALG00000015071 ['SPLEEN']\n",
        "ENSGALG00000017706 ['SPLEEN']\n"
       ]
      }
     ],
     "prompt_number": 19
    },
    {
     "cell_type": "markdown",
     "metadata": {},
     "source": [
      "## Calculate which genes on the Z contain SNPs with ASE"
     ]
    },
    {
     "cell_type": "markdown",
     "metadata": {},
     "source": [
      "Note:\n",
      "\n",
      "Instead of calculating the reference allele fraction ourselves, we could also use the varscan2 supplied \"Variant allele frequency\" in this field:\n",
      "\n",
      "```##FORMAT=<ID=FREQ,Number=1,Type=String,Description=\"Variant allele frequency\">```\n",
      "\n",
      "We can use the read_freq function varscan_freq = read_freq(snp,i) and filter like this:\n",
      "\n",
      "```\n",
      "for i in [9, 10, 11, 12]: \n",
      "    RD, AD, POS = read_call(snp, i)\n",
      "    varscan_freq = read_freq(snp,i)\n",
      "    # Check if heterozygote\n",
      "    if RD != 0 and AD != 0:\n",
      "          if binom_test_ase(RD, AD) < 0.05:\n",
      "\n",
      "              if varscan_freq >= 70:\n",
      "                  valid.append(gene)\n",
      "\n",
      "              if varscan_freq <= 30:\n",
      "                  valid.append(gene)\n",
      "```\n",
      "The results are identical, even though varscan calculates the allele frequency a bit differently"
     ]
    },
    {
     "cell_type": "code",
     "collapsed": false,
     "input": [
      "Z_ASE_genes = defaultdict(list)\n",
      "Z_NOASE_genes = defaultdict(list)\n",
      "\n",
      "for t in Z_tissue_snps:\n",
      "\n",
      "    for gene in Z_tissue_snps[t]:\n",
      "\n",
      "        # There may be multiple SNPs per gene\n",
      "        for snp in Z_tissue_snps[t][gene]:\n",
      "            valid = []\n",
      "            rd_ad = []\n",
      "            for i in [9, 10, 11, 12]: \n",
      "                RD, AD, POS, DP = read_call(snp, i)\n",
      "                RBQ, ABQ = read_quality(snp, i)\n",
      "                # Check if heterozygote\n",
      "                if (RD != 0 and AD != 0):\n",
      "                    #Check for quality\n",
      "                    if (RBQ >= 20 and ABQ >=20):\n",
      "                        ref_allele_fraction = RD/(RD+AD)\n",
      "                        if binom_test_ase(RD, AD) < 0.05:\n",
      "                            if ref_allele_fraction >= 0.7:\n",
      "                                valid.append(gene)\n",
      "                                rd_ad.append((RD,AD))\n",
      "\n",
      "                            if ref_allele_fraction <= 0.3:\n",
      "                                valid.append(gene)\n",
      "                                rd_ad.append((RD,AD))\n",
      "            # If all samples pass the check the gene is valid with ASE\n",
      "            if len(valid) == 4:\n",
      "                Z_ASE_genes[t].append(gene)\n",
      "                # Other SNPs may not pass the threshold, remove those from NOASE list\n",
      "                # Via http://stackoverflow.com/questions/4915920/how-to-delete-an-item-in-a-list-if-it-exists-python\n",
      "                while gene in Z_NOASE_genes[t]:\n",
      "                   Z_NOASE_genes[t].remove(gene)\n",
      "            else:\n",
      "                if not gene in Z_NOASE_genes[t] and not gene in Z_ASE_genes[t]:\n",
      "                    Z_NOASE_genes[t].append(gene)\n",
      "\n",
      "for t in Z_ASE_genes:\n",
      "    print t, len(set(Z_ASE_genes[t])), set(Z_ASE_genes[t])\n",
      "print \"=====\"\n",
      "for t in Z_NOASE_genes:\n",
      "    print t, len(set(Z_NOASE_genes[t]))"
     ],
     "language": "python",
     "metadata": {},
     "outputs": [
      {
       "output_type": "stream",
       "stream": "stdout",
       "text": [
        "HEART 7 set(['ENSGALG00000014789', 'ENSGALG00000013809', 'ENSGALG00000015617', 'ENSGALG00000021340', 'ENSGALG00000000428', 'ENSGALG00000026553', 'ENSGALG00000025842'])\n",
        "GONAD 13 set(['ENSGALG00000027891', 'ENSGALG00000015082', 'ENSGALG00000027128', 'ENSGALG00000010158', 'ENSGALG00000003726', 'ENSGALG00000015617', 'ENSGALG00000014857', 'ENSGALG00000027487', 'ENSGALG00000028328', 'ENSGALG00000000428', 'ENSGALG00000025842', 'ENSGALG00000014942', 'ENSGALG00000028137'])\n",
        "LIVER 7 set(['ENSGALG00000015544', 'ENSGALG00000008229', 'ENSGALG00000005423', 'ENSGALG00000015617', 'ENSGALG00000021340', 'ENSGALG00000012613', 'ENSGALG00000000428'])\n",
        "SPLEEN 9 set(['ENSGALG00000015216', 'ENSGALG00000015082', 'ENSGALG00000005814', 'ENSGALG00000014789', 'ENSGALG00000027154', 'ENSGALG00000015617', 'ENSGALG00000005433', 'ENSGALG00000000428', 'ENSGALG00000025842'])\n",
        "=====\n",
        "HEART 164\n",
        "GONAD 109\n",
        "LIVER 128\n",
        "SPLEEN 259\n"
       ]
      }
     ],
     "prompt_number": 20
    },
    {
     "cell_type": "code",
     "collapsed": false,
     "input": [],
     "language": "python",
     "metadata": {},
     "outputs": [],
     "prompt_number": 20
    },
    {
     "cell_type": "code",
     "collapsed": false,
     "input": [
      "# There should be no overlap\n",
      "for t in Z_ASE_genes:\n",
      "    print set(Z_ASE_genes[t]).intersection(Z_NOASE_genes[t])"
     ],
     "language": "python",
     "metadata": {},
     "outputs": [
      {
       "output_type": "stream",
       "stream": "stdout",
       "text": [
        "set([])\n",
        "set([])\n",
        "set([])\n",
        "set([])\n"
       ]
      }
     ],
     "prompt_number": 21
    },
    {
     "cell_type": "markdown",
     "metadata": {},
     "source": [
      "## The autosomes (repeated all Z analyses for autosomes)"
     ]
    },
    {
     "cell_type": "markdown",
     "metadata": {},
     "source": [
      "## How many SNPs are expressed on the Autosomes?"
     ]
    },
    {
     "cell_type": "code",
     "collapsed": false,
     "input": [
      "expressed_AUTO_genes = { \"HEART\":AUTO_comb_heart_min2.index,\n",
      "                     \"LIVER\":AUTO_comb_liver_min2.index,\n",
      "                     \"SPLEEN\":AUTO_comb_spleen_min2.index,\n",
      "                     \"GONAD\":AUTO_comb_gonad_min2.index}\n",
      "\n",
      "for i in expressed_AUTO_genes:\n",
      "    print i, len(expressed_AUTO_genes[i])\n",
      "print expressed_AUTO_genes[\"HEART\"]"
     ],
     "language": "python",
     "metadata": {},
     "outputs": [
      {
       "output_type": "stream",
       "stream": "stdout",
       "text": [
        "HEART 9478\n",
        "GONAD 11340\n",
        "LIVER 8938\n",
        "SPLEEN 10318\n",
        "Index([u'ENSGALG00000000011', u'ENSGALG00000000013', u'ENSGALG00000000017', u'ENSGALG00000000019', u'ENSGALG00000000033', u'ENSGALG00000000038', u'ENSGALG00000000040', u'ENSGALG00000000048', u'ENSGALG00000000054', u'ENSGALG00000000055', u'ENSGALG00000000056', u'ENSGALG00000000062', u'ENSGALG00000000067', u'ENSGALG00000000075', u'ENSGALG00000000076', u'ENSGALG00000000085', u'ENSGALG00000000086', u'ENSGALG00000000091', u'ENSGALG00000000094', u'ENSGALG00000000098', u'ENSGALG00000000099', u'ENSGALG00000000106', u'ENSGALG00000000107', u'ENSGALG00000000109', u'ENSGALG00000000112', u'ENSGALG00000000113', u'ENSGALG00000000117', u'ENSGALG00000000120', u'ENSGALG00000000122', u'ENSGALG00000000129', u'ENSGALG00000000132', u'ENSGALG00000000137', u'ENSGALG00000000141', u'ENSGALG00000000142', u'ENSGALG00000000146', u'ENSGALG00000000150', u'ENSGALG00000000156', u'ENSGALG00000000158', u'ENSGALG00000000162', u'ENSGALG00000000164', u'ENSGALG00000000165', u'ENSGALG00000000168', u'ENSGALG00000000169', u'ENSGALG00000000171', u'ENSGALG00000000177', u'ENSGALG00000000181', u'ENSGALG00000000182', u'ENSGALG00000000183', u'ENSGALG00000000186', u'ENSGALG00000000187', u'ENSGALG00000000193', u'ENSGALG00000000195', u'ENSGALG00000000196', u'ENSGALG00000000201', u'ENSGALG00000000206', u'ENSGALG00000000209', u'ENSGALG00000000223', u'ENSGALG00000000225', u'ENSGALG00000000227', u'ENSGALG00000000230', u'ENSGALG00000000231', u'ENSGALG00000000233', u'ENSGALG00000000235', u'ENSGALG00000000238', u'ENSGALG00000000242', u'ENSGALG00000000243', u'ENSGALG00000000258', u'ENSGALG00000000259', u'ENSGALG00000000270', u'ENSGALG00000000271', u'ENSGALG00000000272', u'ENSGALG00000000275', u'ENSGALG00000000285', u'ENSGALG00000000291', u'ENSGALG00000000293', u'ENSGALG00000000296', u'ENSGALG00000000300', u'ENSGALG00000000302', u'ENSGALG00000000304', u'ENSGALG00000000305', u'ENSGALG00000000307', u'ENSGALG00000000309', u'ENSGALG00000000311', u'ENSGALG00000000312', u'ENSGALG00000000313', u'ENSGALG00000000314', u'ENSGALG00000000316', u'ENSGALG00000000318', u'ENSGALG00000000324', u'ENSGALG00000000327', u'ENSGALG00000000329', u'ENSGALG00000000332', u'ENSGALG00000000336', u'ENSGALG00000000346', u'ENSGALG00000000352', u'ENSGALG00000000353', u'ENSGALG00000000356', u'ENSGALG00000000360', u'ENSGALG00000000362', u'ENSGALG00000000363', ...], dtype='object')\n"
       ]
      }
     ],
     "prompt_number": 22
    },
    {
     "cell_type": "code",
     "collapsed": false,
     "input": [
      "AUTO_tissue_snps = {}\n",
      "\n",
      "for i, f in enumerate(input_vcf):\n",
      "    tissue = f.split(\"/\")[-1].split(\"_\")[0]\n",
      "    SNPs = filter_vcf(f, expressed_AUTO_genes[tissue])\n",
      "    AUTO_tissue_snps[tissue] = SNPs"
     ],
     "language": "python",
     "metadata": {},
     "outputs": [],
     "prompt_number": 17
    },
    {
     "cell_type": "markdown",
     "metadata": {},
     "source": [
      "### Number of genes with SNPs on the Autosomes"
     ]
    },
    {
     "cell_type": "code",
     "collapsed": false,
     "input": [
      "for t in AUTO_tissue_snps:\n",
      "    print t, len(AUTO_tissue_snps[t])"
     ],
     "language": "python",
     "metadata": {},
     "outputs": [
      {
       "output_type": "stream",
       "stream": "stdout",
       "text": [
        "HEART 5140\n",
        "GONAD 2842\n",
        "LIVER 4114\n",
        "SPLEEN 6678\n"
       ]
      }
     ],
     "prompt_number": 18
    },
    {
     "cell_type": "markdown",
     "metadata": {},
     "source": [
      "### Number of SNPs on the Autosomes"
     ]
    },
    {
     "cell_type": "code",
     "collapsed": false,
     "input": [
      "for t in AUTO_tissue_snps:\n",
      "    c = 0\n",
      "    for gene in AUTO_tissue_snps[t]:\n",
      "        c += len(AUTO_tissue_snps[t][gene])\n",
      "    print t, c\n",
      "# Z SNPs\n",
      "for t in Z_tissue_snps:\n",
      "    c = 0\n",
      "    for gene in Z_tissue_snps[t]:\n",
      "\n",
      "        c += len(Z_tissue_snps[t][gene])\n",
      "    print t, c"
     ],
     "language": "python",
     "metadata": {},
     "outputs": [
      {
       "output_type": "stream",
       "stream": "stdout",
       "text": [
        "HEART 25106\n",
        "GONAD 11988\n",
        "LIVER 18734\n",
        "SPLEEN 36580\n",
        "HEART 531\n",
        "GONAD 411\n",
        "LIVER 468\n",
        "SPLEEN 892\n"
       ]
      }
     ],
     "prompt_number": 19
    },
    {
     "cell_type": "markdown",
     "metadata": {},
     "source": [
      "Combination is used as number in supplemental!"
     ]
    },
    {
     "cell_type": "markdown",
     "metadata": {},
     "source": [
      "## Calculate which genes on the Autosomes contain SNPs with ASE"
     ]
    },
    {
     "cell_type": "code",
     "collapsed": false,
     "input": [],
     "language": "python",
     "metadata": {},
     "outputs": [],
     "prompt_number": 19
    },
    {
     "cell_type": "code",
     "collapsed": false,
     "input": [
      "AUTO_ASE_snps= defaultdict(list)\n",
      "AUTO_ASE_genes= defaultdict(list)\n",
      "AUTO_NOASE_genes = defaultdict(list)\n",
      "\n",
      "for t in AUTO_tissue_snps:\n",
      "\n",
      "    for gene in AUTO_tissue_snps[t]:\n",
      "\n",
      "        # There may be multiple SNPs per gene\n",
      "        for snp in AUTO_tissue_snps[t][gene]:\n",
      "            valid = []\n",
      "            rd_ad = []\n",
      "            \n",
      "            for i in [9, 10, 11, 12]: \n",
      "                RD, AD, POS, DP = read_call(snp, i)\n",
      "                RBQ, ABQ = read_quality(snp, i)\n",
      "                # Check if heterozygote\n",
      "                if (RD != 0 and AD != 0):\n",
      "                    #Check for quality\n",
      "                    if (RBQ >= 20 and ABQ >=20):\n",
      "                        ref_allele_fraction = RD/(RD+AD)\n",
      "                        if binom_test_ase(RD, AD) < 0.05:\n",
      "\n",
      "                            if ref_allele_fraction >= 0.7:\n",
      "                                valid.append(gene)\n",
      "                                rd_ad.append((RD,AD))\n",
      "\n",
      "                            if ref_allele_fraction <= 0.3:\n",
      "                                valid.append(gene)\n",
      "                                rd_ad.append((RD,AD))\n",
      "            # If all samples pass the check the gene is valid with ASE\n",
      "            if len(valid) == 4:\n",
      "                snp = {\"gene\": gene, \"ref_allele_fraction\": ref_allele_fraction, \"p-value\": binom_test_ase(RD, AD), \"pos\": POS}\n",
      "                AUTO_ASE_snps[t].append(snp)\n",
      "                AUTO_ASE_genes[t].append(gene)\n",
      "                # Other SNPs may not pass the threshold, remove those from NOASE list\n",
      "                while gene in AUTO_NOASE_genes[t]:\n",
      "                   AUTO_NOASE_genes[t].remove(gene)\n",
      "            else:\n",
      "                if not gene in AUTO_NOASE_genes[t] and not gene in AUTO_ASE_genes[t]:\n",
      "                    AUTO_NOASE_genes[t].append(gene)"
     ],
     "language": "python",
     "metadata": {},
     "outputs": [],
     "prompt_number": 20
    },
    {
     "cell_type": "code",
     "collapsed": false,
     "input": [
      "for t in AUTO_ASE_genes:\n",
      "    print t, len(set(AUTO_ASE_genes[t]))\n",
      "print \"=====\"\n",
      "for t in AUTO_NOASE_genes:\n",
      "    print t, len(AUTO_NOASE_genes[t])"
     ],
     "language": "python",
     "metadata": {},
     "outputs": [
      {
       "output_type": "stream",
       "stream": "stdout",
       "text": [
        "HEART 222\n",
        "GONAD 188\n",
        "LIVER 184\n",
        "SPLEEN 296\n",
        "=====\n",
        "HEART 4918\n",
        "GONAD 2654\n",
        "LIVER 3930\n",
        "SPLEEN 6382\n"
       ]
      }
     ],
     "prompt_number": 21
    },
    {
     "cell_type": "code",
     "collapsed": false,
     "input": [
      "for t in AUTO_tissue_snps:\n",
      "    print t, len(AUTO_tissue_snps[t])"
     ],
     "language": "python",
     "metadata": {},
     "outputs": [
      {
       "output_type": "stream",
       "stream": "stdout",
       "text": [
        "HEART 5140\n",
        "GONAD 2842\n",
        "LIVER 4114\n",
        "SPLEEN 6678\n"
       ]
      }
     ],
     "prompt_number": 22
    },
    {
     "cell_type": "markdown",
     "metadata": {},
     "source": [
      "## Add multiple correction for all autosomes"
     ]
    },
    {
     "cell_type": "code",
     "collapsed": false,
     "input": [
      "# Use R via rpy2\n",
      "import rpy2.robjects as R\n",
      "\n",
      "def fdr_snps(snps):\n",
      "    '''Corrects the binomal tests using false discovery rate'''\n",
      "    lib = R.r[\"library\"]\n",
      "    lib(\"qvalue\")\n",
      "    corrected = []\n",
      "    p_values = [snp[\"p-value\"] for snp in snps]\n",
      "    padjust = R.r[\"p.adjust\"]\n",
      "    args = {\"p\": R.FloatVector(p_values), \"method\": \"bonferroni\"}\n",
      "    adjusted = list(padjust(**args))\n",
      "    for i, p in enumerate(adjusted):\n",
      "        snps[i][\"padjust\"] =  p\n",
      "    \n",
      "    return snps\n",
      "\n",
      "for t in AUTO_ASE_snps:\n",
      "    AUTO_ASE_snps[t] = fdr_snps(AUTO_ASE_snps[t])\n",
      "    "
     ],
     "language": "python",
     "metadata": {},
     "outputs": [],
     "prompt_number": 23
    },
    {
     "cell_type": "code",
     "collapsed": false,
     "input": [
      "AUTO_ASE_genes_fdr = defaultdict(list)\n",
      "for t in AUTO_ASE_snps:\n",
      "    for snp in AUTO_ASE_snps[t]:\n",
      "        if snp[\"padjust\"] < 0.05:\n",
      "            AUTO_ASE_genes_fdr[t].append(snp[\"gene\"])\n",
      "    AUTO_ASE_genes_fdr[t] = list(set(AUTO_ASE_genes_fdr[t]))\n",
      "\n",
      "for t in AUTO_ASE_genes_fdr:\n",
      "    drop = set(AUTO_ASE_genes[t]).difference(AUTO_ASE_genes_fdr[t])\n",
      "    for g in drop:\n",
      "        AUTO_NOASE_genes[t].append(g)\n",
      "\n",
      "    AUTO_NOASE_genes[t] = list(set(AUTO_NOASE_genes[t]))\n",
      "\n",
      "# There should be no overlap\n",
      "for t in AUTO_ASE_genes_fdr:\n",
      "    print set(AUTO_ASE_genes_fdr[t]).intersection(AUTO_NOASE_genes[t])"
     ],
     "language": "python",
     "metadata": {},
     "outputs": [
      {
       "output_type": "stream",
       "stream": "stdout",
       "text": [
        "set([])\n",
        "set([])\n",
        "set([])\n",
        "set([])\n"
       ]
      }
     ],
     "prompt_number": 24
    },
    {
     "cell_type": "code",
     "collapsed": false,
     "input": [
      "for t in AUTO_ASE_genes_fdr:\n",
      "    print t, len(AUTO_ASE_genes_fdr[t])\n",
      "print \"=====\"\n",
      "for t in AUTO_NOASE_genes:\n",
      "    print t, len(AUTO_NOASE_genes[t])"
     ],
     "language": "python",
     "metadata": {},
     "outputs": [
      {
       "output_type": "stream",
       "stream": "stdout",
       "text": [
        "HEART 212\n",
        "GONAD 153\n",
        "LIVER 167\n",
        "SPLEEN 264\n",
        "=====\n",
        "HEART 4928\n",
        "GONAD 2689\n",
        "LIVER 3947\n",
        "SPLEEN 6414\n"
       ]
      }
     ],
     "prompt_number": 25
    },
    {
     "cell_type": "code",
     "collapsed": false,
     "input": [
      "for t in Z_ASE_genes:\n",
      "    print t, len(set(Z_ASE_genes[t]))\n",
      "print \"=====\"\n",
      "for t in Z_NOASE_genes:\n",
      "    print t, len(set(Z_NOASE_genes[t]))"
     ],
     "language": "python",
     "metadata": {},
     "outputs": [
      {
       "output_type": "stream",
       "stream": "stdout",
       "text": [
        "HEART 7\n",
        "GONAD 13\n",
        "LIVER 7\n",
        "SPLEEN 9\n",
        "=====\n",
        "HEART 164\n",
        "GONAD 109\n",
        "LIVER 128\n",
        "SPLEEN 259\n"
       ]
      }
     ],
     "prompt_number": 26
    },
    {
     "cell_type": "markdown",
     "metadata": {},
     "source": [
      "Numbers excluding tri-allic SNPs"
     ]
    },
    {
     "cell_type": "code",
     "collapsed": false,
     "input": [
      "                                                                     #  ASE no ASE\n",
      "print \"Fisher's exact test (spleen auto vs spleen Z): \", fisher_exact([[264,6414],\n",
      "                                                                      [9, 259]])\n",
      "print \"Fisher's exact test (heart auto vs heart Z): \", fisher_exact([[212,4928],\n",
      "                                                                      [7, 164]])\n",
      "print \"Fisher's exact test (liver auto vs liver Z): \", fisher_exact([[167,3947],\n",
      "                                                                      [7, 128]])\n",
      "print \"Fisher's exact test (gonad auto vs gonad Z): \", fisher_exact([[153,2689],\n",
      "                                                                      [13, 109]])"
     ],
     "language": "python",
     "metadata": {},
     "outputs": [
      {
       "output_type": "stream",
       "stream": "stdout",
       "text": [
        "Fisher's exact test (spleen auto vs spleen Z):  "
       ]
      },
      {
       "output_type": "stream",
       "stream": "stdout",
       "text": [
        "(1.1844922565221911, 0.74893513762029285)\n",
        "Fisher's exact test (heart auto vs heart Z):  (1.0078849721706864, 1.0)\n",
        "Fisher's exact test (liver auto vs liver Z):  (0.77367982916500777, 0.50359844146798238)\n",
        "Fisher's exact test (gonad auto vs gonad Z):  (0.47707183110678836, 0.023784968579658297)\n"
       ]
      }
     ],
     "prompt_number": 27
    },
    {
     "cell_type": "markdown",
     "metadata": {},
     "source": [
      "Comparison between autosomes and Z chromosome in the degree of ASE:"
     ]
    },
    {
     "cell_type": "code",
     "collapsed": false,
     "input": [
      "                                                                     #  ASE no ASE\n",
      "print \"Fisher's exact test (spleen auto vs spleen Z): \", fisher_exact([[282,6399],\n",
      "                                                                      [9, 259]])\n",
      "print \"Fisher's exact test (heart auto vs heart Z): \", fisher_exact([[222,4921],\n",
      "                                                                      [9, 163]])\n",
      "print \"Fisher's exact test (liver auto vs liver Z): \", fisher_exact([[171,3944],\n",
      "                                                                      [7, 128]])\n",
      "print \"Fisher's exact test (gonad auto vs gonad Z): \", fisher_exact([[160,2683],\n",
      "                                                                      [13, 109]])"
     ],
     "language": "python",
     "metadata": {},
     "outputs": [
      {
       "output_type": "stream",
       "stream": "stdout",
       "text": [
        "Fisher's exact test (spleen auto vs spleen Z):  "
       ]
      },
      {
       "output_type": "stream",
       "stream": "stdout",
       "text": [
        "(1.2682189925509195, 0.63948858577228662)\n",
        "Fisher's exact test (heart auto vs heart Z):  (0.81704260651629068, 0.56531497961196331)\n",
        "Fisher's exact test (liver auto vs liver Z):  (0.79281367719501594, 0.51051066524702637)\n",
        "Fisher's exact test (gonad auto vs gonad Z):  (0.50001433527337369, 0.028499977191090979)\n"
       ]
      }
     ],
     "prompt_number": 28
    },
    {
     "cell_type": "markdown",
     "metadata": {},
     "source": [
      "No difference in the degree of ASE in all somatic tissues, marginally significant in gonad."
     ]
    },
    {
     "cell_type": "code",
     "collapsed": false,
     "input": [],
     "language": "python",
     "metadata": {},
     "outputs": [],
     "prompt_number": 258
    },
    {
     "cell_type": "code",
     "collapsed": false,
     "input": [],
     "language": "python",
     "metadata": {},
     "outputs": [],
     "prompt_number": 258
    },
    {
     "cell_type": "code",
     "collapsed": false,
     "input": [],
     "language": "python",
     "metadata": {},
     "outputs": [],
     "prompt_number": 258
    },
    {
     "cell_type": "code",
     "collapsed": false,
     "input": [],
     "language": "python",
     "metadata": {},
     "outputs": []
    }
   ],
   "metadata": {}
  }
 ]
}