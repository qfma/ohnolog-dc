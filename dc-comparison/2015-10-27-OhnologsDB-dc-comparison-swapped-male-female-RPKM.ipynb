{
 "metadata": {
  "name": "",
  "signature": "sha256:f0b0521ed9a780c2518a3af75961dc9d5e47f4b27a789eae5345a6596df4361c"
 },
 "nbformat": 3,
 "nbformat_minor": 0,
 "worksheets": [
  {
   "cells": [
    {
     "cell_type": "markdown",
     "metadata": {},
     "source": [
      "##Notebook to analyse if dosage compensated genes on the Z chromosome are more likely to be ohnologs\n",
      "\n",
      "In this notebook I will test if ohnologs located on the Z chromosome are more likely to be dosage compensated.\n",
      "\n",
      "I use a list of Z ohnologs from http://ohnologs.curie.fr/ as an input set and validate this with Ensembl paralog data.\n"
     ]
    },
    {
     "cell_type": "code",
     "collapsed": false,
     "input": [
      "import numpy as np\n",
      "import pandas as pd\n",
      "from scipy.stats import fisher_exact, mannwhitneyu, wilcoxon, ranksums, chi2_contingency, chisquare\n",
      "from tabulate import tabulate\n",
      "import requests\n",
      "import time\n",
      "\n",
      "import matplotlib.pyplot as plt\n",
      "from matplotlib.lines import Line2D \n",
      "import matplotlib\n",
      "%matplotlib inline\n",
      "from matplotlib_venn import venn3, venn3_circles, venn3_unweighted, venn2_unweighted"
     ],
     "language": "python",
     "metadata": {},
     "outputs": [],
     "prompt_number": 286
    },
    {
     "cell_type": "markdown",
     "metadata": {},
     "source": [
      "## Read in EdgeR files and filter expression for all chromosomes\n",
      "\n",
      "Dosage compensated genes are defined as not differentially expressed between males and females using the internal edgeR calculation.\n",
      "\n",
      "First read in the csv files:"
     ]
    },
    {
     "cell_type": "code",
     "collapsed": false,
     "input": [
      "def read_detags(infile):\n",
      "    ''' Wrap the Pandas csv function'''\n",
      "    detags = pd.read_csv(infile)\n",
      "    return detags\n",
      "\n",
      "de_gonad = read_detags(\"/data/ucbtzim/ohnolog-dc/differential-expression/2015-10-27-MF-GONAD-detags-edgeR.csv\")\n",
      "de_spleen = read_detags(\"/data/ucbtzim/ohnolog-dc/differential-expression/2015-10-27-MF-SPLEEN-detags-edgeR.csv\")\n",
      "de_heart = read_detags(\"/data/ucbtzim/ohnolog-dc/differential-expression/2015-10-27-MF-HEART-detags-edgeR.csv\")\n",
      "de_liver = read_detags(\"/data/ucbtzim/ohnolog-dc/differential-expression/2015-10-27-MF-LIVER-detags-edgeR.csv\")\n",
      "\n",
      "de_gonad.head()\n"
     ],
     "language": "python",
     "metadata": {},
     "outputs": [
      {
       "html": [
        "<div style=\"max-height:1000px;max-width:1500px;overflow:auto;\">\n",
        "<table border=\"1\" class=\"dataframe\">\n",
        "  <thead>\n",
        "    <tr style=\"text-align: right;\">\n",
        "      <th></th>\n",
        "      <th>logFC</th>\n",
        "      <th>logCPM</th>\n",
        "      <th>PValue</th>\n",
        "      <th>FDR</th>\n",
        "    </tr>\n",
        "  </thead>\n",
        "  <tbody>\n",
        "    <tr>\n",
        "      <th>ENSGALG00000000386</th>\n",
        "      <td>  8.108556</td>\n",
        "      <td> 6.594766</td>\n",
        "      <td>  0.000000e+00</td>\n",
        "      <td>  0.000000e+00</td>\n",
        "    </tr>\n",
        "    <tr>\n",
        "      <th>ENSGALG00000001756</th>\n",
        "      <td>  8.684406</td>\n",
        "      <td> 7.036651</td>\n",
        "      <td> 9.761462e-316</td>\n",
        "      <td> 7.589536e-312</td>\n",
        "    </tr>\n",
        "    <tr>\n",
        "      <th>ENSGALG00000013312</th>\n",
        "      <td>  9.834955</td>\n",
        "      <td> 5.384945</td>\n",
        "      <td> 9.475218e-253</td>\n",
        "      <td> 4.911321e-249</td>\n",
        "    </tr>\n",
        "    <tr>\n",
        "      <th>ENSGALG00000022674</th>\n",
        "      <td> 12.677968</td>\n",
        "      <td> 5.112837</td>\n",
        "      <td> 3.101470e-219</td>\n",
        "      <td> 1.205696e-215</td>\n",
        "    </tr>\n",
        "    <tr>\n",
        "      <th>ENSGALG00000022679</th>\n",
        "      <td> 12.374174</td>\n",
        "      <td> 4.810069</td>\n",
        "      <td> 2.111286e-215</td>\n",
        "      <td> 6.566100e-212</td>\n",
        "    </tr>\n",
        "  </tbody>\n",
        "</table>\n",
        "</div>"
       ],
       "metadata": {},
       "output_type": "pyout",
       "prompt_number": 287,
       "text": [
        "                        logFC    logCPM         PValue            FDR\n",
        "ENSGALG00000000386   8.108556  6.594766   0.000000e+00   0.000000e+00\n",
        "ENSGALG00000001756   8.684406  7.036651  9.761462e-316  7.589536e-312\n",
        "ENSGALG00000013312   9.834955  5.384945  9.475218e-253  4.911321e-249\n",
        "ENSGALG00000022674  12.677968  5.112837  3.101470e-219  1.205696e-215\n",
        "ENSGALG00000022679  12.374174  4.810069  2.111286e-215  6.566100e-212"
       ]
      }
     ],
     "prompt_number": 287
    },
    {
     "cell_type": "code",
     "collapsed": false,
     "input": [
      "def anti_log2(i):\n",
      "    return np.power(2, i)\n",
      "\n",
      "def log2(i):\n",
      "    return np.log2(i)"
     ],
     "language": "python",
     "metadata": {},
     "outputs": [],
     "prompt_number": 288
    },
    {
     "cell_type": "markdown",
     "metadata": {},
     "source": [
      "## A note on the logFC\n",
      "The edegR logFC value is calculated internally using some additional processing.(see below)\n",
      "\n",
      "Also \"note that the first group listed in the pair is the baseline for the comparison\u2014so if exactTest the pair is c(\"A\",\"B\") then the comparison is B - A, so genes with positive log-fold change are up-regulated in group B compared with group A (and vice versa for genes with negative log-fold change).\" Source EdgeR: Manual\n",
      "\n",
      "In our case this means that the Male expression is substracted from the Female expression (F-M): Positive logFC is upregulation in females, negative logFC is upregulation in Males.\n",
      "\n",
      "On the Z that means the closer we get to 0.0 logFC the more DC occurs."
     ]
    },
    {
     "cell_type": "code",
     "collapsed": false,
     "input": [
      "rpkm_gonad = pd.read_csv(\"/data/ucbtzim/ohnolog-dc/differential-expression/2015-10-27-MF-GONAD-RPKM-NORM-log2-edgeR.csv\")\n",
      "rpkm_spleen = pd.read_csv(\"/data/ucbtzim/ohnolog-dc/differential-expression/2015-10-27-MF-SPLEEN-RPKM-NORM-log2-edgeR.csv\")\n",
      "rpkm_heart = pd.read_csv(\"/data/ucbtzim/ohnolog-dc/differential-expression/2015-10-27-MF-HEART-RPKM-NORM-log2-edgeR.csv\")\n",
      "rpkm_liver = pd.read_csv(\"/data/ucbtzim/ohnolog-dc/differential-expression/2015-10-27-MF-LIVER-RPKM-NORM-log2-edgeR.csv\")"
     ],
     "language": "python",
     "metadata": {},
     "outputs": [],
     "prompt_number": 289
    },
    {
     "cell_type": "markdown",
     "metadata": {},
     "source": [
      "Here I did a quick test to see if the logCPM from edgeR and manual calculations are the same. It turns out that because of internal EdgeR processing the log values are very similar, but not the same."
     ]
    },
    {
     "cell_type": "code",
     "collapsed": false,
     "input": [
      "cpm_gonad = pd.read_csv(\"/data/ucbtzim/ohnolog-dc/differential-expression/2015-10-27-MF-GONAD-CPM-NORM-log2-edgeR.csv\")\n",
      "cpm_spleen = pd.read_csv(\"/data/ucbtzim/ohnolog-dc/differential-expression/2015-10-27-MF-SPLEEN-CPM-NORM-log2-edgeR.csv\")\n",
      "cpm_heart = pd.read_csv(\"/data/ucbtzim/ohnolog-dc/differential-expression/2015-10-27-MF-HEART-CPM-NORM-log2-edgeR.csv\")\n",
      "cpm_liver = pd.read_csv(\"/data/ucbtzim/ohnolog-dc/differential-expression/2015-10-27-MF-LIVER-CPM-NORM-log2-edgeR.csv\")\n",
      "\n",
      "# Check logFC calculation\n",
      "avgCPM = cpm_gonad[:5].applymap(anti_log2).mean(axis=1).map(log2)\n",
      "m_mean = cpm_gonad.ix[:5,0:4].applymap(anti_log2).mean(axis=1).map(log2)\n",
      "f_mean =  cpm_gonad.ix[:5,4:8].applymap(anti_log2).mean(axis=1).map(log2)\n",
      "print f_mean - m_mean\n",
      "print avgCPM\n",
      "\n",
      "print de_gonad.loc[\"ENSGALG00000000003\"]\n",
      "print de_gonad.loc[\"ENSGALG00000000004\"]\n",
      "print de_gonad.loc[\"ENSGALG00000000011\"]\n",
      "print de_gonad.loc[\"ENSGALG00000000013\"]\n",
      "print de_gonad.loc[\"ENSGALG00000000014\"]"
     ],
     "language": "python",
     "metadata": {},
     "outputs": [
      {
       "output_type": "stream",
       "stream": "stdout",
       "text": [
        "ENSGALG00000000003   -0.939368\n",
        "ENSGALG00000000004   -0.482521\n",
        "ENSGALG00000000011    0.086231\n",
        "ENSGALG00000000013   -0.244612\n",
        "ENSGALG00000000014    0.382929\n",
        "dtype: float64\n",
        "ENSGALG00000000003    3.691593\n",
        "ENSGALG00000000004    4.411972\n",
        "ENSGALG00000000011    4.471795\n",
        "ENSGALG00000000013    3.450193\n",
        "ENSGALG00000000014   -0.056549\n",
        "dtype: float64\n",
        "logFC    -0.934248\n",
        "logCPM    3.711351\n",
        "PValue    0.000004\n",
        "FDR       0.000025\n",
        "Name: ENSGALG00000000003, dtype: float64\n",
        "logFC    -0.479235\n",
        "logCPM    4.422986\n",
        "PValue    0.003436\n",
        "FDR       0.010554\n",
        "Name: ENSGALG00000000004, dtype: float64\n",
        "logFC     0.084192\n",
        "logCPM    4.482635\n",
        "PValue    0.618495\n",
        "FDR       0.740100\n",
        "Name: ENSGALG00000000011, dtype: float64\n",
        "logFC    -0.244049\n",
        "logCPM    3.471562\n",
        "PValue    0.161962\n",
        "FDR       0.267738\n",
        "Name: ENSGALG00000000013, dtype: float64\n",
        "logFC     0.403703\n",
        "logCPM    0.152203\n",
        "PValue    0.270645\n",
        "FDR       0.397481\n",
        "Name: ENSGALG00000000014, dtype: float64\n"
       ]
      }
     ],
     "prompt_number": 290
    },
    {
     "cell_type": "markdown",
     "metadata": {},
     "source": [
      "Here we add some positional information (where are genes located):"
     ]
    },
    {
     "cell_type": "code",
     "collapsed": false,
     "input": [
      "def read_gid_to_chr(infile):\n",
      "    '''Reads in a file obtained from Ensembl mapping each gene to its chromosomal location'''\n",
      "    gid_to_chr = {}\n",
      "    with open(infile, \"rb\") as handle:\n",
      "        for line in handle:\n",
      "            if line.startswith(\"Ensembl\"):\n",
      "                continue\n",
      "            else:\n",
      "                line = line.rstrip().split()\n",
      "                gid_to_chr[line[0]] = line[1]\n",
      "    return gid_to_chr\n",
      "\n",
      "gid_to_chr = read_gid_to_chr(\"/data/ucbtzim/ohnolog-dc/dc-comparison/Gallus_gallus.75.gid.chr.proteincoding.tsv\")\n",
      "# Get a list of Z linked gene IDs\n",
      "Z_genes = [g for g, pos in gid_to_chr.items() if pos == \"Z\"]\n",
      "print \"Number of genes (protein coding) on the Z chromosome:\", len(Z_genes)\n",
      "print \"Number of all genes (protein coding + pseudogenes): \", len(gid_to_chr)\n",
      "\n",
      "chicken_chromosomes = [str(i) for i in range(29)] + [\"32\", \"Z\"]\n",
      "\n",
      "autosomal_genes = [g for g, pos in gid_to_chr.items() if pos in chicken_chromosomes]\n",
      "\n",
      "rest = [g for g, pos in gid_to_chr.items() if pos not in chicken_chromosomes]\n",
      "\n",
      "\n",
      "print \"Number of genes only on the autosomes: \", len(autosomal_genes)\n",
      "# print rest"
     ],
     "language": "python",
     "metadata": {},
     "outputs": [
      {
       "output_type": "stream",
       "stream": "stdout",
       "text": [
        "Number of genes (protein coding) on the Z chromosome: 764\n",
        "Number of all genes (protein coding + pseudogenes):  15550\n",
        "Number of genes only on the autosomes:  14496\n"
       ]
      }
     ],
     "prompt_number": 291
    },
    {
     "cell_type": "code",
     "collapsed": false,
     "input": [
      "# Z genes that have a W ortholog\n",
      "Z_W_orthologs = [\"ENSGALG00000013809\",\n",
      "                 \"ENSGALG00000001668\",\n",
      "                 \"ENSGALG00000018639\",\n",
      "                 \"ENSGALG00000014697\",\n",
      "                 \"ENSGALG00000003049\",\n",
      "                 \"ENSGALG00000026192\",\n",
      "                 \"ENSGALG00000001808\",\n",
      "                 \"ENSGALG00000015391\",\n",
      "                 \"ENSGALG00000014734\",\n",
      "                 \"ENSGALG00000025641\", #sno RNA\n",
      "                 \"ENSGALG00000025660\"] #sno RNA\n",
      "Z_genes_no_W = [g for g in Z_genes if g not in Z_W_orthologs]\n",
      "print \"Number of genes on the Z chromosome without W orthologs:\", len(Z_genes_no_W)"
     ],
     "language": "python",
     "metadata": {},
     "outputs": [
      {
       "output_type": "stream",
       "stream": "stdout",
       "text": [
        "Number of genes on the Z chromosome without W orthologs: 755\n"
       ]
      }
     ],
     "prompt_number": 292
    },
    {
     "cell_type": "markdown",
     "metadata": {},
     "source": [
      "11 Z genes have a paralog on the W, which may be excluded, because they have no selection for dosage compensation. If excluded, recovered results are similar. Many of these genes are Ohnologs!"
     ]
    },
    {
     "cell_type": "markdown",
     "metadata": {},
     "source": [
      "Now we filter out all scaffolds and the W chromosome. Only keep autosomes 1-28 and the Z chromosome"
     ]
    },
    {
     "cell_type": "code",
     "collapsed": false,
     "input": [
      "# Create a list of chicken chromosomes\n",
      "# Converts the integers into strings, as they are names and to match the read_gid_to_chr()\n",
      "chicken_chromosomes = [str(i) for i in range(29)] + [\"32\", \"Z\"]\n",
      "\n",
      "# Similar to http://pandas.pydata.org/pandas-docs/stable/indexing.html\n",
      "# search for lambda\n",
      "de_gonad = de_gonad[de_gonad.index.map(lambda x: gid_to_chr[x] in chicken_chromosomes)]\n",
      "de_spleen = de_spleen[de_spleen.index.map(lambda x: gid_to_chr[x] in chicken_chromosomes)]\n",
      "de_heart = de_heart[de_heart.index.map(lambda x: gid_to_chr[x] in chicken_chromosomes)]\n",
      "de_liver = de_liver[de_liver.index.map(lambda x: gid_to_chr[x] in chicken_chromosomes)]\n",
      "\n",
      "print de_gonad.shape\n",
      "print de_spleen.shape\n",
      "print de_heart.shape\n",
      "print de_liver.shape"
     ],
     "language": "python",
     "metadata": {},
     "outputs": [
      {
       "output_type": "stream",
       "stream": "stdout",
       "text": [
        "(14496, 4)\n",
        "(14496, 4)\n",
        "(14496, 4)\n",
        "(14496, 4)\n"
       ]
      }
     ],
     "prompt_number": 293
    },
    {
     "cell_type": "code",
     "collapsed": false,
     "input": [
      "def filter_detags(detags, mincpm):\n",
      "    '''Filter out lowly expressed genes based on a fixed minimum CPM threshold'''\n",
      "    filtered = detags[detags[\"logCPM\"] > mincpm]\n",
      "    return filtered\n",
      "\n",
      "# Beware average CPM is log2 transformed.\n",
      "# For avgCPM of 2 use 1 | log2(2) = 1\n",
      "de_gonad_min2 = filter_detags(de_gonad, 1)\n",
      "de_spleen_min2 = filter_detags(de_spleen, 1)\n",
      "de_heart_min2 = filter_detags(de_heart, 1)\n",
      "de_liver_min2 = filter_detags(de_liver, 1)\n",
      "\n",
      "print de_gonad_min2.shape\n",
      "print de_heart_min2.shape\n",
      "print de_liver_min2.shape\n",
      "print de_spleen_min2.shape\n",
      "\n",
      "print de_gonad_min2.dtypes\n",
      "print de_heart_min2.dtypes\n",
      "print de_liver_min2.dtypes\n",
      "print de_spleen_min2.dtypes"
     ],
     "language": "python",
     "metadata": {},
     "outputs": [
      {
       "output_type": "stream",
       "stream": "stdout",
       "text": [
        "(11944, 4)\n",
        "(9971, 4)\n",
        "(9383, 4)\n",
        "(10847, 4)\n",
        "logFC     float64\n",
        "logCPM    float64\n",
        "PValue    float64\n",
        "FDR       float64\n",
        "dtype: object\n",
        "logFC     float64\n",
        "logCPM    float64\n",
        "PValue    float64\n",
        "FDR       float64\n",
        "dtype: object\n",
        "logFC     float64\n",
        "logCPM    float64\n",
        "PValue    float64\n",
        "FDR       float64\n",
        "dtype: object\n",
        "logFC     float64\n",
        "logCPM    float64\n",
        "PValue    float64\n",
        "FDR       float64\n",
        "dtype: object\n"
       ]
      }
     ],
     "prompt_number": 319
    },
    {
     "cell_type": "code",
     "collapsed": false,
     "input": [
      "def get_chromosomal_expr(detags, genes):\n",
      "    '''Returns a dataframe that contains only genes given in the gene list.\n",
      "       All genes are expected to be from the same chromosome.\n",
      "    '''\n",
      "    return detags[detags.index.isin(genes)]\n",
      "\n",
      "def filter_foldchange(detags):\n",
      "    '''Filter by foldchange, here hardcoded for our dosage compensation criterion'''\n",
      "    DC = detags[(detags[\"logFC\"] >= -0.5) & (detags[\"logFC\"] <= 0.5)]\n",
      "    biased = detags[(detags[\"logFC\"] < -0.5) | (detags[\"logFC\"] > 0.5)]\n",
      "    return biased, DC\n",
      "\n",
      "# Filter the expression so it only contains Z expression\n",
      "Z_de_gonad_min2 = get_chromosomal_expr(de_gonad_min2, Z_genes)\n",
      "Z_de_spleen_min2 = get_chromosomal_expr(de_spleen_min2, Z_genes)\n",
      "Z_de_heart_min2 = get_chromosomal_expr(de_heart_min2, Z_genes)\n",
      "Z_de_liver_min2 = get_chromosomal_expr(de_liver_min2, Z_genes)\n",
      "\n",
      "print \"GONAD\", Z_de_gonad_min2.shape\n",
      "print \"HEART\", Z_de_heart_min2.shape\n",
      "print \"LIVER\", Z_de_liver_min2.shape\n",
      "print \"SPLEEN\",Z_de_spleen_min2.shape\n",
      "# Filter expression based on log fold change. if within -0.5 to 0.5 call DC\n",
      "# Else is biased in some form.\n",
      "Z_de_gonad_min2_biased, Z_de_gonad_min2_dc = filter_foldchange(Z_de_gonad_min2)\n",
      "Z_de_spleen_min2_biased, Z_de_spleen_min2_dc = filter_foldchange(Z_de_spleen_min2)\n",
      "Z_de_heart_min2_biased, Z_de_heart_min2_dc = filter_foldchange(Z_de_heart_min2)\n",
      "Z_de_liver_min2_biased, Z_de_liver_min2_dc = filter_foldchange(Z_de_liver_min2)\n",
      "\n",
      "print tabulate([[\"Tissue\", \"[Sex]-biased\", \"Dosage compensated\"],\n",
      "                [\"Gonad\", Z_de_gonad_min2_biased.shape[0], Z_de_gonad_min2_dc.shape[0]],\n",
      "                [\"Spleen\", Z_de_spleen_min2_biased.shape[0], Z_de_spleen_min2_dc.shape[0]],\n",
      "                [\"Heart\", Z_de_heart_min2_biased.shape[0], Z_de_heart_min2_dc.shape[0]],\n",
      "                [\"Liver\", Z_de_liver_min2_biased.shape[0], Z_de_liver_min2_dc.shape[0]]],\n",
      "                headers=\"firstrow\")\n",
      "\n",
      "print\n",
      "print \"Degree of dosage compensation vs rest in all tissues\"\n",
      "print \"Fisher's exact test (spleen vs heart): \", fisher_exact([[Z_de_spleen_min2_biased.shape[0],Z_de_spleen_min2_dc.shape[0]],\n",
      "                                             [Z_de_heart_min2_biased.shape[0], Z_de_heart_min2_dc.shape[0]]])\n",
      "\n",
      "print \"Fisher's exact test (spleen vs liver): \", fisher_exact([[Z_de_spleen_min2_biased.shape[0],Z_de_spleen_min2_dc.shape[0]],\n",
      "                                             [Z_de_liver_min2_biased.shape[0], Z_de_liver_min2_dc.shape[0]]])\n",
      "\n",
      "print \"Fisher's exact test (spleen vs gonad): \", fisher_exact([[Z_de_spleen_min2_biased.shape[0],Z_de_spleen_min2_dc.shape[0]],\n",
      "                                             [Z_de_gonad_min2_biased.shape[0], Z_de_gonad_min2_dc.shape[0]]])\n",
      "\n",
      "print \"Fisher's exact test (heart vs liver): \", fisher_exact([[Z_de_heart_min2_biased.shape[0],Z_de_heart_min2_dc.shape[0]],\n",
      "                                             [Z_de_liver_min2_biased.shape[0], Z_de_liver_min2_dc.shape[0]]])\n",
      "\n",
      "print \"Fisher's exact test (heart vs gonad): \", fisher_exact([[Z_de_heart_min2_biased.shape[0],Z_de_heart_min2_dc.shape[0]],\n",
      "                                             [Z_de_gonad_min2_biased.shape[0], Z_de_gonad_min2_dc.shape[0]]])\n",
      "\n",
      "print \"Fisher's exact test (liver vs gonad): \", fisher_exact([[Z_de_liver_min2_biased.shape[0],Z_de_liver_min2_dc.shape[0]],\n",
      "                                             [Z_de_gonad_min2_biased.shape[0], Z_de_gonad_min2_dc.shape[0]]])\n",
      "\n",
      "print \"The two 189 numbers in the table are not the same! (paranoia check)\"\n",
      "len(set(Z_de_liver_min2_biased.index).intersection(set(Z_de_gonad_min2_dc.index)))"
     ],
     "language": "python",
     "metadata": {},
     "outputs": [
      {
       "output_type": "stream",
       "stream": "stdout",
       "text": [
        "GONAD (604, 4)\n",
        "HEART (493, 4)\n",
        "LIVER (445, 4)\n",
        "SPLEEN (529, 4)\n",
        "Tissue      [Sex]-biased    Dosage compensated\n",
        "--------  --------------  --------------------\n",
        "Gonad                415                   189\n",
        "Spleen               223                   306\n",
        "Heart                230                   263\n",
        "Liver                193                   252\n",
        "\n",
        "Degree of dosage compensation vs rest in all tissues\n",
        "Fisher's exact test (spleen vs heart):  (0.83331912475134984, 0.16566695847350732)\n",
        "Fisher's exact test (spleen vs liver):  (0.95153916488875345, 0.74513868887312928)\n",
        "Fisher's exact test (spleen vs gonad):  (0.33189227498228208, 2.2849385903242662e-19)\n",
        "Fisher's exact test (heart vs liver):  "
       ]
      },
      {
       "output_type": "stream",
       "stream": "stdout",
       "text": [
        "(1.1418664670304774, 0.32478521303199592)\n",
        "Fisher's exact test (heart vs gonad):  (0.39827752072930506, 1.7346123144608079e-13)\n",
        "Fisher's exact test (liver vs gonad):  (0.34879518072289156, 2.2551727741897068e-16)\n",
        "The two 189 numbers in the table are not the same! (paranoia check)\n"
       ]
      },
      {
       "metadata": {},
       "output_type": "pyout",
       "prompt_number": 342,
       "text": [
        "38"
       ]
      }
     ],
     "prompt_number": 342
    },
    {
     "cell_type": "markdown",
     "metadata": {},
     "source": [
      "## OHNOLOG DB candidates\n",
      "\n",
      "Using candidates from http://ohnologs.curie.fr/  \n",
      "We use the relaxed set for the main analysis, because we focus on Z ohnologs only and we would loose power.  \n",
      "The analysis with the strict set returns similar results (other notebook)"
     ]
    },
    {
     "cell_type": "code",
     "collapsed": false,
     "input": [
      "def read_ohnolog_pairs(infile):\n",
      "    ohnolog_pairs = pd.read_csv(infile,  sep='\\t')\n",
      "    return ohnolog_pairs\n",
      "\n",
      "\n",
      "ohnolog_curie_pairs = read_ohnolog_pairs(\"/data/ucbtzim/ohnolog-dc/ohnologs-curie/CHICKEN.Pairs.Relaxed.2R.txt\")\n",
      "\n",
      "# ohnolog_curie_pairs = read_ohnolog_pairs(\"/data/ucbtzim/ohnolog-dc/ohnologs-curie/CHICKEN.Pairs.Strict.2R.txt\")\n",
      "ohno1 = list(ohnolog_curie_pairs[\"Ohnolog-1 Id\"])\n",
      "print len(ohno1)\n",
      "ohno2 = list(ohnolog_curie_pairs[\"Ohnolog-2 Id\"])\n",
      "# We are interested in unique ohnologs, not pairs\n",
      "combined_ohno = ohno1+ohno2\n",
      "ohnolog_curie_pairs_relaxed_ids = list(set(combined_ohno))\n",
      "print \"Number of ohnologs detected in the chicken genome: \", len(ohnolog_curie_pairs_relaxed_ids)"
     ],
     "language": "python",
     "metadata": {},
     "outputs": [
      {
       "output_type": "stream",
       "stream": "stdout",
       "text": [
        "4282\n",
        "Number of ohnologs detected in the chicken genome:  5228\n"
       ]
      }
     ],
     "prompt_number": 343
    },
    {
     "cell_type": "code",
     "collapsed": false,
     "input": [
      "Z_ohnologs_curie = []\n",
      "for gid in ohnolog_curie_pairs_relaxed_ids:\n",
      "    # Some genes in the DB are not in this genome release Ensembl 75\n",
      "    if gid in gid_to_chr:\n",
      "        if gid_to_chr[gid] == \"Z\":\n",
      "            Z_ohnologs_curie.append(gid)\n",
      "\n",
      "print \"Number of ohnologs on Z according to DB Curie:\", len(set(Z_ohnologs_curie))\n",
      "# print Z_ohnologs_curie"
     ],
     "language": "python",
     "metadata": {},
     "outputs": [
      {
       "output_type": "stream",
       "stream": "stdout",
       "text": [
        "Number of ohnologs on Z according to DB Curie: 223\n"
       ]
      }
     ],
     "prompt_number": 344
    },
    {
     "cell_type": "code",
     "collapsed": false,
     "input": [
      "# Difference between human and chicken genome\n",
      "\n",
      "human_ohnolog_curie_pairs = read_ohnolog_pairs(\"/data/ucbtzim/ohnolog-dc/ohnologs-curie/HUMAN.Pairs.Relaxed.2R.txt\")\n",
      "human_ohno1 = list(human_ohnolog_curie_pairs[\"Ohnolog-1 Id\"])\n",
      "print len(human_ohno1)\n",
      "human_ohno2 = list(human_ohnolog_curie_pairs[\"Ohnolog-2 Id\"])\n",
      "human_ohnolog_curie_pairs_relaxed_ids = list(set(human_ohno1+human_ohno2))\n",
      "print \"Number of ohnologs detected in the human genome: \", len(human_ohnolog_curie_pairs_relaxed_ids)\n",
      "\n",
      "# Protein coding numbers from Ensembl 82\n",
      "print chi2_contingency(np.array([[5228, 7831],[(15508-5228),(20296-7831)]]),correction=True)\n",
      "# Percentages\n",
      "print \"Chicken: \", 5228/15508.\n",
      "print \"Human: \", 7831./20296\n",
      "print human_ohnolog_curie_pairs.shape"
     ],
     "language": "python",
     "metadata": {},
     "outputs": [
      {
       "output_type": "stream",
       "stream": "stdout",
       "text": [
        "8178\n",
        "Number of ohnologs detected in the human genome:  7831\n",
        "(89.858641137822175, 2.557988980939207e-21, 1, array([[  5656.3225338,   7402.6774662],\n",
        "       [  9851.6774662,  12893.3225338]]))\n",
        "Chicken:  0.337116327057\n",
        "Human:  0.3858395743\n",
        "(8178, 16)\n"
       ]
      }
     ],
     "prompt_number": 345
    },
    {
     "cell_type": "markdown",
     "metadata": {},
     "source": [
      "## Test for Ohnolog dosage compensation"
     ]
    },
    {
     "cell_type": "code",
     "collapsed": false,
     "input": [
      "def get_categories(ohnologs, biased, dc):\n",
      "    \n",
      "    results={\"DC_OHNO\": [],\n",
      "             \"NO_DC_OHNO\": [],\n",
      "             \"DC_NO_OHNO\": [],\n",
      "             \"NO_DC_NO_OHNO\": []\n",
      "            }\n",
      "    \n",
      "    for g in dc.index:\n",
      "        if g in ohnologs:\n",
      "            results[\"DC_OHNO\"].append(g)\n",
      "        else:\n",
      "            results[\"DC_NO_OHNO\"].append(g)\n",
      "            \n",
      "    for g in biased.index:\n",
      "        if g in ohnologs:\n",
      "            results[\"NO_DC_OHNO\"].append(g)\n",
      "        else:\n",
      "            results[\"NO_DC_NO_OHNO\"].append(g)\n",
      "\n",
      "    print tabulate([[\"\", \"OHNO\",\"NO-OHNO\"],\n",
      "                    [\"DC\", len(results[\"DC_OHNO\"]), len(results[\"DC_NO_OHNO\"])],\n",
      "                    [\"NODC\",len(results[\"NO_DC_OHNO\"]), len(results[\"NO_DC_NO_OHNO\"])]],\n",
      "                    headers=\"firstrow\")\n",
      "    print \"Fisher's exact test: \", fisher_exact([[len(results[\"DC_OHNO\"]),len(results[\"DC_NO_OHNO\"])],\n",
      "                                                 [len(results[\"NO_DC_OHNO\"]), len(results[\"NO_DC_NO_OHNO\"])]])\n",
      "    #Rotate the table, no difference\n",
      "#     print \"Fisher's exact test: \", fisher_exact([[len(results[\"DC_OHNO\"]),len(results[\"NO_DC_OHNO\"])],\n",
      "#                                              [len(results[\"DC_NO_OHNO\"]), len(results[\"NO_DC_NO_OHNO\"])]])\n",
      "    print \"Sum: \", sum([len(results[\"DC_OHNO\"]),len(results[\"DC_NO_OHNO\"]),\n",
      "                        len(results[\"NO_DC_OHNO\"]), len(results[\"NO_DC_NO_OHNO\"])])\n",
      "    print \"\"\n",
      "    \n",
      "    return results\n",
      "\n",
      "print \"Gonad\"\n",
      "gonad_result = get_categories(Z_ohnologs_curie, Z_de_gonad_min2_biased, Z_de_gonad_min2_dc)\n",
      "print \"Spleen\"\n",
      "spleen_result = get_categories(Z_ohnologs_curie, Z_de_spleen_min2_biased, Z_de_spleen_min2_dc)\n",
      "print \"Heart\"\n",
      "heart_result = get_categories(Z_ohnologs_curie, Z_de_heart_min2_biased, Z_de_heart_min2_dc)\n",
      "print \"Liver\"\n",
      "liver_result = get_categories(Z_ohnologs_curie, Z_de_liver_min2_biased, Z_de_liver_min2_dc)"
     ],
     "language": "python",
     "metadata": {},
     "outputs": [
      {
       "output_type": "stream",
       "stream": "stdout",
       "text": [
        "Gonad\n",
        "        OHNO    NO-OHNO\n",
        "----  ------  ---------\n",
        "DC        86        103\n",
        "NODC     115        300\n",
        "Fisher's exact test:  (2.1781342338539469, 2.5656590279759648e-05)\n",
        "Sum:  604\n",
        "\n",
        "Spleen\n",
        "        OHNO    NO-OHNO\n",
        "----  ------  ---------\n",
        "DC       126        180\n",
        "NODC      51        172\n",
        "Fisher's exact test:  "
       ]
      },
      {
       "output_type": "stream",
       "stream": "stdout",
       "text": [
        "(2.3607843137254902, 1.0758431419184137e-05)\n",
        "Sum:  529\n",
        "\n",
        "Heart\n",
        "        OHNO    NO-OHNO\n",
        "----  ------  ---------\n",
        "DC       111        152\n",
        "NODC      54        176\n",
        "Fisher's exact test:  (2.3801169590643276, 1.0612190707958937e-05)\n",
        "Sum:  493\n",
        "\n",
        "Liver\n",
        "        OHNO    NO-OHNO\n",
        "----  ------  ---------\n",
        "DC       105        147\n",
        "NODC      41        152\n",
        "Fisher's exact test:  "
       ]
      },
      {
       "output_type": "stream",
       "stream": "stdout",
       "text": [
        "(2.6480836236933798, 6.5250335207362417e-06)\n",
        "Sum:  445\n",
        "\n"
       ]
      }
     ],
     "prompt_number": 358
    },
    {
     "cell_type": "raw",
     "metadata": {},
     "source": []
    },
    {
     "cell_type": "markdown",
     "metadata": {},
     "source": [
      "## Overlap between dosage-compensated ohnologs in different tissues"
     ]
    },
    {
     "cell_type": "code",
     "collapsed": false,
     "input": [
      "spleen_dc_ohno = set(spleen_result[\"DC_OHNO\"])\n",
      "heart_dc_ohno = set(heart_result[\"DC_OHNO\"])\n",
      "liver_dc_ohno = set(liver_result[\"DC_OHNO\"])\n",
      "gonad_dc_ohno = set(gonad_result[\"DC_OHNO\"])\n",
      "plt.figure(figsize=(3,3))\n",
      "venn = venn3_unweighted([spleen_dc_ohno, heart_dc_ohno, liver_dc_ohno], ('Spleen', 'Heart', 'Liver'))\n",
      "plt.savefig(\"2015-10-27-ohnolog-dc-soma-venn-overlap.pdf\", dpi=300)"
     ],
     "language": "python",
     "metadata": {},
     "outputs": [
      {
       "metadata": {},
       "output_type": "display_data",
       "png": "[encoded data removed]",
       "text": [
        "<matplotlib.figure.Figure at 0x5fbd410>"
       ]
      }
     ],
     "prompt_number": 370
    },
    {
     "cell_type": "code",
     "collapsed": false,
     "input": [
      "soma_dc_ohno = spleen_dc_ohno.intersection(heart_dc_ohno,liver_dc_ohno)\n",
      "print len(soma_dc_ohno)\n",
      "plt.figure(figsize=(3,3))\n",
      "venn = venn2_unweighted([soma_dc_ohno, gonad_dc_ohno], ('Soma', 'Gonad'))\n",
      "plt.savefig(\"2015-10-27-ohnolog-dc-venn-soma-gonad-overlap.pdf\", dpi=300)"
     ],
     "language": "python",
     "metadata": {},
     "outputs": [
      {
       "output_type": "stream",
       "stream": "stdout",
       "text": [
        "68\n"
       ]
      },
      {
       "metadata": {},
       "output_type": "display_data",
       "png": "[encoded data removed]",
       "text": [
        "<matplotlib.figure.Figure at 0x6c7f450>"
       ]
      }
     ],
     "prompt_number": 348
    },
    {
     "cell_type": "markdown",
     "metadata": {},
     "source": [
      "## Overlap between dosage-compensated non-ohnologs in different tissues"
     ]
    },
    {
     "cell_type": "code",
     "collapsed": false,
     "input": [
      "spleen_dc_no_ohno = set(spleen_result[\"DC_NO_OHNO\"])\n",
      "heart_dc_no_ohno = set(heart_result[\"DC_NO_OHNO\"])\n",
      "liver_dc_no_ohno = set(liver_result[\"DC_NO_OHNO\"])\n",
      "gonad_dc_no_ohno = set(gonad_result[\"DC_NO_OHNO\"])\n",
      "\n",
      "plt.figure(figsize=(3,3))\n",
      "venn = venn3_unweighted([spleen_dc_no_ohno, heart_dc_no_ohno, liver_dc_no_ohno], ('Spleen', 'Heart', 'Liver'))\n",
      "# plt.savefig(\"2015-10-06-ohnolog-dc-noohno-soma-venn-overlap.pdf\", dpi=300)"
     ],
     "language": "python",
     "metadata": {},
     "outputs": [
      {
       "metadata": {},
       "output_type": "display_data",
       "png": "[encoded data removed]",
       "text": [
        "<matplotlib.figure.Figure at 0x621c4d0>"
       ]
      }
     ],
     "prompt_number": 349
    },
    {
     "cell_type": "code",
     "collapsed": false,
     "input": [
      "soma_dc_no_ohno = spleen_dc_no_ohno.intersection(heart_dc_no_ohno,liver_dc_no_ohno)\n",
      "print len(soma_dc_ohno)\n",
      "plt.figure(figsize=(3,3))\n",
      "venn = venn2_unweighted([soma_dc_no_ohno, gonad_dc_no_ohno], ('Soma', 'Gonad'))\n",
      "# plt.savefig(\"2015-10-06-ohnolog-dc-venn-soma-gonad-overlap.pdf\", dpi=300)"
     ],
     "language": "python",
     "metadata": {},
     "outputs": [
      {
       "output_type": "stream",
       "stream": "stdout",
       "text": [
        "68\n"
       ]
      },
      {
       "metadata": {},
       "output_type": "display_data",
       "png": "[encoded data removed]",
       "text": [
        "<matplotlib.figure.Figure at 0x6cb2550>"
       ]
      }
     ],
     "prompt_number": 350
    },
    {
     "cell_type": "markdown",
     "metadata": {},
     "source": [
      "## How many ohnologs have partners on the Z chromosome?\n",
      "\n",
      "If both ohnologs are located on the Z chromosome this may be reason to exclude these pairs?"
     ]
    },
    {
     "cell_type": "code",
     "collapsed": false,
     "input": [
      "Z_ohnolog_pairs = ohnolog_curie_pairs[(ohnolog_curie_pairs[\"Ohnolog-1 Id\"].isin(Z_genes)) & (ohnolog_curie_pairs[\"Ohnolog-2 Id\"].isin(Z_genes))]\n",
      "print Z_ohnolog_pairs.shape[0], \" pairs (8 genes) are ohnologs with partners on the Z chromosome\""
     ],
     "language": "python",
     "metadata": {},
     "outputs": [
      {
       "output_type": "stream",
       "stream": "stdout",
       "text": [
        "4  pairs (8 genes) are ohnologs with partners on the Z chromosome\n"
       ]
      }
     ],
     "prompt_number": 351
    },
    {
     "cell_type": "markdown",
     "metadata": {},
     "source": [
      "## Compare ohnolog vs other paralogs\n",
      "\n",
      "Ohnologs are a subset of all paralogs on the Z chromosome. Ohnologs should be more likely to be dosage compensated, but regular paralogs should not be more likely to be dosage compensated. I therefore query the Ensembl REST API to get a dictionary with all genes on the Z chromosome and their status Paralog (duplicates on other chromosomes) ohnologs."
     ]
    },
    {
     "cell_type": "code",
     "collapsed": false,
     "input": [
      "def ensembl_paralogs(identifier):\n",
      "    '''Access to the Ensembl REST API'''\n",
      "    payload = {\"content-type\": \"application/json\",\n",
      "               \"type\": \"paralogues\"}\n",
      "    r = requests.get('http://rest.ensembl.org/homology/id/'+identifier, params=payload)\n",
      "    return r.json()\n",
      "\n",
      "i = 0\n",
      "\n",
      "Z_paralogs = 0\n",
      "Z_solo = 0\n",
      "Z_paralogs_no_ohno = []\n",
      "for g in Z_genes:\n",
      "    # Be polite - don't hammer the API\n",
      "    time.sleep(0.1)\n",
      "    query_result = ensembl_paralogs(g)\n",
      "#     print g, len(ensembl_paralogs[\"data\"][0][\"homologies\"])\n",
      "    if len(query_result[\"data\"][0][\"homologies\"]) != 0:\n",
      "        Z_paralogs += 1\n",
      "        if g not in Z_ohnologs_curie:\n",
      "            Z_paralogs_no_ohno.append(g)\n",
      "    else:\n",
      "        Z_solo += 1\n",
      "        \n",
      "print Z_paralogs\n",
      "print Z_solo"
     ],
     "language": "python",
     "metadata": {},
     "outputs": [
      {
       "output_type": "stream",
       "stream": "stdout",
       "text": [
        "517\n",
        "247\n"
       ]
      }
     ],
     "prompt_number": 352
    },
    {
     "cell_type": "code",
     "collapsed": false,
     "input": [
      "# Z_ohnologs_curie"
     ],
     "language": "python",
     "metadata": {},
     "outputs": [],
     "prompt_number": 353
    },
    {
     "cell_type": "code",
     "collapsed": false,
     "input": [
      "print len(Z_paralogs_no_ohno)\n",
      "def get_categories_para(paralogs, biased, dc):\n",
      "    results={\"DC_PARA\": [],\n",
      "             \"NO_DC_PARA\": [],\n",
      "             \"DC_NO_PARA\": [],\n",
      "             \"NO_DC_NO_PARA\": []\n",
      "            }\n",
      "    \n",
      "    for g in dc.index:\n",
      "        if g in paralogs:\n",
      "            results[\"DC_PARA\"].append(g)\n",
      "        else:\n",
      "            results[\"DC_NO_PARA\"].append(g)\n",
      "            \n",
      "    for g in biased.index:\n",
      "        if g in paralogs:\n",
      "            results[\"NO_DC_PARA\"].append(g)\n",
      "        else:\n",
      "            results[\"NO_DC_NO_PARA\"].append(g)\n",
      "    print tabulate([[\"\", \"PARA\",\"NO-PARA\"],\n",
      "                    [\"DC\", len(results[\"DC_PARA\"]), len(results[\"DC_NO_PARA\"])],\n",
      "                    [\"NODC\",len(results[\"NO_DC_PARA\"]), len(results[\"NO_DC_NO_PARA\"])]],\n",
      "                    headers=\"firstrow\")\n",
      "    print \"Fisher's exact test: \", fisher_exact([[len(results[\"DC_PARA\"]),len(results[\"DC_NO_PARA\"])],\n",
      "                                                 [len(results[\"NO_DC_PARA\"]), len(results[\"NO_DC_NO_PARA\"])]])\n",
      "    print \"\"\n",
      "    print sum([len(results[\"DC_PARA\"]),len(results[\"DC_NO_PARA\"]),len(results[\"NO_DC_PARA\"]), len(results[\"NO_DC_NO_PARA\"])])\n",
      "    \n",
      "print \"Gonad\"\n",
      "gonad_result = get_categories_para(Z_paralogs_no_ohno, Z_de_gonad_min2_biased, Z_de_gonad_min2_dc)\n",
      "print \"Spleen\"\n",
      "spleen_result = get_categories_para(Z_paralogs_no_ohno, Z_de_spleen_min2_biased, Z_de_spleen_min2_dc)\n",
      "print \"Heart\"\n",
      "heart_result = get_categories_para(Z_paralogs_no_ohno, Z_de_heart_min2_biased, Z_de_heart_min2_dc)\n",
      "print \"Liver\"\n",
      "liver_result = get_categories_para(Z_paralogs_no_ohno, Z_de_liver_min2_biased, Z_de_liver_min2_dc)"
     ],
     "language": "python",
     "metadata": {},
     "outputs": [
      {
       "output_type": "stream",
       "stream": "stdout",
       "text": [
        "297\n",
        "Gonad\n",
        "        PARA    NO-PARA\n",
        "----  ------  ---------\n",
        "DC        55        134\n",
        "NODC     145        270\n",
        "Fisher's exact test:  (0.76428203808543493, 0.16323462764266228)\n",
        "\n",
        "604\n",
        "Spleen\n",
        "        PARA    NO-PARA\n",
        "----  ------  ---------\n",
        "DC        96        210\n",
        "NODC      63        160\n",
        "Fisher's exact test:  "
       ]
      },
      {
       "output_type": "stream",
       "stream": "stdout",
       "text": [
        "(1.1609977324263039, 0.44455069258327529)\n",
        "\n",
        "529\n",
        "Heart\n",
        "        PARA    NO-PARA\n",
        "----  ------  ---------\n",
        "DC        76        187\n",
        "NODC      73        157\n",
        "Fisher's exact test:  (0.87407515932898694, 0.555427316320114)\n",
        "\n",
        "493\n",
        "Liver\n",
        "        PARA    NO-PARA\n",
        "----  ------  ---------\n",
        "DC        76        176\n",
        "NODC      58        135\n",
        "Fisher's exact test:  (1.0050940438871474, 1.0)\n",
        "\n",
        "445\n"
       ]
      }
     ],
     "prompt_number": 354
    },
    {
     "cell_type": "markdown",
     "metadata": {},
     "source": [
      "## Ohnolog expression fold change vs non-ohnolog fold change on the Z chromosome"
     ]
    },
    {
     "cell_type": "code",
     "collapsed": false,
     "input": [
      "def split_expr(ohnologs, expr):\n",
      "    '''Split the detags into those that are ohnologs and those that are not'''\n",
      "    ohno_index = expr.index.isin(ohnologs)\n",
      "    ohnolog_fc = expr[ohno_index]\n",
      "    other_fc = expr[~ohno_index]\n",
      "    \n",
      "    return ohnolog_fc, other_fc\n",
      "\n",
      "\n",
      "fc_tissues = {\"Gonad\":{},\"Spleen\":{},\"Heart\":{},\"Liver\":{}}\n",
      "print \"Gonad\"\n",
      "gonad_ohnolog_fc, gonad_other_fc = split_expr(Z_ohnologs_curie, Z_de_gonad_min2)\n",
      "print np.mean(gonad_ohnolog_fc[\"logFC\"]), np.mean(gonad_other_fc[\"logFC\"])\n",
      "print np.median(gonad_ohnolog_fc[\"logFC\"]), np.median(gonad_other_fc[\"logFC\"])\n",
      "print ranksums(gonad_ohnolog_fc[\"logFC\"], gonad_other_fc[\"logFC\"])\n",
      "print '%.2f' % round(ranksums(gonad_ohnolog_fc[\"logFC\"], gonad_other_fc[\"logFC\"])[0], 2)\n",
      "fc_tissues[\"Gonad\"][\"OHNO\"] = gonad_ohnolog_fc[\"logFC\"]\n",
      "fc_tissues[\"Gonad\"][\"NO-OHNO\"] = gonad_other_fc[\"logFC\"]\n",
      "print mannwhitneyu(gonad_ohnolog_fc[\"logFC\"], gonad_other_fc[\"logFC\"])[1]*2\n",
      "print len(set(fc_tissues[\"Gonad\"][\"OHNO\"])), len(set(fc_tissues[\"Gonad\"][\"NO-OHNO\"]))\n",
      "\n",
      "print \"Spleen\"\n",
      "spleen_ohnolog_fc, spleen_other_fc = split_expr(Z_ohnologs_curie, Z_de_spleen_min2)\n",
      "print np.mean(spleen_ohnolog_fc[\"logFC\"]), np.mean(spleen_other_fc[\"logFC\"])\n",
      "print np.median(spleen_ohnolog_fc[\"logFC\"]), np.median(spleen_other_fc[\"logFC\"])\n",
      "print ranksums(spleen_ohnolog_fc[\"logFC\"], spleen_other_fc[\"logFC\"])\n",
      "print '%.2f' % round(ranksums(spleen_ohnolog_fc[\"logFC\"], spleen_other_fc[\"logFC\"])[0], 2)\n",
      "fc_tissues[\"Spleen\"][\"OHNO\"] = spleen_ohnolog_fc[\"logFC\"]\n",
      "fc_tissues[\"Spleen\"][\"NO-OHNO\"] = spleen_other_fc[\"logFC\"]\n",
      "print mannwhitneyu(spleen_ohnolog_fc[\"logFC\"], spleen_other_fc[\"logFC\"])[1]*2\n",
      "print len(set(fc_tissues[\"Spleen\"][\"OHNO\"])), len(set(fc_tissues[\"Spleen\"][\"NO-OHNO\"]))\n",
      "\n",
      "print \"Heart\"\n",
      "heart_ohnolog_fc, heart_other_fc = split_expr(Z_ohnologs_curie, Z_de_heart_min2)\n",
      "print np.mean(heart_ohnolog_fc[\"logFC\"]), np.mean(heart_other_fc[\"logFC\"])\n",
      "print np.median(heart_ohnolog_fc[\"logFC\"]), np.median(heart_other_fc[\"logFC\"])\n",
      "print ranksums(heart_ohnolog_fc[\"logFC\"], heart_other_fc[\"logFC\"])\n",
      "print '%.2f' % round(ranksums(heart_ohnolog_fc[\"logFC\"], heart_other_fc[\"logFC\"])[0], 2)\n",
      "fc_tissues[\"Heart\"][\"OHNO\"] = heart_ohnolog_fc[\"logFC\"]\n",
      "fc_tissues[\"Heart\"][\"NO-OHNO\"] = heart_other_fc[\"logFC\"]\n",
      "print mannwhitneyu(heart_ohnolog_fc[\"logFC\"], heart_other_fc[\"logFC\"])[1]*2\n",
      "print len(set(fc_tissues[\"Heart\"][\"OHNO\"])), len(set(fc_tissues[\"Heart\"][\"NO-OHNO\"]))\n",
      "\n",
      "print \"Liver\"\n",
      "liver_ohnolog_fc, liver_other_fc = split_expr(Z_ohnologs_curie, Z_de_liver_min2)\n",
      "print np.mean(liver_ohnolog_fc[\"logFC\"]), np.mean(liver_other_fc[\"logFC\"])\n",
      "print np.median(liver_ohnolog_fc[\"logFC\"]), np.median(liver_other_fc[\"logFC\"])\n",
      "print ranksums(liver_ohnolog_fc[\"logFC\"], liver_other_fc[\"logFC\"])\n",
      "print '%.2f' % round(ranksums(liver_ohnolog_fc[\"logFC\"], liver_other_fc[\"logFC\"])[0], 2)\n",
      "fc_tissues[\"Liver\"][\"OHNO\"] = liver_ohnolog_fc[\"logFC\"]\n",
      "fc_tissues[\"Liver\"][\"NO-OHNO\"] = liver_other_fc[\"logFC\"]\n",
      "print mannwhitneyu(liver_ohnolog_fc[\"logFC\"], liver_other_fc[\"logFC\"])[1]*2\n",
      "print len(set(fc_tissues[\"Liver\"][\"OHNO\"])), len(set(fc_tissues[\"Liver\"][\"NO-OHNO\"]))"
     ],
     "language": "python",
     "metadata": {},
     "outputs": [
      {
       "output_type": "stream",
       "stream": "stdout",
       "text": [
        "Gonad\n",
        "-0.308491592183 -0.632631281576\n",
        "-0.359633272283 -0.708270459907\n",
        "(4.8922084633809444, 9.9710749944626391e-07)\n",
        "4.89\n",
        "9.98362077247e-07\n",
        "201 403\n",
        "Spleen\n",
        "-0.266165090405 -0.47009898039\n",
        "-0.307510805893 -0.473413334629\n",
        "(5.9529444178903672, 2.6336075963346287e-09)\n",
        "5.95\n",
        "2.63846415746e-09\n",
        "177 352\n",
        "Heart\n",
        "-0.286722794218 -0.422457071305\n",
        "-0.3425500658 -0.519701061507\n",
        "(4.5671108073486959, 4.9449264296078773e-06)\n",
        "4.57\n",
        "4.95283184319e-06\n",
        "165 328\n",
        "Liver\n",
        "-0.239076821377 -0.423827801882\n",
        "-0.266854795553 -0.480449795971\n",
        "(5.2168236602498457, 1.8201739056461707e-07)\n",
        "5.22\n",
        "1.82403357162e-07\n",
        "146 299\n"
       ]
      }
     ],
     "prompt_number": 355
    },
    {
     "cell_type": "raw",
     "metadata": {},
     "source": []
    },
    {
     "cell_type": "code",
     "collapsed": false,
     "input": [
      "def color_boxes(bp):\n",
      "    red = False\n",
      "    for box in bp['boxes']:\n",
      "        # change outline color\n",
      "        box.set( color='black', linewidth=1)\n",
      "#         box.set( color='black', linewidth=1)\n",
      "\n",
      "        if red == True:\n",
      "            box.set( facecolor = 'gray' )\n",
      "            red = False\n",
      "        else:\n",
      "            box.set( facecolor = '#379F7A' )\n",
      "            red = True\n",
      "\n",
      "    for median in bp['medians']:\n",
      "        median.set(color='black', linewidth=1)\n",
      "\n",
      "    for whisker in bp['whiskers']:\n",
      "        whisker.set(color='black', linewidth=1, linestyle=\"-\")\n",
      "\n",
      "    ## change color and linewidth of the caps\n",
      "    for cap in bp['caps']:\n",
      "        cap.set(color='black', linewidth=1)\n",
      "\n",
      "        \n",
      "font = {'family' : 'Source Sans Pro',\n",
      "'weight' : 'normal',\n",
      "'size'   : 11}\n",
      "\n",
      "matplotlib.rc('font', **font)\n",
      "        \n",
      "fig, axes = plt.subplots(ncols=4, sharey=True, figsize=(6, 4))\n",
      "fig.subplots_adjust(wspace=0.1)\n",
      "\n",
      "for ax, name in zip(axes, ['Spleen', 'Heart', 'Liver', \"Gonad\"]):\n",
      "    bp = ax.boxplot([fc_tissues[name][item] for item in ['OHNO', 'NO-OHNO']], sym=\"\", widths=0.7, patch_artist=True, notch=True)\n",
      "    lengths = [len(fc_tissues[name][item]) for item in ['OHNO', 'NO-OHNO']]\n",
      "    ax.set(xticklabels=['Ohno\\n(%i)' %lengths[0], 'non-Ohno\\n(%i)' %lengths[1]])\n",
      "    color_boxes(bp)\n",
      "    ax.grid(False)\n",
      "    \n",
      "    ax.patch.set_facecolor('None')\n",
      "    # Remove the ticks on the right and top side\n",
      "    ax.yaxis.set_ticks_position('left')\n",
      "    ax.xaxis.set_ticks_position('bottom')\n",
      "\n",
      "    \n",
      "    \n",
      "    ax.axhline(y=0, c=\"black\",linewidth=1,zorder=0, linestyle=\"--\")\n",
      "    if name == \"Gonad\":\n",
      "        ax.set_title(\"(d) Gonad\")\n",
      "        ax.text(1.30, 1.2, \"***\", fontsize=15)\n",
      "        l = Line2D([1,2],[1.2,1.2],color=\"black\")                                    \n",
      "        ax.add_line(l)\n",
      "        l = Line2D([1,1],[1.2,1.15],color=\"black\")                                    \n",
      "        ax.add_line(l)\n",
      "        l = Line2D([2,2],[1.2,1.15],color=\"black\")\n",
      "        ax.add_line(l)\n",
      "    elif name == \"Spleen\":\n",
      "        ax.set_title(\"(a) Spleen\")\n",
      "        ax.set_ylabel(r'$log_2$'+\"FC\")\n",
      "        ax.text(1.30, 0.7, \"***\", fontsize=15)\n",
      "        l = Line2D([1,2],[0.7,0.7],color=\"black\")                                    \n",
      "        ax.add_line(l)\n",
      "        l = Line2D([1,1],[0.7,0.65],color=\"black\")                                    \n",
      "        ax.add_line(l)\n",
      "        l = Line2D([2,2],[0.7,0.65],color=\"black\")\n",
      "        ax.add_line(l)\n",
      "    elif name == \"Liver\":\n",
      "        ax.set_title(\"(c) Liver\")\n",
      "        l = Line2D([1,2],[0.7,0.7],color=\"black\")                                    \n",
      "        ax.add_line(l)\n",
      "        l = Line2D([1,1],[0.7,0.65],color=\"black\")                                    \n",
      "        ax.add_line(l)\n",
      "        l = Line2D([2,2],[0.7,0.65],color=\"black\")                                    \n",
      "        ax.add_line(l)\n",
      "        ax.text(1.3, 0.7, \"***\", fontsize=15)\n",
      "    elif name == \"Heart\":\n",
      "        ax.set_title(\"(b) Heart\")\n",
      "        l = Line2D([1,2],[0.7,0.7],color=\"black\")                                    \n",
      "        ax.add_line(l)\n",
      "        l = Line2D([1,1],[0.7,0.65],color=\"black\")                                    \n",
      "        ax.add_line(l)\n",
      "        l = Line2D([2,2],[0.7,0.65],color=\"black\")                                    \n",
      "        ax.add_line(l)\n",
      "        ax.text(1.3, 0.7, \"***\", fontsize=15)\n",
      "    else:\n",
      "        continue\n",
      "fig.tight_layout()\n",
      "\n",
      "plt.savefig(\"2015-10-27-ohnolog-foldchange.png\", dpi=300)\n",
      "plt.savefig(\"2015-10-27-ohnolog-foldchange.pdf\", dpi=300)"
     ],
     "language": "python",
     "metadata": {},
     "outputs": [
      {
       "metadata": {},
       "output_type": "display_data",
       "png": "[encoded data removed]",
       "text": [
        "<matplotlib.figure.Figure at 0x6fafb50>"
       ]
      }
     ],
     "prompt_number": 356
    },
    {
     "cell_type": "markdown",
     "metadata": {},
     "source": [
      "## Ohnolog overrepresentation in strata? Positional analysis.\n",
      "We may expect a higher amount of DC ohnologs in older strata\n",
      "\n",
      "1. Calculate the number of ohnologs per stratum (are there more ohnologs in one in comparison to others?)\n",
      "2. Calculate the proportion of DC ohnologs in old strata (1 and 2) vs new strata (3+4). Test with chi square test, if proportion is higher than expected (roughly 50% DC ohnologs should be in old and 50% in new"
     ]
    },
    {
     "cell_type": "code",
     "collapsed": false,
     "input": [
      "strata = [{\"stratum\": 1, \"start\": 44762622, \"stop\":51097769, \"ohnologs\": []}, # Old\n",
      "          {\"stratum\": 2, \"start\": 53653310, \"stop\":60835253, \"ohnologs\": []}, # Old\n",
      "          {\"stratum\": 3, \"start\": 17217589, \"stop\":43106716, \"ohnologs\": []}, #Young\n",
      "          {\"stratum\": 4, \"start\": 440703, \"stop\": 11217083, \"ohnologs\": []}] #Young\n",
      "\n",
      "def ensembl_id_lookup(identifier):\n",
      "    payload = {\"content-type\": \"application/json\"}\n",
      "    r = requests.get('http://rest.ensembl.org/lookup/id/'+identifier, params=payload)\n",
      "    return r.json()\n",
      "\n",
      "\n",
      "mhm = []\n",
      "no_mhm = []\n",
      "\n",
      "old = []\n",
      "young = []\n",
      "\n",
      "\n",
      "\n",
      "\n",
      "for g in Z_ohnologs_curie:\n",
      "    # Requests turns this into the correct integer\n",
      "    gstart = ensembl_id_lookup(g)[\"start\"]\n",
      "#     print g, type(gstart)\n",
      "    time.sleep(0.1)\n",
      "    \n",
      "    # Group ohnologs into strata\n",
      "    for stratum in strata:\n",
      "        if stratum[\"start\"] <= gstart <= stratum[\"stop\"]:\n",
      "            stratum[\"ohnologs\"].append(g)\n",
      "            \n",
      "    # Find those ohnologs located in the MHM region\n",
      "    if 25000000 <= gstart <= 35000000:\n",
      "        mhm.append(g)\n",
      "    else:\n",
      "        no_mhm.append(g)\n",
      "        \n",
      "    # Devide Ohnologs into young and old\n",
      "    if gstart > 43106716: # End of last gene in stratum 3 \n",
      "        old.append(g)\n",
      "    else:\n",
      "        young.append(g)\n",
      "\n",
      "all_old = []\n",
      "all_young = []\n",
      "for g in Z_genes:\n",
      "    gstart = ensembl_id_lookup(g)[\"start\"]\n",
      "    if gstart > 43106716: # End of last gene in stratum 3 \n",
      "        all_old.append(g)\n",
      "    else:\n",
      "        all_young.append(g)"
     ],
     "language": "python",
     "metadata": {},
     "outputs": [],
     "prompt_number": 310
    },
    {
     "cell_type": "code",
     "collapsed": false,
     "input": [
      "print len(set(Z_ohnologs_curie))\n",
      "for s in strata:\n",
      "    print \"Stratum\", s[\"stratum\"], len(s[\"ohnologs\"])\n",
      "\n",
      "print \"MHM\", len(mhm)\n",
      "print \"OLD\", len(old)\n",
      "print \"YOUNG\", len(young)\n",
      "print \"ALL OLD\", len(all_old)\n",
      "print \"ALL Young\", len(all_young)\n",
      "\n",
      "print \"Chisquare testing distribution of OHNO genes in old and young parts of chromosome\"\n",
      "print chisquare(np.array([76, 147]), f_exp=np.array([111.5, 111.5]))\n",
      "\n",
      "print \"Fisher's exact test: \", fisher_exact([[len(old), len(young)],\n",
      "                                            [len(all_old)-len(old), len(all_young)-len(young)]])\n",
      "print tabulate([[\"\", \"OLD\",\"YOUNG\"],\n",
      "                [\"Ohno\", len(old), len(young)],\n",
      "                [\"No-ohno\",len(all_old)-len(old), len(all_young)-len(young)]])"
     ],
     "language": "python",
     "metadata": {},
     "outputs": [
      {
       "output_type": "stream",
       "stream": "stdout",
       "text": [
        "223\n",
        "Stratum 1 8\n",
        "Stratum 2 15\n",
        "Stratum 3 93\n",
        "Stratum 4 33\n",
        "MHM 31\n",
        "OLD 76\n",
        "YOUNG 147\n",
        "ALL OLD 322\n",
        "ALL Young 442\n",
        "Chisquare testing distribution of OHNO genes in old and young parts of chromosome\n",
        "(22.605381165919283, 1.9892665714285975e-06)\n",
        "Fisher's exact test:  (0.61998783253138656, 0.0037588888700665771)\n",
        "-------  ---  -----\n",
        "         OLD  YOUNG\n",
        "Ohno     76   147\n",
        "No-ohno  246  295\n",
        "-------  ---  -----\n"
       ]
      }
     ],
     "prompt_number": 311
    },
    {
     "cell_type": "markdown",
     "metadata": {},
     "source": [
      "The chisquare test indicates that less ohnologs are located in the old part of the Z chromosome."
     ]
    },
    {
     "cell_type": "code",
     "collapsed": false,
     "input": [
      "def comp_dc_old_young(young, old, biased, dc):\n",
      "    young_dc_ohno = []\n",
      "    young_no_dc_ohno = [] \n",
      "    old_dc_ohno = []\n",
      "    old_no_dc_ohno = []\n",
      "\n",
      "    for g in dc.index:\n",
      "        if g in young:\n",
      "            young_dc_ohno.append(g)\n",
      "        elif g in old:\n",
      "            old_dc_ohno.append(g)\n",
      "\n",
      "    for g in biased.index:\n",
      "        if g in young:\n",
      "            young_no_dc_ohno.append(g)\n",
      "        elif g in old:\n",
      "            old_no_dc_ohno.append(g)\n",
      "\n",
      "    print \n",
      "    print tabulate([[\"\", \"DC-OHNO\",\"NODC-OHNO\"],\n",
      "                    [\"YOUNG\", len(young_dc_ohno), len(young_no_dc_ohno)],\n",
      "                    [\"OLD\",len(old_dc_ohno), len(old_no_dc_ohno)]],\n",
      "                    headers=\"firstrow\")\n",
      "    print \"Sum: \", sum([len(young_dc_ohno), len(young_no_dc_ohno), len(old_dc_ohno), len(old_no_dc_ohno)])\n",
      "    print \"Fisher's exact test: \", fisher_exact([[len(young_dc_ohno), len(young_no_dc_ohno)],\n",
      "                                                    [len(old_dc_ohno), len(old_no_dc_ohno)]])\n",
      "\n",
      "comp_dc_old_young(young, old, Z_de_gonad_min2_biased, Z_de_gonad_min2_dc)\n",
      "comp_dc_old_young(young, old, Z_de_spleen_min2_biased, Z_de_spleen_min2_dc)\n",
      "comp_dc_old_young(young, old, Z_de_heart_min2_biased, Z_de_heart_min2_dc)\n",
      "comp_dc_old_young(young, old, Z_de_liver_min2_biased, Z_de_liver_min2_dc)\n",
      "\n",
      "print\n",
      "print \"Expected sums:\"\n",
      "for i in ['Spleen', 'Heart', 'Liver', \"Gonad\"]:\n",
      "    print i, len(fc_tissues[i][\"OHNO\"])"
     ],
     "language": "python",
     "metadata": {},
     "outputs": [
      {
       "output_type": "stream",
       "stream": "stdout",
       "text": [
        "\n",
        "         DC-OHNO    NODC-OHNO\n",
        "-----  ---------  -----------\n",
        "YOUNG         59           75\n",
        "OLD           27           40\n",
        "Sum:  201\n",
        "Fisher's exact test:  (1.1654320987654321, 0.65214756582715583)\n",
        "\n",
        "         DC-OHNO    NODC-OHNO\n",
        "-----  ---------  -----------\n",
        "YOUNG         87           32\n",
        "OLD           39           19\n",
        "Sum:  177\n",
        "Fisher's exact test:  (1.3245192307692308, 0.48023931084928095)\n",
        "\n",
        "         DC-OHNO    NODC-OHNO\n",
        "-----  ---------  -----------\n",
        "YOUNG         74           35\n",
        "OLD           37           19\n",
        "Sum:  165\n",
        "Fisher's exact test:  "
       ]
      },
      {
       "output_type": "stream",
       "stream": "stdout",
       "text": [
        "(1.0857142857142856, 0.86166743332693108)\n",
        "\n",
        "         DC-OHNO    NODC-OHNO\n",
        "-----  ---------  -----------\n",
        "YOUNG         72           26\n",
        "OLD           33           15\n",
        "Sum:  146\n",
        "Fisher's exact test:  (1.2587412587412588, 0.56188169909249619)\n",
        "\n",
        "Expected sums:\n",
        "Spleen 177\n",
        "Heart 165\n",
        "Liver 146\n",
        "Gonad 201\n"
       ]
      }
     ],
     "prompt_number": 312
    },
    {
     "cell_type": "markdown",
     "metadata": {},
     "source": [
      "In no tissue ohnologs are more likely to be dosage compensated in the old parts or vice versa."
     ]
    },
    {
     "cell_type": "markdown",
     "metadata": {},
     "source": [
      "## Are ohnologs less likely to be on the Z chromosome than on the autosomes?\n",
      "\n",
      "One possible explanation for the incomplete dosage compensation mechanism in birds may be that the Z chromosome has a lower than expected number of dosage-sensitive ohnologs.\n",
      "Here I compare the number of Z-linked ohnologs to the number of ohnologs located on the autosomes."
     ]
    },
    {
     "cell_type": "code",
     "collapsed": false,
     "input": [
      "len(ohnolog_curie_pairs_relaxed_ids)\n",
      "\n",
      "Z_OHNO = []\n",
      "AUTO_OHNO = []\n",
      "\n",
      "# Source Ensembl v 75 chicken karyotypes\n",
      "# total_protein_coding = 14496\n",
      "# Protein coding genes across the entire genome\n",
      "total_protein_coding = 15508\n",
      "Z_protein_coding = 764\n",
      "# also not significant using coding + non coding genes\n",
      "# total_genes = 17108\n",
      "# Z_genes = 859\n",
      "auto_protein_coding = total_protein_coding - Z_protein_coding\n",
      "\n",
      "for g in ohnolog_curie_pairs_relaxed_ids:\n",
      "    if g in gid_to_chr:\n",
      "        if gid_to_chr[g] == \"Z\":\n",
      "            Z_OHNO.append(g)\n",
      "        else:\n",
      "            AUTO_OHNO.append(g)\n",
      "\n",
      "print tabulate([[\"\", \"OHNO\",\"NO-OHNO\"],\n",
      "                [\"Z\", len(Z_OHNO), Z_protein_coding - len(Z_OHNO)],\n",
      "                [\"AUTO\", len(AUTO_OHNO), auto_protein_coding - len(AUTO_OHNO)]],\n",
      "                headers=\"firstrow\")\n",
      "print \"Fisher exact test: \\n\", fisher_exact([[len(Z_OHNO),(Z_protein_coding-len(Z_OHNO))],\n",
      "                                             [len(AUTO_OHNO),  (auto_protein_coding-len(AUTO_OHNO))]])"
     ],
     "language": "python",
     "metadata": {},
     "outputs": [
      {
       "output_type": "stream",
       "stream": "stdout",
       "text": [
        "        OHNO    NO-OHNO\n",
        "----  ------  ---------\n",
        "Z        223        541\n",
        "AUTO    4648      10096\n",
        "Fisher exact test: \n",
        "(0.8953458407169741, 0.18711639651628434)\n"
       ]
      }
     ],
     "prompt_number": 313
    },
    {
     "cell_type": "markdown",
     "metadata": {},
     "source": [
      "There is no difference in the distribution of ohnologs. There are almost as many as expected given the number of protein coding genes."
     ]
    }
   ],
   "metadata": {}
  }
 ]
}