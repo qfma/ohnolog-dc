{
 "cells": [
  {
   "cell_type": "markdown",
   "metadata": {},
   "source": [
    "## OHNOLOG DB candidates\n",
    "\n",
    "Using candidates from http://ohnologs.curie.fr/\n",
    "\n",
    "Question: Are ohnologs more likely to be protein complexes?"
   ]
  },
  {
   "cell_type": "code",
   "execution_count": 6,
   "metadata": {
    "collapsed": true
   },
   "outputs": [],
   "source": [
    "import numpy as np\n",
    "import pandas as pd\n",
    "from scipy.stats import fisher_exact\n",
    "import json"
   ]
  },
  {
   "cell_type": "code",
   "execution_count": 8,
   "metadata": {
    "collapsed": false
   },
   "outputs": [
    {
     "name": "stdout",
     "output_type": "stream",
     "text": [
      "Genes on the Z:  859\n"
     ]
    }
   ],
   "source": [
    "def read_gid_to_chr(infile):\n",
    "    gid_to_chr = {}\n",
    "    with open(infile, \"r\") as handle:\n",
    "        for line in handle:\n",
    "            if line.startswith(\"Ensembl\"):\n",
    "                continue\n",
    "            elif line.startswith(\"ENS\"):\n",
    "                line = line.rstrip().split()\n",
    "                gid_to_chr[line[0]] = line[1]\n",
    "    return gid_to_chr\n",
    "\n",
    "gid_to_chr = read_gid_to_chr(\"Gallus_gallus.75.gid.chr.tsv\")\n",
    "pid_to_chr = read_gid_to_chr(\"Gallus_gallus.75.pid.chr.tsv\")\n",
    "\n",
    "# Get a list of Z linked gene IDs\n",
    "Z_genes = [g for g, pos in gid_to_chr.items() if pos == \"Z\"]\n",
    "print(\"Genes on the Z: \",len(Z_genes))"
   ]
  },
  {
   "cell_type": "code",
   "execution_count": 12,
   "metadata": {
    "collapsed": false
   },
   "outputs": [
    {
     "name": "stdout",
     "output_type": "stream",
     "text": [
      "Number of protein complexes: 1991\n"
     ]
    }
   ],
   "source": [
    "def read_protein_complex_json(json_infile):\n",
    "    with open(json_infile, \"r\") as infile:  \n",
    "        data = json.load(infile)\n",
    "        return data\n",
    "\n",
    "protein_complexes = read_protein_complex_json(\"2015-05-14-ChickenComplexes.json\")\n",
    "print(\"Number of protein complexes:\", len(protein_complexes))"
   ]
  },
  {
   "cell_type": "code",
   "execution_count": 13,
   "metadata": {
    "collapsed": false
   },
   "outputs": [
    {
     "name": "stdout",
     "output_type": "stream",
     "text": [
      "Number of unique protein complex genes on the Z chromosome: 103\n",
      "Number of unique protein complex genes in the chicken genome: 2341\n"
     ]
    }
   ],
   "source": [
    "Z_protein_complexes = []\n",
    "all_protein_complexes = []\n",
    "for c in protein_complexes:\n",
    "    chicken_orthologs = protein_complexes[c][\"chicken_orthologs\"]\n",
    "    if chicken_orthologs:\n",
    "        for ortholog in chicken_orthologs:\n",
    "            gid = ortholog[\"id\"]\n",
    "            pid = ortholog[\"protein_id\"]\n",
    "            if pid_to_chr[pid] == \"Z\":\n",
    "                Z_protein_complexes.append(gid)\n",
    "            all_protein_complexes.append(gid)\n",
    "            \n",
    "Z_protein_complexes = list(set(Z_protein_complexes))\n",
    "all_protein_complexes = list(set(all_protein_complexes))\n",
    "print(\"Number of unique protein complex genes on the Z chromosome:\", len(Z_protein_complexes))\n",
    "print(\"Number of unique protein complex genes in the chicken genome:\", len(all_protein_complexes))"
   ]
  },
  {
   "cell_type": "code",
   "execution_count": 14,
   "metadata": {
    "collapsed": false
   },
   "outputs": [
    {
     "name": "stdout",
     "output_type": "stream",
     "text": [
      "5228\n",
      "223\n",
      "OHNO  NO-OHNO\n",
      "COMPLEX 28 75\n",
      "NO-COMPLEX 195 561\n",
      "(1.074051282051282, 0.81069774426237795)\n",
      "------\n",
      "OHNO  NO-OHNO\n",
      "COMPLEX 736 1605\n",
      "NO-COMPLEX 4135 10632\n",
      "(1.1790771734339862, 0.00066956883057440195)\n",
      "------\n"
     ]
    }
   ],
   "source": [
    "def read_ohnolog_pairs(infile):\n",
    "    ohnolog_pairs = pd.read_csv(infile,  sep='\\t')\n",
    "    return ohnolog_pairs\n",
    "\n",
    "def get_categories(ohnologs, Z_genes, protein_complexes):\n",
    "    results={\"COMPLEX_OHNO\": [],\n",
    "             \"NO_COMPLEX_OHNO\": [],\n",
    "             \"COMPLEX_NO_OHNO\": [],\n",
    "             \"NO_COMPLEX_NO_OHNO\": []\n",
    "            }\n",
    "    \n",
    "    for g in Z_genes:\n",
    "        \n",
    "        if g in protein_complexes:\n",
    "            if g in ohnologs:\n",
    "                results[\"COMPLEX_OHNO\"].append(g)\n",
    "            \n",
    "            else:\n",
    "                results[\"COMPLEX_NO_OHNO\"].append(g)\n",
    "            \n",
    "        else:\n",
    "            if g in ohnologs:\n",
    "                results[\"NO_COMPLEX_OHNO\"].append(g)\n",
    "            else:\n",
    "                results[\"NO_COMPLEX_NO_OHNO\"].append(g)\n",
    "                        \n",
    "    print(\"OHNO  NO-OHNO\")\n",
    "    print(\"COMPLEX\", len(results[\"COMPLEX_OHNO\"]), len(results[\"COMPLEX_NO_OHNO\"]))\n",
    "    print(\"NO-COMPLEX\",len(results[\"NO_COMPLEX_OHNO\"]), len(results[\"NO_COMPLEX_NO_OHNO\"]))\n",
    "    print (fisher_exact([[len(results[\"COMPLEX_OHNO\"]),len(results[\"COMPLEX_NO_OHNO\"])],\n",
    "                        [len(results[\"NO_COMPLEX_OHNO\"]), len(results[\"NO_COMPLEX_NO_OHNO\"])]]))\n",
    "    print(\"------\")\n",
    "    return results\n",
    "\n",
    "ohnolog_curie_pairs = read_ohnolog_pairs(\"CHICKEN.Pairs.Relaxed.2R.txt\")\n",
    "ohno1 = list(ohnolog_curie_pairs[\"Ohnolog-1 Id\"])\n",
    "ohno2 = list(ohnolog_curie_pairs[\"Ohnolog-2 Id\"])\n",
    "ohnolog_curie_pairs_relaxed_ids = list(set(ohno1+ohno2))\n",
    "print(len(ohnolog_curie_pairs_relaxed_ids))\n",
    "\n",
    "Z_ohnologs_curie = []\n",
    "for gid in ohnolog_curie_pairs_relaxed_ids:\n",
    "    # Some genes in the DB are not in this genome release Ensembl 75\n",
    "    if gid in gid_to_chr:\n",
    "        if gid_to_chr[gid] == \"Z\":\n",
    "            Z_ohnologs_curie.append(gid)\n",
    "print(len(Z_ohnologs_curie))\n",
    "\n",
    "dc_complex = get_categories(Z_ohnologs_curie, Z_genes, Z_protein_complexes)\n",
    "dc_complex = get_categories(ohnolog_curie_pairs_relaxed_ids, gid_to_chr.keys(), all_protein_complexes)"
   ]
  },
  {
   "cell_type": "code",
   "execution_count": 19,
   "metadata": {
    "collapsed": false
   },
   "outputs": [
    {
     "name": "stdout",
     "output_type": "stream",
     "text": [
      "0.176419965577\n",
      "0.130614177489\n"
     ]
    }
   ],
   "source": [
    "print 410./(1914+410)\n",
    "print 1931./(1931+12853)"
   ]
  },
  {
   "cell_type": "code",
   "execution_count": 1,
   "metadata": {
    "collapsed": false
   },
   "outputs": [
    {
     "data": {
      "text/plain": [
       "0.15109833709710532"
      ]
     },
     "execution_count": 1,
     "metadata": {},
     "output_type": "execute_result"
    }
   ],
   "source": [
    "736./(4135+736)"
   ]
  },
  {
   "cell_type": "code",
   "execution_count": 2,
   "metadata": {
    "collapsed": false
   },
   "outputs": [
    {
     "data": {
      "text/plain": [
       "0.13115959794067172"
      ]
     },
     "execution_count": 2,
     "metadata": {},
     "output_type": "execute_result"
    }
   ],
   "source": [
    "1605./(10632+1605)"
   ]
  },
  {
   "cell_type": "code",
   "execution_count": null,
   "metadata": {
    "collapsed": true
   },
   "outputs": [],
   "source": []
  }
 ],
 "metadata": {
  "kernelspec": {
   "display_name": "Python 3",
   "language": "python",
   "name": "python3"
  },
  "language_info": {
   "codemirror_mode": {
    "name": "ipython",
    "version": 3
   },
   "file_extension": ".py",
   "mimetype": "text/x-python",
   "name": "python",
   "nbconvert_exporter": "python",
   "pygments_lexer": "ipython3",
   "version": "3.5.1"
  }
 },
 "nbformat": 4,
 "nbformat_minor": 0
}
